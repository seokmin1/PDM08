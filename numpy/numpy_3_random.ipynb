{
  "nbformat": 4,
  "nbformat_minor": 0,
  "metadata": {
    "colab": {
      "name": "numpy_3_random.ipynb",
      "provenance": [],
      "collapsed_sections": [],
      "include_colab_link": true
    },
    "kernelspec": {
      "name": "python3",
      "display_name": "Python 3"
    }
  },
  "cells": [
    {
      "cell_type": "markdown",
      "metadata": {
        "id": "view-in-github",
        "colab_type": "text"
      },
      "source": [
        "<a href=\"https://colab.research.google.com/github/seokmin1/PDM08/blob/main/numpy/numpy_3_random.ipynb\" target=\"_parent\"><img src=\"https://colab.research.google.com/assets/colab-badge.svg\" alt=\"Open In Colab\"/></a>"
      ]
    },
    {
      "cell_type": "markdown",
      "metadata": {
        "id": "_zrirXHfgmyY"
      },
      "source": [
        "# numpy\n",
        "## random 서브모듈\n",
        "> [데이터싸이언스 스쿨:난수발생](https://datascienceschool.net/01%20python/03.05%20%EB%82%9C%EC%88%98%20%EB%B0%9C%EC%83%9D%EA%B3%BC%20%EC%B9%B4%EC%9A%B4%ED%8C%85.html)"
      ]
    },
    {
      "cell_type": "code",
      "metadata": {
        "id": "kQbzzSMZG2PX"
      },
      "source": [
        "import numpy as np"
      ],
      "execution_count": 1,
      "outputs": []
    },
    {
      "cell_type": "markdown",
      "metadata": {
        "id": "1Ry0YHkNFis5"
      },
      "source": [
        "## 난수 생성\n",
        "> NumPy의 random 서브모듈은 난수를 생성하는 다양한 명령을 제공.\n",
        "\n",
        "- rand: 0부터 1사이의 균일 분포 (uniform distribution)\n",
        "- randn: 가우시안 표준 정규 분포 (normal distribution, Gaussian)\n",
        "- randint: 균일 분포의 정수 난수 (uniform int)\n",
        "\n",
        "> randn()은 평균 0, 표준편차 1 인 가우시안 정규분포를 생성."
      ]
    },
    {
      "cell_type": "markdown",
      "metadata": {
        "id": "CtO1VxvurziR"
      },
      "source": [
        "### rand: 0부터 1사이의 균일 분포 (uniform distribution)"
      ]
    },
    {
      "cell_type": "code",
      "metadata": {
        "id": "LA1oF6aEG7kJ",
        "colab": {
          "base_uri": "https://localhost:8080/"
        },
        "outputId": "3aebe48f-5470-406c-88f3-af10321bad61"
      },
      "source": [
        "np.random.rand(5)"
      ],
      "execution_count": 113,
      "outputs": [
        {
          "output_type": "execute_result",
          "data": {
            "text/plain": [
              "array([0.19151945, 0.62210877, 0.43772774, 0.78535858, 0.77997581])"
            ]
          },
          "metadata": {},
          "execution_count": 113
        }
      ]
    },
    {
      "cell_type": "code",
      "metadata": {
        "id": "H6f4ix3NHCyR",
        "colab": {
          "base_uri": "https://localhost:8080/"
        },
        "outputId": "ecda98a1-cebf-4ea2-f9af-889b5f6112de"
      },
      "source": [
        "np.random.rand(5)"
      ],
      "execution_count": 3,
      "outputs": [
        {
          "output_type": "execute_result",
          "data": {
            "text/plain": [
              "array([0.54397759, 0.11724546, 0.45415975, 0.68273181, 0.60003606])"
            ]
          },
          "metadata": {},
          "execution_count": 3
        }
      ]
    },
    {
      "cell_type": "markdown",
      "metadata": {
        "id": "c88F6gf8r4K2"
      },
      "source": [
        "### randn: 가우시안 표준 정규 분포 (normal distribution, Gaussian)"
      ]
    },
    {
      "cell_type": "code",
      "metadata": {
        "id": "rtVfCL-uP2Tw",
        "colab": {
          "base_uri": "https://localhost:8080/"
        },
        "outputId": "2c7a3e92-8088-4e8e-a6cf-0367bfbcea70"
      },
      "source": [
        "np.random.randn(5)"
      ],
      "execution_count": 4,
      "outputs": [
        {
          "output_type": "execute_result",
          "data": {
            "text/plain": [
              "array([ 0.94484593, -0.81572008,  0.29315773, -0.23624597,  1.85399738])"
            ]
          },
          "metadata": {},
          "execution_count": 4
        }
      ]
    },
    {
      "cell_type": "code",
      "metadata": {
        "colab": {
          "base_uri": "https://localhost:8080/"
        },
        "id": "Cl2wq3NC1Y6o",
        "outputId": "1cb66bfa-0192-4f7d-ab2c-afdb589b9324"
      },
      "source": [
        "np.random.randn(5)"
      ],
      "execution_count": 36,
      "outputs": [
        {
          "output_type": "execute_result",
          "data": {
            "text/plain": [
              "array([ 0.11514787, -0.37914756, -1.7423562 , -1.30324275,  0.60512008])"
            ]
          },
          "metadata": {},
          "execution_count": 36
        }
      ]
    },
    {
      "cell_type": "markdown",
      "metadata": {
        "id": "wsvTzTFSsBSJ"
      },
      "source": [
        "### randint: 균일 분포의 정수 난수 (uniform int)\n",
        "- numpy.random.randint(low, high=None, size=None, dtype='l')"
      ]
    },
    {
      "cell_type": "code",
      "metadata": {
        "id": "WSvAH8uVs2Vb",
        "colab": {
          "base_uri": "https://localhost:8080/"
        },
        "outputId": "dfab4202-e14c-4615-9b39-9b4df35a5012"
      },
      "source": [
        "np.random.randint(5)"
      ],
      "execution_count": 27,
      "outputs": [
        {
          "output_type": "execute_result",
          "data": {
            "text/plain": [
              "2"
            ]
          },
          "metadata": {},
          "execution_count": 27
        }
      ]
    },
    {
      "cell_type": "code",
      "metadata": {
        "colab": {
          "base_uri": "https://localhost:8080/"
        },
        "id": "zM7jinDL2EBP",
        "outputId": "fbd016d4-a163-4d2e-c9db-60df8339c89d"
      },
      "source": [
        "# die number\n",
        "np.random.randint(1,7)"
      ],
      "execution_count": 42,
      "outputs": [
        {
          "output_type": "execute_result",
          "data": {
            "text/plain": [
              "3"
            ]
          },
          "metadata": {},
          "execution_count": 42
        }
      ]
    },
    {
      "cell_type": "code",
      "metadata": {
        "id": "McWHW15uQDPr",
        "colab": {
          "base_uri": "https://localhost:8080/"
        },
        "outputId": "a4d954a4-48a3-49a3-fddb-66c717e8d6ea"
      },
      "source": [
        "np.random.randint(5,9) "
      ],
      "execution_count": 47,
      "outputs": [
        {
          "output_type": "execute_result",
          "data": {
            "text/plain": [
              "8"
            ]
          },
          "metadata": {},
          "execution_count": 47
        }
      ]
    },
    {
      "cell_type": "code",
      "metadata": {
        "id": "oBsWu9FmQQSC",
        "colab": {
          "base_uri": "https://localhost:8080/"
        },
        "outputId": "aa400d8a-c388-491d-cac3-31233b0e208f"
      },
      "source": [
        "np.random.randint(0,10,5)"
      ],
      "execution_count": 39,
      "outputs": [
        {
          "output_type": "execute_result",
          "data": {
            "text/plain": [
              "array([9, 3, 7, 0, 2])"
            ]
          },
          "metadata": {},
          "execution_count": 39
        }
      ]
    },
    {
      "cell_type": "code",
      "metadata": {
        "id": "0kNuJxjaQYEu",
        "colab": {
          "base_uri": "https://localhost:8080/"
        },
        "outputId": "11dae937-43e8-4627-d930-33a38f2dd3ee"
      },
      "source": [
        "np.random.randint(0,10,5)"
      ],
      "execution_count": 7,
      "outputs": [
        {
          "output_type": "execute_result",
          "data": {
            "text/plain": [
              "array([8, 7, 5, 9, 9])"
            ]
          },
          "metadata": {},
          "execution_count": 7
        }
      ]
    },
    {
      "cell_type": "markdown",
      "metadata": {
        "id": "K58DiNYUmANL"
      },
      "source": [
        "---"
      ]
    },
    {
      "cell_type": "markdown",
      "metadata": {
        "id": "xU5NWjQ3F_ld"
      },
      "source": [
        "## 난수 생성 seed 설정\n",
        "- numpy.random.seed(seed=None)\n",
        "- np.random.seed(number)"
      ]
    },
    {
      "cell_type": "code",
      "metadata": {
        "id": "AxUeYmQSQawG"
      },
      "source": [
        "np.random.seed()"
      ],
      "execution_count": 48,
      "outputs": []
    },
    {
      "cell_type": "code",
      "metadata": {
        "id": "C33YjKqvRJ33",
        "colab": {
          "base_uri": "https://localhost:8080/"
        },
        "outputId": "a9985bee-2061-4c1b-c45c-53680f9a1c92"
      },
      "source": [
        "np.random.rand(5)"
      ],
      "execution_count": 51,
      "outputs": [
        {
          "output_type": "execute_result",
          "data": {
            "text/plain": [
              "array([0.51130149, 0.78328212, 0.48616577, 0.28866597, 0.40186571])"
            ]
          },
          "metadata": {},
          "execution_count": 51
        }
      ]
    },
    {
      "cell_type": "code",
      "metadata": {
        "id": "Ne8rIyN9RO81",
        "colab": {
          "base_uri": "https://localhost:8080/"
        },
        "outputId": "ce4023d0-4e3e-43ff-fa39-cb3b4fb8c5cf"
      },
      "source": [
        "np.random.rand(5)"
      ],
      "execution_count": 10,
      "outputs": [
        {
          "output_type": "execute_result",
          "data": {
            "text/plain": [
              "array([0.82913534, 0.51551919, 0.87697189, 0.29718403, 0.82479885])"
            ]
          },
          "metadata": {},
          "execution_count": 10
        }
      ]
    },
    {
      "cell_type": "markdown",
      "metadata": {
        "id": "wnQ4gFoltu81"
      },
      "source": [
        "### 동일한 무작위수 생성\n",
        "- seed를 고정하고 무작위수 생성"
      ]
    },
    {
      "cell_type": "code",
      "metadata": {
        "id": "LGPOJGfgRSWx"
      },
      "source": [
        "np.random.seed(1234)"
      ],
      "execution_count": 52,
      "outputs": []
    },
    {
      "cell_type": "code",
      "metadata": {
        "id": "t2PNRUpfRXZk",
        "colab": {
          "base_uri": "https://localhost:8080/"
        },
        "outputId": "2dda71e5-60fe-4ab2-c3d4-f95dcf4a1801"
      },
      "source": [
        "np.random.rand(5)"
      ],
      "execution_count": 53,
      "outputs": [
        {
          "output_type": "execute_result",
          "data": {
            "text/plain": [
              "array([0.19151945, 0.62210877, 0.43772774, 0.78535858, 0.77997581])"
            ]
          },
          "metadata": {},
          "execution_count": 53
        }
      ]
    },
    {
      "cell_type": "code",
      "metadata": {
        "id": "x8yKednV8CZy",
        "colab": {
          "base_uri": "https://localhost:8080/"
        },
        "outputId": "530c910f-29fd-40cb-ceab-4a27a870a1a1"
      },
      "source": [
        "np.random.rand(5)"
      ],
      "execution_count": 13,
      "outputs": [
        {
          "output_type": "execute_result",
          "data": {
            "text/plain": [
              "array([0.27259261, 0.27646426, 0.80187218, 0.95813935, 0.87593263])"
            ]
          },
          "metadata": {},
          "execution_count": 13
        }
      ]
    },
    {
      "cell_type": "code",
      "metadata": {
        "id": "bo2A_ntYRcKw"
      },
      "source": [
        "np.random.seed(1234)"
      ],
      "execution_count": 54,
      "outputs": []
    },
    {
      "cell_type": "code",
      "metadata": {
        "id": "U5qXdwYQRYeT",
        "colab": {
          "base_uri": "https://localhost:8080/"
        },
        "outputId": "032a33d2-bff5-48db-896e-8bedbf154ae8"
      },
      "source": [
        "np.random.rand(5)"
      ],
      "execution_count": 55,
      "outputs": [
        {
          "output_type": "execute_result",
          "data": {
            "text/plain": [
              "array([0.19151945, 0.62210877, 0.43772774, 0.78535858, 0.77997581])"
            ]
          },
          "metadata": {},
          "execution_count": 55
        }
      ]
    },
    {
      "cell_type": "markdown",
      "metadata": {
        "id": "pwMXGAwmRhpW"
      },
      "source": [
        "### seed 고정 후에 randint(5)"
      ]
    },
    {
      "cell_type": "code",
      "metadata": {
        "id": "tqmTOMMVRhGW",
        "colab": {
          "base_uri": "https://localhost:8080/"
        },
        "outputId": "250900ec-b691-4f73-d769-5c3f998774d4"
      },
      "source": [
        "np.random.seed(5678)\n",
        "np.random.randint(1,10,5)"
      ],
      "execution_count": 56,
      "outputs": [
        {
          "output_type": "execute_result",
          "data": {
            "text/plain": [
              "array([5, 8, 3, 5, 4])"
            ]
          },
          "metadata": {},
          "execution_count": 56
        }
      ]
    },
    {
      "cell_type": "code",
      "metadata": {
        "id": "YxQYjcOLSA-Z",
        "colab": {
          "base_uri": "https://localhost:8080/"
        },
        "outputId": "6dc67c93-97c6-406d-c915-601d69d1e2f6"
      },
      "source": [
        "np.random.randint(1,10,5)"
      ],
      "execution_count": 17,
      "outputs": [
        {
          "output_type": "execute_result",
          "data": {
            "text/plain": [
              "array([6, 3, 7, 4, 1])"
            ]
          },
          "metadata": {},
          "execution_count": 17
        }
      ]
    },
    {
      "cell_type": "code",
      "metadata": {
        "id": "aQYF5QpGSD6p",
        "colab": {
          "base_uri": "https://localhost:8080/"
        },
        "outputId": "8d5ab722-e0d0-49b7-f217-7f25153f87fc"
      },
      "source": [
        "np.random.seed(5678)\n",
        "np.random.randint(1,10,5)"
      ],
      "execution_count": 57,
      "outputs": [
        {
          "output_type": "execute_result",
          "data": {
            "text/plain": [
              "array([5, 8, 3, 5, 4])"
            ]
          },
          "metadata": {},
          "execution_count": 57
        }
      ]
    },
    {
      "cell_type": "code",
      "metadata": {
        "id": "cfIhMEcVSGKa",
        "colab": {
          "base_uri": "https://localhost:8080/"
        },
        "outputId": "5d0b50c1-8161-46c2-c804-f20e7df75cc4"
      },
      "source": [
        "np.random.seed(5678)\n",
        "np.random.randint(1,10,5)"
      ],
      "execution_count": 18,
      "outputs": [
        {
          "output_type": "execute_result",
          "data": {
            "text/plain": [
              "array([5, 8, 3, 5, 4])"
            ]
          },
          "metadata": {},
          "execution_count": 18
        }
      ]
    },
    {
      "cell_type": "code",
      "metadata": {
        "id": "Ik9a-QkcfLwy",
        "colab": {
          "base_uri": "https://localhost:8080/"
        },
        "outputId": "a14dfc1d-fe18-4078-f864-d689e2855b9b"
      },
      "source": [
        "# seed 변경\n",
        "np.random.seed(0)\n",
        "np.random.randint(1,10,5)"
      ],
      "execution_count": 19,
      "outputs": [
        {
          "output_type": "execute_result",
          "data": {
            "text/plain": [
              "array([6, 1, 4, 4, 8])"
            ]
          },
          "metadata": {},
          "execution_count": 19
        }
      ]
    },
    {
      "cell_type": "markdown",
      "metadata": {
        "id": "Zg3g31drmDMI"
      },
      "source": [
        "---\n",
        "---"
      ]
    },
    {
      "cell_type": "markdown",
      "metadata": {
        "id": "YNVh_pbhfROq"
      },
      "source": [
        "## DIY: 도전 코딩 - numpy 정리 과제\n",
        "- 생성된 마구잡이수를 조사하고 사용하기 \n",
        "- 9월19일 자정 마감."
      ]
    },
    {
      "cell_type": "markdown",
      "metadata": {
        "id": "vxNHFDSIgMmC"
      },
      "source": [
        "### [도전 1.] 0부터 9까지의 마구잡이 정수를 1000개 만들고 각 수의 빈도를 구하시오. "
      ]
    },
    {
      "cell_type": "code",
      "metadata": {
        "id": "qkDfXH1xgjBz",
        "colab": {
          "base_uri": "https://localhost:8080/"
        },
        "outputId": "4b625651-6d6f-4d69-9559-f28a604a097d"
      },
      "source": [
        "# n1000=\n",
        "from collections import Counter\n",
        "n1000 = np.random.randint(0,10,1000)\n",
        "n1000\n",
        "arr= n1000\n",
        "frequency = Counter(arr)\n",
        "print(frequency)\n"
      ],
      "execution_count": 102,
      "outputs": [
        {
          "output_type": "stream",
          "name": "stdout",
          "text": [
            "Counter({8: 131, 4: 110, 9: 108, 2: 107, 5: 100, 1: 100, 3: 98, 7: 86, 0: 80, 6: 80})\n"
          ]
        }
      ]
    },
    {
      "cell_type": "code",
      "metadata": {
        "id": "9_6nzbQD3FZi",
        "colab": {
          "base_uri": "https://localhost:8080/"
        },
        "outputId": "d166e836-b2f1-470c-beb7-11ad8e765817"
      },
      "source": [
        "np.unique(n1000)"
      ],
      "execution_count": 88,
      "outputs": [
        {
          "output_type": "execute_result",
          "data": {
            "text/plain": [
              "array([0, 1, 2, 3, 4, 5, 6, 7, 8, 9])"
            ]
          },
          "metadata": {},
          "execution_count": 88
        }
      ]
    },
    {
      "cell_type": "code",
      "metadata": {
        "id": "eiw9R1243Rzp",
        "colab": {
          "base_uri": "https://localhost:8080/"
        },
        "outputId": "f6ed6c5d-3beb-4466-ac21-104071d1ec14"
      },
      "source": [
        "# 각 수의 빈도\n",
        "count= np.unique(n1000, return_counts=True)\n",
        "print(count)"
      ],
      "execution_count": 103,
      "outputs": [
        {
          "output_type": "stream",
          "name": "stdout",
          "text": [
            "(array([0, 1, 2, 3, 4, 5, 6, 7, 8, 9]), array([ 80, 100, 107,  98, 110, 100,  80,  86, 131, 108]))\n"
          ]
        }
      ]
    },
    {
      "cell_type": "markdown",
      "metadata": {
        "id": "cIhlY6-GghMN"
      },
      "source": [
        "### [도전 2.] 0부터 9까지의 마구잡이 정수를 1000개 만들고 각 수가 처음 출현하는 인덱스를 구하시오.\n",
        "> 0이 처음 나타날 때의 인덱스, 1이 처음 나타날 때의 인덱스, ... "
      ]
    },
    {
      "cell_type": "code",
      "metadata": {
        "colab": {
          "base_uri": "https://localhost:8080/"
        },
        "id": "a3xK9f0p49m6",
        "outputId": "319fec94-a3b8-4fc5-f8f4-41a2a53c5689"
      },
      "source": [
        "n1000 = np.random.randint(0,10,1000)\n",
        "val, index = np.unique(n1000, return_index= True)\n",
        "n1000"
      ],
      "execution_count": 136,
      "outputs": [
        {
          "output_type": "execute_result",
          "data": {
            "text/plain": [
              "array([0, 4, 1, 6, 3, 6, 2, 6, 0, 2, 1, 0, 2, 8, 0, 7, 4, 6, 0, 9, 4, 8,\n",
              "       0, 1, 6, 5, 5, 0, 8, 6, 0, 7, 7, 7, 8, 4, 8, 4, 6, 9, 5, 4, 1, 9,\n",
              "       5, 5, 8, 1, 6, 3, 7, 2, 8, 3, 8, 2, 5, 4, 5, 3, 6, 7, 7, 1, 8, 0,\n",
              "       9, 3, 8, 0, 5, 5, 3, 8, 4, 2, 1, 6, 1, 7, 5, 2, 3, 3, 7, 0, 6, 0,\n",
              "       4, 2, 0, 9, 0, 1, 7, 5, 7, 9, 3, 7, 5, 0, 2, 9, 1, 7, 5, 0, 9, 2,\n",
              "       2, 2, 0, 9, 8, 9, 7, 3, 2, 5, 0, 6, 9, 6, 6, 4, 1, 9, 9, 1, 1, 1,\n",
              "       1, 7, 0, 2, 1, 8, 1, 9, 6, 1, 1, 7, 5, 1, 1, 6, 4, 4, 5, 0, 1, 4,\n",
              "       5, 7, 6, 4, 7, 4, 3, 3, 5, 6, 1, 4, 5, 4, 8, 9, 8, 2, 7, 1, 8, 8,\n",
              "       3, 8, 7, 0, 8, 2, 9, 9, 4, 9, 0, 7, 4, 0, 5, 5, 6, 2, 9, 0, 3, 9,\n",
              "       5, 0, 3, 3, 9, 7, 2, 6, 8, 9, 3, 4, 8, 3, 2, 8, 9, 2, 7, 9, 9, 7,\n",
              "       5, 8, 7, 8, 0, 2, 0, 2, 9, 6, 5, 6, 9, 8, 1, 2, 4, 0, 2, 6, 8, 1,\n",
              "       5, 4, 7, 6, 4, 4, 8, 2, 6, 1, 2, 9, 1, 8, 5, 7, 6, 8, 2, 5, 6, 4,\n",
              "       5, 8, 5, 8, 4, 4, 0, 8, 9, 6, 1, 2, 3, 5, 0, 0, 9, 4, 8, 8, 3, 7,\n",
              "       6, 7, 4, 2, 5, 3, 4, 1, 5, 6, 2, 9, 8, 5, 0, 2, 8, 1, 4, 7, 4, 0,\n",
              "       3, 2, 7, 4, 0, 7, 9, 9, 5, 7, 6, 0, 9, 6, 7, 4, 5, 2, 9, 3, 0, 8,\n",
              "       2, 7, 8, 2, 5, 3, 7, 2, 2, 9, 1, 9, 1, 9, 7, 2, 5, 1, 4, 9, 6, 2,\n",
              "       2, 2, 0, 5, 3, 9, 0, 2, 7, 6, 8, 0, 0, 9, 6, 5, 9, 8, 2, 8, 8, 3,\n",
              "       4, 2, 5, 3, 1, 7, 0, 2, 2, 0, 1, 5, 7, 5, 7, 6, 7, 5, 2, 8, 5, 5,\n",
              "       0, 6, 2, 1, 7, 1, 1, 0, 7, 1, 7, 1, 2, 9, 0, 4, 8, 7, 4, 4, 3, 1,\n",
              "       9, 7, 4, 4, 5, 1, 8, 2, 5, 6, 9, 9, 6, 3, 4, 5, 9, 6, 8, 2, 1, 4,\n",
              "       5, 7, 0, 8, 0, 0, 6, 9, 6, 7, 7, 8, 1, 4, 1, 2, 1, 0, 8, 2, 8, 7,\n",
              "       8, 6, 4, 4, 5, 1, 8, 1, 4, 8, 2, 5, 5, 0, 6, 6, 4, 1, 0, 4, 7, 0,\n",
              "       0, 2, 6, 2, 6, 4, 4, 9, 7, 8, 6, 2, 0, 1, 8, 4, 8, 4, 7, 7, 4, 0,\n",
              "       3, 8, 7, 6, 4, 6, 2, 7, 5, 4, 5, 3, 5, 6, 7, 2, 1, 6, 4, 2, 9, 5,\n",
              "       8, 9, 5, 1, 9, 2, 2, 6, 8, 1, 1, 8, 1, 2, 1, 6, 3, 7, 4, 4, 9, 4,\n",
              "       4, 7, 2, 5, 3, 8, 9, 2, 0, 0, 8, 7, 2, 5, 6, 6, 1, 4, 9, 2, 3, 1,\n",
              "       0, 7, 6, 6, 0, 7, 0, 0, 0, 3, 8, 0, 2, 4, 4, 8, 0, 7, 7, 4, 8, 6,\n",
              "       8, 5, 4, 6, 8, 4, 1, 1, 7, 2, 7, 4, 2, 9, 7, 0, 0, 1, 0, 5, 0, 7,\n",
              "       1, 0, 7, 6, 7, 0, 7, 6, 2, 6, 6, 7, 8, 7, 5, 6, 1, 8, 9, 2, 1, 9,\n",
              "       7, 3, 6, 0, 8, 5, 9, 0, 3, 1, 0, 7, 7, 3, 1, 6, 6, 9, 9, 4, 6, 7,\n",
              "       7, 5, 8, 8, 0, 5, 7, 0, 6, 0, 6, 0, 9, 0, 9, 8, 0, 9, 0, 4, 7, 0,\n",
              "       9, 2, 7, 1, 4, 8, 0, 6, 6, 5, 7, 7, 5, 8, 3, 4, 9, 0, 7, 7, 3, 0,\n",
              "       2, 3, 6, 3, 8, 5, 2, 9, 7, 3, 7, 9, 9, 8, 3, 2, 0, 6, 8, 7, 2, 0,\n",
              "       7, 7, 8, 3, 8, 1, 5, 7, 7, 5, 9, 6, 2, 9, 5, 8, 1, 3, 1, 7, 6, 8,\n",
              "       0, 6, 5, 9, 9, 9, 5, 4, 3, 0, 4, 2, 9, 8, 3, 3, 6, 8, 7, 1, 4, 1,\n",
              "       8, 2, 4, 8, 3, 7, 9, 3, 9, 4, 4, 7, 0, 2, 8, 7, 4, 9, 3, 6, 7, 6,\n",
              "       9, 3, 3, 7, 7, 4, 6, 2, 9, 2, 8, 8, 0, 6, 3, 7, 6, 2, 0, 8, 2, 4,\n",
              "       6, 3, 8, 5, 7, 3, 6, 7, 9, 6, 2, 5, 5, 9, 0, 7, 2, 8, 5, 6, 7, 6,\n",
              "       1, 0, 5, 3, 2, 7, 1, 2, 6, 4, 7, 4, 7, 9, 2, 2, 2, 5, 0, 3, 0, 7,\n",
              "       8, 2, 8, 5, 9, 0, 3, 5, 0, 6, 7, 7, 9, 7, 5, 0, 5, 7, 6, 1, 1, 7,\n",
              "       0, 3, 0, 1, 3, 8, 5, 4, 3, 9, 1, 8, 2, 0, 7, 2, 3, 4, 5, 5, 9, 6,\n",
              "       2, 8, 8, 9, 5, 1, 7, 8, 3, 4, 1, 0, 3, 1, 2, 7, 3, 0, 1, 0, 1, 2,\n",
              "       7, 1, 5, 8, 7, 2, 2, 7, 6, 6, 7, 9, 6, 3, 6, 7, 7, 3, 7, 9, 4, 3,\n",
              "       4, 0, 8, 2, 6, 9, 3, 9, 3, 5, 0, 0, 8, 4, 9, 7, 8, 9, 3, 5, 8, 1,\n",
              "       0, 3, 7, 4, 0, 1, 5, 0, 5, 3, 7, 3, 1, 8, 1, 3, 4, 4, 6, 3, 1, 2,\n",
              "       3, 0, 1, 7, 7, 0, 3, 5, 1, 3])"
            ]
          },
          "metadata": {},
          "execution_count": 136
        }
      ]
    },
    {
      "cell_type": "code",
      "metadata": {
        "id": "OolDKQZDE797"
      },
      "source": [
        "import numpy"
      ],
      "execution_count": 110,
      "outputs": []
    },
    {
      "cell_type": "code",
      "metadata": {
        "id": "t1v7gL1XE_sS"
      },
      "source": [
        "n1000 = numpy.array(n1000)"
      ],
      "execution_count": 109,
      "outputs": []
    },
    {
      "cell_type": "code",
      "metadata": {
        "colab": {
          "base_uri": "https://localhost:8080/"
        },
        "id": "Ls4-k0EuFBhh",
        "outputId": "d8e33f4c-2622-4d06-b91f-3d555c34a9d8"
      },
      "source": [
        "numpy.where(n1000 == 0)[0]"
      ],
      "execution_count": 141,
      "outputs": [
        {
          "output_type": "execute_result",
          "data": {
            "text/plain": [
              "array([  0,   8,  11,  14,  18,  22,  27,  30,  65,  69,  85,  87,  90,\n",
              "        92, 101, 107, 112, 120, 134, 151, 179, 186, 189, 195, 199, 224,\n",
              "       226, 237, 270, 278, 279, 300, 307, 312, 319, 328, 354, 358, 363,\n",
              "       364, 380, 383, 396, 403, 410, 442, 444, 445, 457, 475, 480, 483,\n",
              "       484, 496, 505, 558, 559, 572, 576, 578, 579, 580, 583, 588, 609,\n",
              "       610, 612, 614, 617, 621, 641, 645, 648, 664, 667, 669, 671, 673,\n",
              "       676, 678, 681, 688, 699, 703, 720, 725, 748, 757, 782, 804, 810,\n",
              "       828, 837, 854, 856, 863, 866, 873, 880, 882, 893, 913, 919, 921,\n",
              "       947, 956, 957, 968, 972, 975, 991, 995])"
            ]
          },
          "metadata": {},
          "execution_count": 141
        }
      ]
    },
    {
      "cell_type": "code",
      "metadata": {
        "id": "oA1ec_RjgL3X",
        "colab": {
          "base_uri": "https://localhost:8080/"
        },
        "outputId": "8a8d0907-79a7-4520-be91-543208d6ff83"
      },
      "source": [
        "numpy.where(n1000 == 1)[0]\n"
      ],
      "execution_count": 142,
      "outputs": [
        {
          "output_type": "execute_result",
          "data": {
            "text/plain": [
              "array([  2,  10,  23,  42,  47,  63,  76,  78,  93, 104, 126, 129, 130,\n",
              "       131, 132, 136, 138, 141, 142, 145, 146, 152, 164, 173, 234, 241,\n",
              "       251, 254, 274, 293, 303, 340, 342, 347, 378, 384, 399, 401, 402,\n",
              "       405, 407, 417, 423, 438, 452, 454, 456, 467, 469, 479, 497, 522,\n",
              "       531, 537, 538, 540, 542, 566, 571, 600, 601, 611, 616, 632, 636,\n",
              "       647, 652, 685, 731, 742, 744, 767, 769, 836, 842, 877, 878, 883,\n",
              "       890, 907, 912, 915, 920, 922, 925, 967, 973, 980, 982, 988, 992,\n",
              "       998])"
            ]
          },
          "metadata": {},
          "execution_count": 142
        }
      ]
    },
    {
      "cell_type": "code",
      "metadata": {
        "id": "yubibMMZ4AZS"
      },
      "source": [
        "# n1000[index]\n"
      ],
      "execution_count": 144,
      "outputs": []
    },
    {
      "cell_type": "markdown",
      "metadata": {
        "id": "sadkRzWjgiTM"
      },
      "source": [
        "### [도전 3.] seed를 1234로 고정하고, 위의 도전1,2를 다시 해보시오. "
      ]
    },
    {
      "cell_type": "code",
      "metadata": {
        "id": "nZAaNnDkFXdw"
      },
      "source": [
        "np.random.seed(1234)\n",
        "np.random.randint(0,10,1000)\n",
        "n1000\n",
        "np.unique(n1000)\n",
        "val, count= np.unique(n1000, return_counts=True)\n",
        "\n"
      ],
      "execution_count": 160,
      "outputs": []
    },
    {
      "cell_type": "code",
      "metadata": {
        "colab": {
          "base_uri": "https://localhost:8080/"
        },
        "id": "PKHW0FH9MuML",
        "outputId": "61cb0f5f-fd82-459e-caeb-1c4154492dbd"
      },
      "source": [
        "value, count"
      ],
      "execution_count": 161,
      "outputs": [
        {
          "output_type": "execute_result",
          "data": {
            "text/plain": [
              "(array([0, 1, 2, 3, 4, 5, 6, 7, 8, 9]),\n",
              " array([112,  92, 102,  81,  92,  93,  99, 130, 105,  94]))"
            ]
          },
          "metadata": {},
          "execution_count": 161
        }
      ]
    },
    {
      "cell_type": "code",
      "metadata": {
        "colab": {
          "base_uri": "https://localhost:8080/"
        },
        "id": "oh1hWN-GLzF2",
        "outputId": "4e456cf6-03f3-4dcf-e715-4cd8bb67551a"
      },
      "source": [
        "n1000 = np.random.randint(0,10,1000)\n",
        "val, index = np.unique(n1000, return_index= True)\n",
        "n1000\n",
        "np.unique(n1000)\n",
        "print(index)\n"
      ],
      "execution_count": 157,
      "outputs": [
        {
          "output_type": "stream",
          "name": "stdout",
          "text": [
            "[ 0  2  6  4  1 25  3 15 13 19]\n"
          ]
        }
      ]
    },
    {
      "cell_type": "code",
      "metadata": {
        "colab": {
          "base_uri": "https://localhost:8080/"
        },
        "id": "H4x8RBpTNI4Z",
        "outputId": "fd627615-c218-4ff8-aed8-30a3a10cfb89"
      },
      "source": [
        "value, index"
      ],
      "execution_count": 158,
      "outputs": [
        {
          "output_type": "execute_result",
          "data": {
            "text/plain": [
              "(array([0, 1, 2, 3, 4, 5, 6, 7, 8, 9]),\n",
              " array([ 0,  2,  6,  4,  1, 25,  3, 15, 13, 19]))"
            ]
          },
          "metadata": {},
          "execution_count": 158
        }
      ]
    },
    {
      "cell_type": "markdown",
      "metadata": {
        "id": "zAGojAainnox"
      },
      "source": [
        "### [도전 4.] 0부터 999까지의 마구잡이 정수로 구성되는 28X28 이차원배열을 만드시오.\n",
        "- 시드를 고정 : np.random.seed(1234)\n",
        "1. 각 행의 최대값, 최소갑을 구하시오.\n",
        "2. 배열 전체의 최대값, 최소값을 구하시오.\n",
        "3. 배열전체의 최대값, 최소값의 index를 각각 찾으시오."
      ]
    },
    {
      "cell_type": "code",
      "metadata": {
        "id": "T3GRniQnFcJ3"
      },
      "source": [
        "np.random.seed(1234)"
      ],
      "execution_count": 112,
      "outputs": []
    },
    {
      "cell_type": "code",
      "metadata": {
        "id": "sKqTDXqcFcmg"
      },
      "source": [
        ""
      ],
      "execution_count": null,
      "outputs": []
    },
    {
      "cell_type": "markdown",
      "metadata": {
        "id": "VoSu8rNOnwPU"
      },
      "source": [
        "---\n",
        "---"
      ]
    },
    {
      "cell_type": "markdown",
      "metadata": {
        "id": "ozoCcRquhg4p"
      },
      "source": [
        "## python graphics\n",
        "- matplotlib\n",
        "> import matplotlib.pyplot as plt"
      ]
    },
    {
      "cell_type": "markdown",
      "metadata": {
        "id": "h6yEJiGJ4Lbk"
      },
      "source": [
        "### 무작위수 분포 그려보기"
      ]
    },
    {
      "cell_type": "code",
      "metadata": {
        "id": "ngcwuNlfhrIQ"
      },
      "source": [
        "import matplotlib.pyplot as plt"
      ],
      "execution_count": 97,
      "outputs": []
    },
    {
      "cell_type": "code",
      "metadata": {
        "id": "jr30IHxvJDuE",
        "colab": {
          "base_uri": "https://localhost:8080/",
          "height": 322
        },
        "outputId": "37e32516-f6a6-435b-c23a-427dc543af5d"
      },
      "source": [
        "plt.hist(n1000,label=range(0,10), color='red')#, bins=100)\n",
        "# plt.show()"
      ],
      "execution_count": 98,
      "outputs": [
        {
          "output_type": "execute_result",
          "data": {
            "text/plain": [
              "(array([ 91., 106.,  85.,  96., 108., 115., 111., 108.,  96.,  84.]),\n",
              " array([0. , 0.9, 1.8, 2.7, 3.6, 4.5, 5.4, 6.3, 7.2, 8.1, 9. ]),\n",
              " <a list of 10 Patch objects>)"
            ]
          },
          "metadata": {},
          "execution_count": 98
        },
        {
          "output_type": "display_data",
          "data": {
            "image/png": "[encoded data removed]",
            "text/plain": [
              "<Figure size 432x288 with 1 Axes>"
            ]
          },
          "metadata": {
            "needs_background": "light"
          }
        }
      ]
    },
    {
      "cell_type": "markdown",
      "metadata": {
        "id": "b-JcgSU-Ktyz"
      },
      "source": [
        "### [도전] 균일분포와 정규분포를 비교하는 그림을 그리시오."
      ]
    },
    {
      "cell_type": "code",
      "metadata": {
        "id": "k0XaT2f9JGZy",
        "colab": {
          "base_uri": "https://localhost:8080/",
          "height": 590
        },
        "outputId": "7908348b-bf1a-47c0-93df-a9ee535ed9b3"
      },
      "source": [
        "plt.hist(np.random.rand(1000), bins =50)"
      ],
      "execution_count": 101,
      "outputs": [
        {
          "output_type": "execute_result",
          "data": {
            "text/plain": [
              "(array([15., 19., 16., 21., 18., 19., 21.,  9., 23., 16., 22., 13., 14.,\n",
              "        15., 17., 18., 17., 12., 22., 19., 26., 19., 19., 20., 18., 25.,\n",
              "        18., 26., 19., 12., 12., 28., 20., 27., 29., 19., 29., 24., 22.,\n",
              "        23., 24., 25., 28., 15., 18., 20., 19., 20., 25., 25.]),\n",
              " array([3.44063265e-04, 2.03313736e-02, 4.03186838e-02, 6.03059941e-02,\n",
              "        8.02933044e-02, 1.00280615e-01, 1.20267925e-01, 1.40255235e-01,\n",
              "        1.60242546e-01, 1.80229856e-01, 2.00217166e-01, 2.20204476e-01,\n",
              "        2.40191787e-01, 2.60179097e-01, 2.80166407e-01, 3.00153718e-01,\n",
              "        3.20141028e-01, 3.40128338e-01, 3.60115648e-01, 3.80102959e-01,\n",
              "        4.00090269e-01, 4.20077579e-01, 4.40064890e-01, 4.60052200e-01,\n",
              "        4.80039510e-01, 5.00026820e-01, 5.20014131e-01, 5.40001441e-01,\n",
              "        5.59988751e-01, 5.79976062e-01, 5.99963372e-01, 6.19950682e-01,\n",
              "        6.39937992e-01, 6.59925303e-01, 6.79912613e-01, 6.99899923e-01,\n",
              "        7.19887234e-01, 7.39874544e-01, 7.59861854e-01, 7.79849164e-01,\n",
              "        7.99836475e-01, 8.19823785e-01, 8.39811095e-01, 8.59798406e-01,\n",
              "        8.79785716e-01, 8.99773026e-01, 9.19760336e-01, 9.39747647e-01,\n",
              "        9.59734957e-01, 9.79722267e-01, 9.99709578e-01]),\n",
              " <a list of 50 Patch objects>)"
            ]
          },
          "metadata": {},
          "execution_count": 101
        },
        {
          "output_type": "display_data",
          "data": {
            "image/png": "[encoded data removed]",
            "text/plain": [
              "<Figure size 432x288 with 1 Axes>"
            ]
          },
          "metadata": {
            "needs_background": "light"
          }
        }
      ]
    },
    {
      "cell_type": "code",
      "metadata": {
        "id": "T8SCqKVeMhBF",
        "colab": {
          "base_uri": "https://localhost:8080/",
          "height": 373
        },
        "outputId": "512bf4dc-8896-4601-8066-7f061018cf07"
      },
      "source": [
        "plt.hist(np.random.randn(100000))"
      ],
      "execution_count": 99,
      "outputs": [
        {
          "output_type": "execute_result",
          "data": {
            "text/plain": [
              "(array([2.0000e+02, 2.0310e+03, 9.9200e+03, 2.5463e+04, 3.2839e+04,\n",
              "        2.1206e+04, 7.0720e+03, 1.1740e+03, 9.0000e+01, 5.0000e+00]),\n",
              " array([-3.70745934, -2.85836726, -2.00927519, -1.16018311, -0.31109104,\n",
              "         0.53800104,  1.38709312,  2.23618519,  3.08527727,  3.93436934,\n",
              "         4.78346142]),\n",
              " <a list of 10 Patch objects>)"
            ]
          },
          "metadata": {},
          "execution_count": 99
        },
        {
          "output_type": "display_data",
          "data": {
            "image/png": "[encoded data removed]",
            "text/plain": [
              "<Figure size 432x288 with 1 Axes>"
            ]
          },
          "metadata": {
            "needs_background": "light"
          }
        }
      ]
    },
    {
      "cell_type": "markdown",
      "metadata": {
        "id": "LYthn3089aqD"
      },
      "source": [
        "## 보충 코드"
      ]
    },
    {
      "cell_type": "code",
      "metadata": {
        "id": "BUkVDXTJMkwc",
        "colab": {
          "base_uri": "https://localhost:8080/"
        },
        "outputId": "a8594d7e-201a-40f5-c9e4-e04a8a7bfc90"
      },
      "source": [
        "n1000 = np.random.randint(0,10,1000)\n",
        "n1000"
      ],
      "execution_count": 75,
      "outputs": [
        {
          "output_type": "execute_result",
          "data": {
            "text/plain": [
              "array([0, 9, 9, 0, 5, 6, 6, 0, 1, 2, 0, 8, 1, 4, 6, 8, 9, 9, 6, 2, 4, 5,\n",
              "       2, 9, 7, 0, 9, 4, 0, 9, 5, 4, 9, 8, 2, 7, 2, 4, 5, 1, 4, 1, 0, 2,\n",
              "       8, 7, 7, 6, 3, 4, 6, 6, 6, 5, 7, 2, 5, 8, 2, 2, 0, 7, 0, 0, 4, 1,\n",
              "       0, 7, 3, 5, 0, 2, 3, 9, 5, 5, 1, 8, 0, 1, 7, 0, 4, 4, 1, 4, 2, 5,\n",
              "       8, 0, 0, 9, 3, 4, 4, 5, 1, 8, 2, 5, 0, 5, 4, 9, 7, 4, 1, 5, 9, 5,\n",
              "       5, 2, 0, 0, 9, 8, 3, 7, 8, 6, 5, 3, 7, 0, 0, 5, 6, 3, 6, 6, 9, 4,\n",
              "       1, 5, 2, 4, 6, 9, 4, 3, 3, 3, 4, 9, 2, 4, 7, 2, 5, 2, 5, 5, 3, 6,\n",
              "       8, 9, 2, 3, 1, 4, 9, 9, 0, 1, 7, 0, 5, 0, 3, 1, 5, 3, 0, 5, 0, 1,\n",
              "       4, 5, 3, 3, 5, 7, 0, 6, 5, 9, 0, 6, 9, 1, 5, 5, 7, 3, 9, 0, 9, 4,\n",
              "       0, 4, 8, 6, 9, 6, 2, 8, 7, 8, 8, 0, 4, 6, 2, 7, 6, 4, 7, 6, 7, 4,\n",
              "       2, 8, 3, 1, 9, 8, 4, 5, 1, 1, 5, 3, 3, 5, 0, 9, 3, 6, 1, 6, 1, 1,\n",
              "       4, 8, 3, 1, 5, 9, 7, 0, 8, 7, 5, 4, 9, 0, 3, 9, 1, 7, 1, 7, 7, 7,\n",
              "       6, 6, 5, 3, 2, 0, 8, 7, 6, 2, 7, 9, 8, 6, 4, 1, 7, 1, 6, 7, 6, 4,\n",
              "       3, 7, 4, 8, 9, 6, 3, 8, 1, 0, 8, 7, 2, 6, 6, 2, 4, 6, 7, 2, 8, 4,\n",
              "       1, 3, 0, 9, 5, 8, 7, 5, 9, 0, 0, 2, 6, 1, 1, 6, 2, 6, 6, 7, 6, 4,\n",
              "       5, 9, 6, 3, 0, 8, 8, 9, 5, 6, 8, 3, 5, 1, 0, 3, 5, 4, 2, 6, 4, 5,\n",
              "       5, 7, 4, 9, 1, 5, 9, 4, 1, 5, 0, 6, 7, 4, 2, 6, 1, 4, 7, 7, 4, 0,\n",
              "       5, 1, 5, 8, 5, 3, 4, 1, 2, 4, 3, 8, 8, 1, 8, 2, 6, 9, 8, 0, 6, 9,\n",
              "       3, 9, 8, 1, 5, 0, 7, 7, 9, 0, 7, 9, 8, 7, 0, 1, 0, 7, 2, 3, 8, 8,\n",
              "       0, 2, 8, 1, 2, 8, 8, 2, 5, 2, 4, 8, 6, 5, 8, 9, 3, 6, 3, 2, 6, 3,\n",
              "       6, 6, 9, 9, 2, 1, 6, 2, 9, 3, 7, 3, 4, 3, 5, 4, 1, 8, 2, 5, 0, 5,\n",
              "       3, 7, 5, 8, 6, 2, 6, 1, 4, 4, 9, 0, 1, 9, 4, 4, 3, 1, 8, 2, 2, 5,\n",
              "       9, 8, 1, 5, 9, 7, 8, 0, 2, 8, 9, 2, 1, 1, 1, 4, 3, 9, 6, 7, 6, 5,\n",
              "       8, 8, 3, 6, 2, 9, 7, 4, 1, 0, 0, 2, 5, 9, 9, 9, 2, 9, 1, 1, 5, 1,\n",
              "       6, 7, 8, 3, 2, 4, 3, 3, 5, 8, 2, 8, 4, 8, 2, 4, 6, 0, 3, 7, 3, 4,\n",
              "       2, 3, 9, 2, 8, 3, 7, 1, 1, 4, 6, 3, 1, 8, 4, 3, 5, 8, 9, 9, 8, 9,\n",
              "       8, 5, 8, 3, 0, 0, 1, 3, 2, 0, 5, 5, 1, 7, 6, 0, 0, 0, 1, 5, 3, 2,\n",
              "       1, 1, 6, 1, 6, 5, 4, 9, 2, 3, 3, 9, 2, 9, 4, 0, 0, 1, 5, 3, 3, 6,\n",
              "       1, 4, 7, 6, 8, 8, 8, 0, 9, 3, 0, 3, 4, 7, 7, 8, 9, 6, 1, 7, 9, 0,\n",
              "       8, 6, 7, 4, 2, 3, 8, 1, 8, 5, 8, 6, 6, 4, 4, 3, 6, 4, 5, 0, 9, 2,\n",
              "       3, 6, 2, 0, 1, 3, 4, 3, 6, 0, 5, 6, 0, 9, 6, 5, 4, 7, 8, 5, 8, 8,\n",
              "       4, 2, 9, 7, 8, 9, 6, 2, 1, 5, 0, 0, 7, 6, 3, 6, 4, 2, 1, 8, 0, 5,\n",
              "       6, 7, 7, 6, 2, 6, 2, 7, 4, 8, 5, 1, 4, 8, 0, 9, 3, 8, 4, 0, 5, 8,\n",
              "       6, 6, 7, 3, 8, 6, 6, 5, 8, 3, 9, 3, 5, 3, 1, 8, 9, 2, 1, 8, 6, 9,\n",
              "       2, 1, 1, 8, 9, 2, 6, 8, 7, 4, 5, 8, 4, 7, 9, 0, 5, 8, 2, 9, 2, 2,\n",
              "       9, 2, 7, 6, 1, 7, 7, 0, 9, 5, 6, 9, 7, 9, 5, 6, 4, 2, 4, 3, 9, 0,\n",
              "       6, 4, 6, 4, 5, 0, 1, 5, 2, 0, 4, 4, 9, 7, 3, 1, 9, 8, 0, 8, 2, 1,\n",
              "       2, 5, 2, 8, 1, 1, 1, 8, 8, 2, 8, 3, 8, 3, 9, 4, 0, 0, 1, 3, 5, 9,\n",
              "       0, 9, 7, 4, 1, 3, 2, 9, 8, 4, 6, 8, 3, 2, 4, 5, 0, 1, 6, 9, 0, 9,\n",
              "       0, 0, 0, 3, 3, 1, 2, 1, 4, 0, 2, 6, 5, 1, 5, 1, 0, 4, 6, 0, 9, 7,\n",
              "       2, 6, 1, 2, 5, 8, 0, 6, 2, 6, 4, 6, 2, 9, 1, 4, 7, 1, 2, 4, 7, 2,\n",
              "       8, 2, 1, 7, 3, 0, 8, 2, 4, 9, 2, 0, 9, 6, 1, 6, 5, 9, 5, 7, 7, 1,\n",
              "       3, 9, 4, 9, 4, 8, 0, 5, 2, 4, 0, 6, 3, 6, 8, 7, 8, 6, 1, 1, 1, 4,\n",
              "       4, 4, 7, 0, 2, 5, 7, 3, 8, 4, 1, 3, 3, 4, 8, 2, 4, 6, 9, 8, 3, 0,\n",
              "       1, 9, 1, 7, 1, 5, 0, 0, 6, 4, 5, 5, 4, 8, 5, 5, 5, 9, 2, 5, 1, 4,\n",
              "       5, 9, 8, 4, 9, 9, 2, 3, 4, 4])"
            ]
          },
          "metadata": {},
          "execution_count": 75
        }
      ]
    },
    {
      "cell_type": "code",
      "metadata": {
        "id": "xza_yV8nMshU"
      },
      "source": [
        "value, count= np.unique(n1000, return_counts=True)"
      ],
      "execution_count": 76,
      "outputs": []
    },
    {
      "cell_type": "code",
      "metadata": {
        "id": "al1pM1aK9Vk7",
        "colab": {
          "base_uri": "https://localhost:8080/"
        },
        "outputId": "a422d32c-9780-4f96-e147-33a133141be5"
      },
      "source": [
        "value, count"
      ],
      "execution_count": 77,
      "outputs": [
        {
          "output_type": "execute_result",
          "data": {
            "text/plain": [
              "(array([0, 1, 2, 3, 4, 5, 6, 7, 8, 9]),\n",
              " array([101, 103,  97,  90, 108, 104, 105,  82, 106, 104]))"
            ]
          },
          "metadata": {},
          "execution_count": 77
        }
      ]
    }
  ]
}