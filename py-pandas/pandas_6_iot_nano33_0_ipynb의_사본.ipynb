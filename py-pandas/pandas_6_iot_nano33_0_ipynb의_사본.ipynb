{
  "nbformat": 4,
  "nbformat_minor": 0,
  "metadata": {
    "colab": {
      "name": "pandas_6_iot_nano33_0.ipynb의 사본",
      "provenance": [],
      "collapsed_sections": [],
      "include_colab_link": true
    },
    "kernelspec": {
      "name": "python3",
      "display_name": "Python 3"
    }
  },
  "cells": [
    {
      "cell_type": "markdown",
      "metadata": {
        "id": "view-in-github",
        "colab_type": "text"
      },
      "source": [
        "<a href=\"https://colab.research.google.com/github/seokmin1/PDM08/blob/main/py-pandas/pandas_6_iot_nano33_0_ipynb%EC%9D%98_%EC%82%AC%EB%B3%B8.ipynb\" target=\"_parent\"><img src=\"https://colab.research.google.com/assets/colab-badge.svg\" alt=\"Open In Colab\"/></a>"
      ]
    },
    {
      "cell_type": "markdown",
      "metadata": {
        "id": "oYht3IoGwlyU"
      },
      "source": [
        "## Pandas: access to the remote json from MongoDB\n",
        "- The json file is generated on the fly from the express server of Node.js.\n",
        "- The data stored in MongoDB are saved in the json file.\n",
        "- The data are composed of three time series; temperature, humidity, and luminosity.\n"
      ]
    },
    {
      "cell_type": "code",
      "metadata": {
        "id": "GYezm0oWwlyW"
      },
      "source": [
        "import pandas as pd\n",
        "import numpy as np\n",
        "import matplotlib.pyplot as plt\n",
        "from matplotlib import animation, rc"
      ],
      "execution_count": null,
      "outputs": []
    },
    {
      "cell_type": "markdown",
      "metadata": {
        "id": "1xQdk1RkeFpY"
      },
      "source": [
        "## [데이터 로드 1.]\n",
        "- loading real-time json file from MongoDB via web\n",
        "\n",
        "- http://chaos.inje.ac.kr:3030/client_33.html"
      ]
    },
    {
      "cell_type": "code",
      "metadata": {
        "id": "jguBydRLwlyc"
      },
      "source": [
        "# loading real-time json file from MongoDB via web (CORS, port=3030)\n",
        "# url=\"http://chaos.inje.ac.kr:3030/iot\"\n",
        "# df=pd.read_json(url)\n",
        "# print('Large IoT data was retrieved successfully from MongoDB!')"
      ],
      "execution_count": null,
      "outputs": []
    },
    {
      "cell_type": "markdown",
      "metadata": {
        "id": "TpDlu78Hd37h"
      },
      "source": [
        "## [데이터 로드 2.]\n",
        "- Load the compressed data from github.com"
      ]
    },
    {
      "cell_type": "code",
      "metadata": {
        "id": "vDohppnxx3CD",
        "colab": {
          "base_uri": "https://localhost:8080/"
        },
        "outputId": "c9976b6b-5557-4efd-a692-00ab3a08f286"
      },
      "source": [
        "# Load the compressed data from github.com\n",
        "# https://towardsdatascience.com/4-awesome-ways-of-loading-ml-data-in-google-colab-9a5264c61966\n",
        "# url_zip = 'https://github.com/Redwoods/Py/raw/master/pdm2020/my-note/py-pandas/data/iot_data_201005_raw.zip'\n",
        "!wget https://github.com/Redwoods/Py/raw/master/pdm2020/my-note/py-pandas/data/iot_data_201005_raw.zip\n",
        "!unzip iot_data_201005_raw.zip"
      ],
      "execution_count": null,
      "outputs": [
        {
          "output_type": "stream",
          "name": "stdout",
          "text": [
            "--2021-10-09 10:39:26--  https://github.com/Redwoods/Py/raw/master/pdm2020/my-note/py-pandas/data/iot_data_201005_raw.zip\n",
            "Resolving github.com (github.com)... 140.82.114.3\n",
            "Connecting to github.com (github.com)|140.82.114.3|:443... connected.\n",
            "HTTP request sent, awaiting response... 302 Found\n",
            "Location: https://raw.githubusercontent.com/Redwoods/Py/master/pdm2020/my-note/py-pandas/data/iot_data_201005_raw.zip [following]\n",
            "--2021-10-09 10:39:26--  https://raw.githubusercontent.com/Redwoods/Py/master/pdm2020/my-note/py-pandas/data/iot_data_201005_raw.zip\n",
            "Resolving raw.githubusercontent.com (raw.githubusercontent.com)... 185.199.110.133, 185.199.111.133, 185.199.108.133, ...\n",
            "Connecting to raw.githubusercontent.com (raw.githubusercontent.com)|185.199.110.133|:443... connected.\n",
            "HTTP request sent, awaiting response... 200 OK\n",
            "Length: 8389520 (8.0M) [application/zip]\n",
            "Saving to: ‘iot_data_201005_raw.zip’\n",
            "\n",
            "iot_data_201005_raw 100%[===================>]   8.00M  --.-KB/s    in 0.04s   \n",
            "\n",
            "2021-10-09 10:39:26 (182 MB/s) - ‘iot_data_201005_raw.zip’ saved [8389520/8389520]\n",
            "\n",
            "Archive:  iot_data_201005_raw.zip\n",
            "  inflating: iot_data_201005_raw.csv  \n"
          ]
        }
      ]
    },
    {
      "cell_type": "code",
      "metadata": {
        "id": "g5r86Xpo0gjq",
        "colab": {
          "base_uri": "https://localhost:8080/",
          "height": 324
        },
        "outputId": "d6e218c6-0f8f-4e4f-a976-b80def3c704a"
      },
      "source": [
        "df = pd.read_csv(\"iot_data_201005_raw.csv\", index_col=False)\n",
        "df.head()"
      ],
      "execution_count": null,
      "outputs": [
        {
          "output_type": "execute_result",
          "data": {
            "text/html": [
              "<div>\n",
              "<style scoped>\n",
              "    .dataframe tbody tr th:only-of-type {\n",
              "        vertical-align: middle;\n",
              "    }\n",
              "\n",
              "    .dataframe tbody tr th {\n",
              "        vertical-align: top;\n",
              "    }\n",
              "\n",
              "    .dataframe thead th {\n",
              "        text-align: right;\n",
              "    }\n",
              "</style>\n",
              "<table border=\"1\" class=\"dataframe\">\n",
              "  <thead>\n",
              "    <tr style=\"text-align: right;\">\n",
              "      <th></th>\n",
              "      <th>Unnamed: 0</th>\n",
              "      <th>_id</th>\n",
              "      <th>date</th>\n",
              "      <th>temperature</th>\n",
              "      <th>humidity</th>\n",
              "      <th>luminosity</th>\n",
              "      <th>pressure</th>\n",
              "      <th>r_ratio</th>\n",
              "      <th>g_ratio</th>\n",
              "      <th>b_ratio</th>\n",
              "      <th>__v</th>\n",
              "    </tr>\n",
              "  </thead>\n",
              "  <tbody>\n",
              "    <tr>\n",
              "      <th>0</th>\n",
              "      <td>0</td>\n",
              "      <td>5f52e97f3d26c027a020fcd1</td>\n",
              "      <td>2020-09-05 10:27:27.873</td>\n",
              "      <td>29.7</td>\n",
              "      <td>50.6</td>\n",
              "      <td>47</td>\n",
              "      <td>1008.8</td>\n",
              "      <td>31.9</td>\n",
              "      <td>36.2</td>\n",
              "      <td>31.9</td>\n",
              "      <td>0</td>\n",
              "    </tr>\n",
              "    <tr>\n",
              "      <th>1</th>\n",
              "      <td>1</td>\n",
              "      <td>5f52e9843d26c027a020fcd2</td>\n",
              "      <td>2020-09-05 10:27:32.902</td>\n",
              "      <td>29.7</td>\n",
              "      <td>51.5</td>\n",
              "      <td>47</td>\n",
              "      <td>1008.8</td>\n",
              "      <td>33.3</td>\n",
              "      <td>35.4</td>\n",
              "      <td>31.3</td>\n",
              "      <td>0</td>\n",
              "    </tr>\n",
              "    <tr>\n",
              "      <th>2</th>\n",
              "      <td>2</td>\n",
              "      <td>5f52e9893d26c027a020fcd3</td>\n",
              "      <td>2020-09-05 10:27:37.933</td>\n",
              "      <td>29.7</td>\n",
              "      <td>52.1</td>\n",
              "      <td>47</td>\n",
              "      <td>1008.8</td>\n",
              "      <td>33.3</td>\n",
              "      <td>35.4</td>\n",
              "      <td>31.3</td>\n",
              "      <td>0</td>\n",
              "    </tr>\n",
              "    <tr>\n",
              "      <th>3</th>\n",
              "      <td>3</td>\n",
              "      <td>5f52e98e3d26c027a020fcd4</td>\n",
              "      <td>2020-09-05 10:27:42.964</td>\n",
              "      <td>29.7</td>\n",
              "      <td>52.5</td>\n",
              "      <td>47</td>\n",
              "      <td>1008.8</td>\n",
              "      <td>31.9</td>\n",
              "      <td>36.2</td>\n",
              "      <td>31.9</td>\n",
              "      <td>0</td>\n",
              "    </tr>\n",
              "    <tr>\n",
              "      <th>4</th>\n",
              "      <td>4</td>\n",
              "      <td>5f52e9933d26c027a020fcd5</td>\n",
              "      <td>2020-09-05 10:27:47.996</td>\n",
              "      <td>29.7</td>\n",
              "      <td>52.2</td>\n",
              "      <td>47</td>\n",
              "      <td>1008.8</td>\n",
              "      <td>31.9</td>\n",
              "      <td>36.2</td>\n",
              "      <td>31.9</td>\n",
              "      <td>0</td>\n",
              "    </tr>\n",
              "  </tbody>\n",
              "</table>\n",
              "</div>"
            ],
            "text/plain": [
              "   Unnamed: 0                       _id  ... b_ratio  __v\n",
              "0           0  5f52e97f3d26c027a020fcd1  ...    31.9    0\n",
              "1           1  5f52e9843d26c027a020fcd2  ...    31.3    0\n",
              "2           2  5f52e9893d26c027a020fcd3  ...    31.3    0\n",
              "3           3  5f52e98e3d26c027a020fcd4  ...    31.9    0\n",
              "4           4  5f52e9933d26c027a020fcd5  ...    31.9    0\n",
              "\n",
              "[5 rows x 11 columns]"
            ]
          },
          "metadata": {},
          "execution_count": 4
        }
      ]
    },
    {
      "cell_type": "code",
      "metadata": {
        "id": "ATXd9T04wlyg",
        "colab": {
          "base_uri": "https://localhost:8080/",
          "height": 324
        },
        "outputId": "2db0d2f0-a75b-4040-8484-fdb6e5ac9e1f"
      },
      "source": [
        "df.head()"
      ],
      "execution_count": null,
      "outputs": [
        {
          "output_type": "execute_result",
          "data": {
            "text/html": [
              "<div>\n",
              "<style scoped>\n",
              "    .dataframe tbody tr th:only-of-type {\n",
              "        vertical-align: middle;\n",
              "    }\n",
              "\n",
              "    .dataframe tbody tr th {\n",
              "        vertical-align: top;\n",
              "    }\n",
              "\n",
              "    .dataframe thead th {\n",
              "        text-align: right;\n",
              "    }\n",
              "</style>\n",
              "<table border=\"1\" class=\"dataframe\">\n",
              "  <thead>\n",
              "    <tr style=\"text-align: right;\">\n",
              "      <th></th>\n",
              "      <th>Unnamed: 0</th>\n",
              "      <th>_id</th>\n",
              "      <th>date</th>\n",
              "      <th>temperature</th>\n",
              "      <th>humidity</th>\n",
              "      <th>luminosity</th>\n",
              "      <th>pressure</th>\n",
              "      <th>r_ratio</th>\n",
              "      <th>g_ratio</th>\n",
              "      <th>b_ratio</th>\n",
              "      <th>__v</th>\n",
              "    </tr>\n",
              "  </thead>\n",
              "  <tbody>\n",
              "    <tr>\n",
              "      <th>0</th>\n",
              "      <td>0</td>\n",
              "      <td>5f52e97f3d26c027a020fcd1</td>\n",
              "      <td>2020-09-05 10:27:27.873</td>\n",
              "      <td>29.7</td>\n",
              "      <td>50.6</td>\n",
              "      <td>47</td>\n",
              "      <td>1008.8</td>\n",
              "      <td>31.9</td>\n",
              "      <td>36.2</td>\n",
              "      <td>31.9</td>\n",
              "      <td>0</td>\n",
              "    </tr>\n",
              "    <tr>\n",
              "      <th>1</th>\n",
              "      <td>1</td>\n",
              "      <td>5f52e9843d26c027a020fcd2</td>\n",
              "      <td>2020-09-05 10:27:32.902</td>\n",
              "      <td>29.7</td>\n",
              "      <td>51.5</td>\n",
              "      <td>47</td>\n",
              "      <td>1008.8</td>\n",
              "      <td>33.3</td>\n",
              "      <td>35.4</td>\n",
              "      <td>31.3</td>\n",
              "      <td>0</td>\n",
              "    </tr>\n",
              "    <tr>\n",
              "      <th>2</th>\n",
              "      <td>2</td>\n",
              "      <td>5f52e9893d26c027a020fcd3</td>\n",
              "      <td>2020-09-05 10:27:37.933</td>\n",
              "      <td>29.7</td>\n",
              "      <td>52.1</td>\n",
              "      <td>47</td>\n",
              "      <td>1008.8</td>\n",
              "      <td>33.3</td>\n",
              "      <td>35.4</td>\n",
              "      <td>31.3</td>\n",
              "      <td>0</td>\n",
              "    </tr>\n",
              "    <tr>\n",
              "      <th>3</th>\n",
              "      <td>3</td>\n",
              "      <td>5f52e98e3d26c027a020fcd4</td>\n",
              "      <td>2020-09-05 10:27:42.964</td>\n",
              "      <td>29.7</td>\n",
              "      <td>52.5</td>\n",
              "      <td>47</td>\n",
              "      <td>1008.8</td>\n",
              "      <td>31.9</td>\n",
              "      <td>36.2</td>\n",
              "      <td>31.9</td>\n",
              "      <td>0</td>\n",
              "    </tr>\n",
              "    <tr>\n",
              "      <th>4</th>\n",
              "      <td>4</td>\n",
              "      <td>5f52e9933d26c027a020fcd5</td>\n",
              "      <td>2020-09-05 10:27:47.996</td>\n",
              "      <td>29.7</td>\n",
              "      <td>52.2</td>\n",
              "      <td>47</td>\n",
              "      <td>1008.8</td>\n",
              "      <td>31.9</td>\n",
              "      <td>36.2</td>\n",
              "      <td>31.9</td>\n",
              "      <td>0</td>\n",
              "    </tr>\n",
              "  </tbody>\n",
              "</table>\n",
              "</div>"
            ],
            "text/plain": [
              "   Unnamed: 0                       _id  ... b_ratio  __v\n",
              "0           0  5f52e97f3d26c027a020fcd1  ...    31.9    0\n",
              "1           1  5f52e9843d26c027a020fcd2  ...    31.3    0\n",
              "2           2  5f52e9893d26c027a020fcd3  ...    31.3    0\n",
              "3           3  5f52e98e3d26c027a020fcd4  ...    31.9    0\n",
              "4           4  5f52e9933d26c027a020fcd5  ...    31.9    0\n",
              "\n",
              "[5 rows x 11 columns]"
            ]
          },
          "metadata": {},
          "execution_count": 5
        }
      ]
    },
    {
      "cell_type": "code",
      "metadata": {
        "id": "Qz0XxhI4wlyn",
        "colab": {
          "base_uri": "https://localhost:8080/",
          "height": 324
        },
        "outputId": "9685c746-eeec-427b-8722-3e843ef21aa3"
      },
      "source": [
        "df.tail()"
      ],
      "execution_count": null,
      "outputs": [
        {
          "output_type": "execute_result",
          "data": {
            "text/html": [
              "<div>\n",
              "<style scoped>\n",
              "    .dataframe tbody tr th:only-of-type {\n",
              "        vertical-align: middle;\n",
              "    }\n",
              "\n",
              "    .dataframe tbody tr th {\n",
              "        vertical-align: top;\n",
              "    }\n",
              "\n",
              "    .dataframe thead th {\n",
              "        text-align: right;\n",
              "    }\n",
              "</style>\n",
              "<table border=\"1\" class=\"dataframe\">\n",
              "  <thead>\n",
              "    <tr style=\"text-align: right;\">\n",
              "      <th></th>\n",
              "      <th>Unnamed: 0</th>\n",
              "      <th>_id</th>\n",
              "      <th>date</th>\n",
              "      <th>temperature</th>\n",
              "      <th>humidity</th>\n",
              "      <th>luminosity</th>\n",
              "      <th>pressure</th>\n",
              "      <th>r_ratio</th>\n",
              "      <th>g_ratio</th>\n",
              "      <th>b_ratio</th>\n",
              "      <th>__v</th>\n",
              "    </tr>\n",
              "  </thead>\n",
              "  <tbody>\n",
              "    <tr>\n",
              "      <th>511657</th>\n",
              "      <td>511657</td>\n",
              "      <td>5f7a733111799622e801a745</td>\n",
              "      <td>2020-10-05 10:13:21.563</td>\n",
              "      <td>30.5</td>\n",
              "      <td>31.2</td>\n",
              "      <td>413</td>\n",
              "      <td>1009.2</td>\n",
              "      <td>34.2</td>\n",
              "      <td>34.0</td>\n",
              "      <td>31.8</td>\n",
              "      <td>0</td>\n",
              "    </tr>\n",
              "    <tr>\n",
              "      <th>511658</th>\n",
              "      <td>511658</td>\n",
              "      <td>5f7a733611799622e801a746</td>\n",
              "      <td>2020-10-05 10:13:26.595</td>\n",
              "      <td>30.4</td>\n",
              "      <td>31.1</td>\n",
              "      <td>412</td>\n",
              "      <td>1009.1</td>\n",
              "      <td>34.2</td>\n",
              "      <td>33.9</td>\n",
              "      <td>31.9</td>\n",
              "      <td>0</td>\n",
              "    </tr>\n",
              "    <tr>\n",
              "      <th>511659</th>\n",
              "      <td>511659</td>\n",
              "      <td>5f7a733b11799622e801a747</td>\n",
              "      <td>2020-10-05 10:13:31.627</td>\n",
              "      <td>30.4</td>\n",
              "      <td>31.0</td>\n",
              "      <td>413</td>\n",
              "      <td>1009.1</td>\n",
              "      <td>34.2</td>\n",
              "      <td>34.0</td>\n",
              "      <td>31.8</td>\n",
              "      <td>0</td>\n",
              "    </tr>\n",
              "    <tr>\n",
              "      <th>511660</th>\n",
              "      <td>511660</td>\n",
              "      <td>5f7a734011799622e801a748</td>\n",
              "      <td>2020-10-05 10:13:36.659</td>\n",
              "      <td>30.4</td>\n",
              "      <td>31.0</td>\n",
              "      <td>414</td>\n",
              "      <td>1009.1</td>\n",
              "      <td>34.0</td>\n",
              "      <td>34.0</td>\n",
              "      <td>32.0</td>\n",
              "      <td>0</td>\n",
              "    </tr>\n",
              "    <tr>\n",
              "      <th>511661</th>\n",
              "      <td>511661</td>\n",
              "      <td>5f7a734511799622e801a749</td>\n",
              "      <td>2020-10-05 10:13:41.690</td>\n",
              "      <td>30.4</td>\n",
              "      <td>30.8</td>\n",
              "      <td>408</td>\n",
              "      <td>1009.1</td>\n",
              "      <td>34.0</td>\n",
              "      <td>34.0</td>\n",
              "      <td>32.0</td>\n",
              "      <td>0</td>\n",
              "    </tr>\n",
              "  </tbody>\n",
              "</table>\n",
              "</div>"
            ],
            "text/plain": [
              "        Unnamed: 0                       _id  ... b_ratio  __v\n",
              "511657      511657  5f7a733111799622e801a745  ...    31.8    0\n",
              "511658      511658  5f7a733611799622e801a746  ...    31.9    0\n",
              "511659      511659  5f7a733b11799622e801a747  ...    31.8    0\n",
              "511660      511660  5f7a734011799622e801a748  ...    32.0    0\n",
              "511661      511661  5f7a734511799622e801a749  ...    32.0    0\n",
              "\n",
              "[5 rows x 11 columns]"
            ]
          },
          "metadata": {},
          "execution_count": 6
        }
      ]
    },
    {
      "cell_type": "code",
      "metadata": {
        "id": "xu5T5omfwlys",
        "colab": {
          "base_uri": "https://localhost:8080/"
        },
        "outputId": "edd4a037-1bcd-40a8-c47f-75a48446a869"
      },
      "source": [
        "df.shape, type(df)"
      ],
      "execution_count": null,
      "outputs": [
        {
          "output_type": "execute_result",
          "data": {
            "text/plain": [
              "((511662, 11), pandas.core.frame.DataFrame)"
            ]
          },
          "metadata": {},
          "execution_count": 7
        }
      ]
    },
    {
      "cell_type": "code",
      "metadata": {
        "id": "IGr_hz20Il9L",
        "colab": {
          "base_uri": "https://localhost:8080/"
        },
        "outputId": "6bf0c02e-f5d1-45f0-b9c8-1d746ce74da7"
      },
      "source": [
        "df['date'][:1],df['date'][-1:]"
      ],
      "execution_count": null,
      "outputs": [
        {
          "output_type": "execute_result",
          "data": {
            "text/plain": [
              "(0    2020-09-05 10:27:27.873\n",
              " Name: date, dtype: object, 511661    2020-10-05 10:13:41.690\n",
              " Name: date, dtype: object)"
            ]
          },
          "metadata": {},
          "execution_count": 8
        }
      ]
    },
    {
      "cell_type": "code",
      "metadata": {
        "id": "Ba7jYmgKwlyx",
        "colab": {
          "base_uri": "https://localhost:8080/"
        },
        "outputId": "60743701-dda4-4b1b-cc81-ee47ac9c0478"
      },
      "source": [
        "df.info()"
      ],
      "execution_count": null,
      "outputs": [
        {
          "output_type": "stream",
          "name": "stdout",
          "text": [
            "<class 'pandas.core.frame.DataFrame'>\n",
            "RangeIndex: 511662 entries, 0 to 511661\n",
            "Data columns (total 11 columns):\n",
            " #   Column       Non-Null Count   Dtype  \n",
            "---  ------       --------------   -----  \n",
            " 0   Unnamed: 0   511662 non-null  int64  \n",
            " 1   _id          511662 non-null  object \n",
            " 2   date         511662 non-null  object \n",
            " 3   temperature  511662 non-null  float64\n",
            " 4   humidity     511662 non-null  float64\n",
            " 5   luminosity   511662 non-null  int64  \n",
            " 6   pressure     511662 non-null  float64\n",
            " 7   r_ratio      259586 non-null  float64\n",
            " 8   g_ratio      259586 non-null  float64\n",
            " 9   b_ratio      259586 non-null  float64\n",
            " 10  __v          511662 non-null  int64  \n",
            "dtypes: float64(6), int64(3), object(2)\n",
            "memory usage: 42.9+ MB\n"
          ]
        }
      ]
    },
    {
      "cell_type": "code",
      "metadata": {
        "id": "6VGEIgiEydOV",
        "colab": {
          "base_uri": "https://localhost:8080/",
          "height": 315
        },
        "outputId": "7a6ab0c9-8f77-4bc1-f73f-49e6595a0ffd"
      },
      "source": [
        "df.describe()"
      ],
      "execution_count": null,
      "outputs": [
        {
          "output_type": "execute_result",
          "data": {
            "text/html": [
              "<div>\n",
              "<style scoped>\n",
              "    .dataframe tbody tr th:only-of-type {\n",
              "        vertical-align: middle;\n",
              "    }\n",
              "\n",
              "    .dataframe tbody tr th {\n",
              "        vertical-align: top;\n",
              "    }\n",
              "\n",
              "    .dataframe thead th {\n",
              "        text-align: right;\n",
              "    }\n",
              "</style>\n",
              "<table border=\"1\" class=\"dataframe\">\n",
              "  <thead>\n",
              "    <tr style=\"text-align: right;\">\n",
              "      <th></th>\n",
              "      <th>Unnamed: 0</th>\n",
              "      <th>temperature</th>\n",
              "      <th>humidity</th>\n",
              "      <th>luminosity</th>\n",
              "      <th>pressure</th>\n",
              "      <th>r_ratio</th>\n",
              "      <th>g_ratio</th>\n",
              "      <th>b_ratio</th>\n",
              "      <th>__v</th>\n",
              "    </tr>\n",
              "  </thead>\n",
              "  <tbody>\n",
              "    <tr>\n",
              "      <th>count</th>\n",
              "      <td>511662.000000</td>\n",
              "      <td>511662.000000</td>\n",
              "      <td>511662.000000</td>\n",
              "      <td>511662.000000</td>\n",
              "      <td>511662.000000</td>\n",
              "      <td>259586.000000</td>\n",
              "      <td>259586.000000</td>\n",
              "      <td>259586.000000</td>\n",
              "      <td>511662.0</td>\n",
              "    </tr>\n",
              "    <tr>\n",
              "      <th>mean</th>\n",
              "      <td>255830.500000</td>\n",
              "      <td>31.151488</td>\n",
              "      <td>49.233919</td>\n",
              "      <td>87.690763</td>\n",
              "      <td>1005.716766</td>\n",
              "      <td>31.617429</td>\n",
              "      <td>34.924630</td>\n",
              "      <td>33.451469</td>\n",
              "      <td>0.0</td>\n",
              "    </tr>\n",
              "    <tr>\n",
              "      <th>std</th>\n",
              "      <td>147704.241054</td>\n",
              "      <td>1.000845</td>\n",
              "      <td>6.199525</td>\n",
              "      <td>193.338066</td>\n",
              "      <td>5.776317</td>\n",
              "      <td>3.943971</td>\n",
              "      <td>2.777365</td>\n",
              "      <td>5.008596</td>\n",
              "      <td>0.0</td>\n",
              "    </tr>\n",
              "    <tr>\n",
              "      <th>min</th>\n",
              "      <td>0.000000</td>\n",
              "      <td>28.500000</td>\n",
              "      <td>23.800000</td>\n",
              "      <td>0.000000</td>\n",
              "      <td>955.500000</td>\n",
              "      <td>0.000000</td>\n",
              "      <td>0.000000</td>\n",
              "      <td>0.000000</td>\n",
              "      <td>0.0</td>\n",
              "    </tr>\n",
              "    <tr>\n",
              "      <th>25%</th>\n",
              "      <td>127915.250000</td>\n",
              "      <td>30.500000</td>\n",
              "      <td>44.300000</td>\n",
              "      <td>0.000000</td>\n",
              "      <td>1004.200000</td>\n",
              "      <td>31.100000</td>\n",
              "      <td>34.500000</td>\n",
              "      <td>32.000000</td>\n",
              "      <td>0.0</td>\n",
              "    </tr>\n",
              "    <tr>\n",
              "      <th>50%</th>\n",
              "      <td>255830.500000</td>\n",
              "      <td>31.200000</td>\n",
              "      <td>48.800000</td>\n",
              "      <td>2.000000</td>\n",
              "      <td>1006.800000</td>\n",
              "      <td>32.200000</td>\n",
              "      <td>35.000000</td>\n",
              "      <td>32.800000</td>\n",
              "      <td>0.0</td>\n",
              "    </tr>\n",
              "    <tr>\n",
              "      <th>75%</th>\n",
              "      <td>383745.750000</td>\n",
              "      <td>31.800000</td>\n",
              "      <td>54.100000</td>\n",
              "      <td>70.000000</td>\n",
              "      <td>1008.700000</td>\n",
              "      <td>33.300000</td>\n",
              "      <td>35.500000</td>\n",
              "      <td>33.600000</td>\n",
              "      <td>0.0</td>\n",
              "    </tr>\n",
              "    <tr>\n",
              "      <th>max</th>\n",
              "      <td>511661.000000</td>\n",
              "      <td>34.500000</td>\n",
              "      <td>70.000000</td>\n",
              "      <td>1143.000000</td>\n",
              "      <td>1012.200000</td>\n",
              "      <td>100.000000</td>\n",
              "      <td>50.000000</td>\n",
              "      <td>100.000000</td>\n",
              "      <td>0.0</td>\n",
              "    </tr>\n",
              "  </tbody>\n",
              "</table>\n",
              "</div>"
            ],
            "text/plain": [
              "          Unnamed: 0    temperature  ...        b_ratio       __v\n",
              "count  511662.000000  511662.000000  ...  259586.000000  511662.0\n",
              "mean   255830.500000      31.151488  ...      33.451469       0.0\n",
              "std    147704.241054       1.000845  ...       5.008596       0.0\n",
              "min         0.000000      28.500000  ...       0.000000       0.0\n",
              "25%    127915.250000      30.500000  ...      32.000000       0.0\n",
              "50%    255830.500000      31.200000  ...      32.800000       0.0\n",
              "75%    383745.750000      31.800000  ...      33.600000       0.0\n",
              "max    511661.000000      34.500000  ...     100.000000       0.0\n",
              "\n",
              "[8 rows x 9 columns]"
            ]
          },
          "metadata": {},
          "execution_count": 10
        }
      ]
    },
    {
      "cell_type": "code",
      "metadata": {
        "id": "hhP06hHOLHVg"
      },
      "source": [
        "# Save iot data in csv file.\n",
        "# df.to_csv('iot_data_201005_raw.csv')"
      ],
      "execution_count": null,
      "outputs": []
    },
    {
      "cell_type": "markdown",
      "metadata": {
        "id": "g9Z8adSvNEp_"
      },
      "source": [
        "## Check data\n",
        "- NaN\n",
        "- missing value"
      ]
    },
    {
      "cell_type": "code",
      "metadata": {
        "id": "c35w4k5fNJRI",
        "colab": {
          "base_uri": "https://localhost:8080/"
        },
        "outputId": "6984a49f-5ca4-4a15-908f-e379ba1f1184"
      },
      "source": [
        "df.isnull().sum() #/df.shape[0]*100"
      ],
      "execution_count": null,
      "outputs": [
        {
          "output_type": "execute_result",
          "data": {
            "text/plain": [
              "Unnamed: 0          0\n",
              "_id                 0\n",
              "date                0\n",
              "temperature         0\n",
              "humidity            0\n",
              "luminosity          0\n",
              "pressure            0\n",
              "r_ratio        252076\n",
              "g_ratio        252076\n",
              "b_ratio        252076\n",
              "__v                 0\n",
              "dtype: int64"
            ]
          },
          "metadata": {},
          "execution_count": 12
        }
      ]
    },
    {
      "cell_type": "code",
      "metadata": {
        "id": "V6txumYNbERU",
        "colab": {
          "base_uri": "https://localhost:8080/"
        },
        "outputId": "bcbfbea4-0752-4da5-a14b-7ad0283252e3"
      },
      "source": [
        "df.isna().sum()"
      ],
      "execution_count": null,
      "outputs": [
        {
          "output_type": "execute_result",
          "data": {
            "text/plain": [
              "Unnamed: 0          0\n",
              "_id                 0\n",
              "date                0\n",
              "temperature         0\n",
              "humidity            0\n",
              "luminosity          0\n",
              "pressure            0\n",
              "r_ratio        252076\n",
              "g_ratio        252076\n",
              "b_ratio        252076\n",
              "__v                 0\n",
              "dtype: int64"
            ]
          },
          "metadata": {},
          "execution_count": 13
        }
      ]
    },
    {
      "cell_type": "markdown",
      "metadata": {
        "id": "eR-9lPsaN1ce"
      },
      "source": [
        "## Replace NaN with mean: Imputation\n",
        "- NaN ==>> 33.3 (100/3)"
      ]
    },
    {
      "cell_type": "code",
      "metadata": {
        "id": "aOZec4f9Z4uB",
        "colab": {
          "base_uri": "https://localhost:8080/"
        },
        "outputId": "e62628af-fdd9-42d4-a224-392ac7c576bb"
      },
      "source": [
        "df=df.fillna(33.3)\n",
        "df.isna().sum()"
      ],
      "execution_count": null,
      "outputs": [
        {
          "output_type": "execute_result",
          "data": {
            "text/plain": [
              "Unnamed: 0     0\n",
              "_id            0\n",
              "date           0\n",
              "temperature    0\n",
              "humidity       0\n",
              "luminosity     0\n",
              "pressure       0\n",
              "r_ratio        0\n",
              "g_ratio        0\n",
              "b_ratio        0\n",
              "__v            0\n",
              "dtype: int64"
            ]
          },
          "metadata": {},
          "execution_count": 14
        }
      ]
    },
    {
      "cell_type": "code",
      "metadata": {
        "id": "azt9NJNhOGI-"
      },
      "source": [
        "# for whole dataframe\n",
        "# df = df.replace(np.nan, 33.3)\n",
        "# df.isnull().sum()"
      ],
      "execution_count": null,
      "outputs": []
    },
    {
      "cell_type": "markdown",
      "metadata": {
        "id": "fMZWYEMxOmSy"
      },
      "source": [
        "## IoT data were cleaned!"
      ]
    },
    {
      "cell_type": "code",
      "metadata": {
        "colab": {
          "base_uri": "https://localhost:8080/",
          "height": 324
        },
        "id": "hRFURfTnpCq-",
        "outputId": "3a515ac1-6c6a-4853-f5c8-c3799a078228"
      },
      "source": [
        "df.head()"
      ],
      "execution_count": null,
      "outputs": [
        {
          "output_type": "execute_result",
          "data": {
            "text/html": [
              "<div>\n",
              "<style scoped>\n",
              "    .dataframe tbody tr th:only-of-type {\n",
              "        vertical-align: middle;\n",
              "    }\n",
              "\n",
              "    .dataframe tbody tr th {\n",
              "        vertical-align: top;\n",
              "    }\n",
              "\n",
              "    .dataframe thead th {\n",
              "        text-align: right;\n",
              "    }\n",
              "</style>\n",
              "<table border=\"1\" class=\"dataframe\">\n",
              "  <thead>\n",
              "    <tr style=\"text-align: right;\">\n",
              "      <th></th>\n",
              "      <th>Unnamed: 0</th>\n",
              "      <th>_id</th>\n",
              "      <th>date</th>\n",
              "      <th>temperature</th>\n",
              "      <th>humidity</th>\n",
              "      <th>luminosity</th>\n",
              "      <th>pressure</th>\n",
              "      <th>r_ratio</th>\n",
              "      <th>g_ratio</th>\n",
              "      <th>b_ratio</th>\n",
              "      <th>__v</th>\n",
              "    </tr>\n",
              "  </thead>\n",
              "  <tbody>\n",
              "    <tr>\n",
              "      <th>0</th>\n",
              "      <td>0</td>\n",
              "      <td>5f52e97f3d26c027a020fcd1</td>\n",
              "      <td>2020-09-05 10:27:27.873</td>\n",
              "      <td>29.7</td>\n",
              "      <td>50.6</td>\n",
              "      <td>47</td>\n",
              "      <td>1008.8</td>\n",
              "      <td>31.9</td>\n",
              "      <td>36.2</td>\n",
              "      <td>31.9</td>\n",
              "      <td>0</td>\n",
              "    </tr>\n",
              "    <tr>\n",
              "      <th>1</th>\n",
              "      <td>1</td>\n",
              "      <td>5f52e9843d26c027a020fcd2</td>\n",
              "      <td>2020-09-05 10:27:32.902</td>\n",
              "      <td>29.7</td>\n",
              "      <td>51.5</td>\n",
              "      <td>47</td>\n",
              "      <td>1008.8</td>\n",
              "      <td>33.3</td>\n",
              "      <td>35.4</td>\n",
              "      <td>31.3</td>\n",
              "      <td>0</td>\n",
              "    </tr>\n",
              "    <tr>\n",
              "      <th>2</th>\n",
              "      <td>2</td>\n",
              "      <td>5f52e9893d26c027a020fcd3</td>\n",
              "      <td>2020-09-05 10:27:37.933</td>\n",
              "      <td>29.7</td>\n",
              "      <td>52.1</td>\n",
              "      <td>47</td>\n",
              "      <td>1008.8</td>\n",
              "      <td>33.3</td>\n",
              "      <td>35.4</td>\n",
              "      <td>31.3</td>\n",
              "      <td>0</td>\n",
              "    </tr>\n",
              "    <tr>\n",
              "      <th>3</th>\n",
              "      <td>3</td>\n",
              "      <td>5f52e98e3d26c027a020fcd4</td>\n",
              "      <td>2020-09-05 10:27:42.964</td>\n",
              "      <td>29.7</td>\n",
              "      <td>52.5</td>\n",
              "      <td>47</td>\n",
              "      <td>1008.8</td>\n",
              "      <td>31.9</td>\n",
              "      <td>36.2</td>\n",
              "      <td>31.9</td>\n",
              "      <td>0</td>\n",
              "    </tr>\n",
              "    <tr>\n",
              "      <th>4</th>\n",
              "      <td>4</td>\n",
              "      <td>5f52e9933d26c027a020fcd5</td>\n",
              "      <td>2020-09-05 10:27:47.996</td>\n",
              "      <td>29.7</td>\n",
              "      <td>52.2</td>\n",
              "      <td>47</td>\n",
              "      <td>1008.8</td>\n",
              "      <td>31.9</td>\n",
              "      <td>36.2</td>\n",
              "      <td>31.9</td>\n",
              "      <td>0</td>\n",
              "    </tr>\n",
              "  </tbody>\n",
              "</table>\n",
              "</div>"
            ],
            "text/plain": [
              "   Unnamed: 0                       _id  ... b_ratio  __v\n",
              "0           0  5f52e97f3d26c027a020fcd1  ...    31.9    0\n",
              "1           1  5f52e9843d26c027a020fcd2  ...    31.3    0\n",
              "2           2  5f52e9893d26c027a020fcd3  ...    31.3    0\n",
              "3           3  5f52e98e3d26c027a020fcd4  ...    31.9    0\n",
              "4           4  5f52e9933d26c027a020fcd5  ...    31.9    0\n",
              "\n",
              "[5 rows x 11 columns]"
            ]
          },
          "metadata": {},
          "execution_count": 16
        }
      ]
    },
    {
      "cell_type": "markdown",
      "metadata": {
        "id": "H5gtQbgCw62w"
      },
      "source": [
        "## New DataFrame : iot_data\n",
        "### Dataframe with date and sensor values(temperature, humidity, luminosity, pressure, r, g, b)"
      ]
    },
    {
      "cell_type": "code",
      "metadata": {
        "id": "5VTfTsldfaGj"
      },
      "source": [
        "#  select columns\n",
        "cols = ['date', 'temperature', 'humidity', 'luminosity', 'pressure', 'r_ratio', 'g_ratio', 'b_ratio']"
      ],
      "execution_count": null,
      "outputs": []
    },
    {
      "cell_type": "code",
      "metadata": {
        "id": "wLi8PDa_wly3"
      },
      "source": [
        "# Make iot data\n",
        "iot_data = df[cols]"
      ],
      "execution_count": null,
      "outputs": []
    },
    {
      "cell_type": "code",
      "metadata": {
        "id": "NWW0Y_Zswly8",
        "colab": {
          "base_uri": "https://localhost:8080/"
        },
        "outputId": "af41099e-75ae-46b4-adc6-602f8ee25972"
      },
      "source": [
        "iot_data.shape"
      ],
      "execution_count": null,
      "outputs": [
        {
          "output_type": "execute_result",
          "data": {
            "text/plain": [
              "(511662, 8)"
            ]
          },
          "metadata": {},
          "execution_count": 19
        }
      ]
    },
    {
      "cell_type": "code",
      "metadata": {
        "id": "QrsngVb8wlzA",
        "colab": {
          "base_uri": "https://localhost:8080/",
          "height": 307
        },
        "outputId": "eaa6b020-d712-454e-8625-0794f5f0b417"
      },
      "source": [
        "iot_data.head()  # date와 7 개의 신호를 확인."
      ],
      "execution_count": null,
      "outputs": [
        {
          "output_type": "execute_result",
          "data": {
            "text/html": [
              "<div>\n",
              "<style scoped>\n",
              "    .dataframe tbody tr th:only-of-type {\n",
              "        vertical-align: middle;\n",
              "    }\n",
              "\n",
              "    .dataframe tbody tr th {\n",
              "        vertical-align: top;\n",
              "    }\n",
              "\n",
              "    .dataframe thead th {\n",
              "        text-align: right;\n",
              "    }\n",
              "</style>\n",
              "<table border=\"1\" class=\"dataframe\">\n",
              "  <thead>\n",
              "    <tr style=\"text-align: right;\">\n",
              "      <th></th>\n",
              "      <th>date</th>\n",
              "      <th>temperature</th>\n",
              "      <th>humidity</th>\n",
              "      <th>luminosity</th>\n",
              "      <th>pressure</th>\n",
              "      <th>r_ratio</th>\n",
              "      <th>g_ratio</th>\n",
              "      <th>b_ratio</th>\n",
              "    </tr>\n",
              "  </thead>\n",
              "  <tbody>\n",
              "    <tr>\n",
              "      <th>0</th>\n",
              "      <td>2020-09-05 10:27:27.873</td>\n",
              "      <td>29.7</td>\n",
              "      <td>50.6</td>\n",
              "      <td>47</td>\n",
              "      <td>1008.8</td>\n",
              "      <td>31.9</td>\n",
              "      <td>36.2</td>\n",
              "      <td>31.9</td>\n",
              "    </tr>\n",
              "    <tr>\n",
              "      <th>1</th>\n",
              "      <td>2020-09-05 10:27:32.902</td>\n",
              "      <td>29.7</td>\n",
              "      <td>51.5</td>\n",
              "      <td>47</td>\n",
              "      <td>1008.8</td>\n",
              "      <td>33.3</td>\n",
              "      <td>35.4</td>\n",
              "      <td>31.3</td>\n",
              "    </tr>\n",
              "    <tr>\n",
              "      <th>2</th>\n",
              "      <td>2020-09-05 10:27:37.933</td>\n",
              "      <td>29.7</td>\n",
              "      <td>52.1</td>\n",
              "      <td>47</td>\n",
              "      <td>1008.8</td>\n",
              "      <td>33.3</td>\n",
              "      <td>35.4</td>\n",
              "      <td>31.3</td>\n",
              "    </tr>\n",
              "    <tr>\n",
              "      <th>3</th>\n",
              "      <td>2020-09-05 10:27:42.964</td>\n",
              "      <td>29.7</td>\n",
              "      <td>52.5</td>\n",
              "      <td>47</td>\n",
              "      <td>1008.8</td>\n",
              "      <td>31.9</td>\n",
              "      <td>36.2</td>\n",
              "      <td>31.9</td>\n",
              "    </tr>\n",
              "    <tr>\n",
              "      <th>4</th>\n",
              "      <td>2020-09-05 10:27:47.996</td>\n",
              "      <td>29.7</td>\n",
              "      <td>52.2</td>\n",
              "      <td>47</td>\n",
              "      <td>1008.8</td>\n",
              "      <td>31.9</td>\n",
              "      <td>36.2</td>\n",
              "      <td>31.9</td>\n",
              "    </tr>\n",
              "  </tbody>\n",
              "</table>\n",
              "</div>"
            ],
            "text/plain": [
              "                      date  temperature  humidity  ...  r_ratio  g_ratio  b_ratio\n",
              "0  2020-09-05 10:27:27.873         29.7      50.6  ...     31.9     36.2     31.9\n",
              "1  2020-09-05 10:27:32.902         29.7      51.5  ...     33.3     35.4     31.3\n",
              "2  2020-09-05 10:27:37.933         29.7      52.1  ...     33.3     35.4     31.3\n",
              "3  2020-09-05 10:27:42.964         29.7      52.5  ...     31.9     36.2     31.9\n",
              "4  2020-09-05 10:27:47.996         29.7      52.2  ...     31.9     36.2     31.9\n",
              "\n",
              "[5 rows x 8 columns]"
            ]
          },
          "metadata": {},
          "execution_count": 20
        }
      ]
    },
    {
      "cell_type": "code",
      "metadata": {
        "id": "ZI7ggvWpwlzG",
        "colab": {
          "base_uri": "https://localhost:8080/"
        },
        "outputId": "c676a7e5-48a0-4952-a981-526653838d73"
      },
      "source": [
        "iot_data.info()"
      ],
      "execution_count": null,
      "outputs": [
        {
          "output_type": "stream",
          "name": "stdout",
          "text": [
            "<class 'pandas.core.frame.DataFrame'>\n",
            "RangeIndex: 511662 entries, 0 to 511661\n",
            "Data columns (total 8 columns):\n",
            " #   Column       Non-Null Count   Dtype  \n",
            "---  ------       --------------   -----  \n",
            " 0   date         511662 non-null  object \n",
            " 1   temperature  511662 non-null  float64\n",
            " 2   humidity     511662 non-null  float64\n",
            " 3   luminosity   511662 non-null  int64  \n",
            " 4   pressure     511662 non-null  float64\n",
            " 5   r_ratio      511662 non-null  float64\n",
            " 6   g_ratio      511662 non-null  float64\n",
            " 7   b_ratio      511662 non-null  float64\n",
            "dtypes: float64(6), int64(1), object(1)\n",
            "memory usage: 31.2+ MB\n"
          ]
        }
      ]
    },
    {
      "cell_type": "code",
      "metadata": {
        "id": "YlYSuLHMdX3_",
        "colab": {
          "base_uri": "https://localhost:8080/"
        },
        "outputId": "a4d810ce-e7d3-4112-df8a-365a68fa2274"
      },
      "source": [
        "iot_data.isna().sum()"
      ],
      "execution_count": null,
      "outputs": [
        {
          "output_type": "execute_result",
          "data": {
            "text/plain": [
              "date           0\n",
              "temperature    0\n",
              "humidity       0\n",
              "luminosity     0\n",
              "pressure       0\n",
              "r_ratio        0\n",
              "g_ratio        0\n",
              "b_ratio        0\n",
              "dtype: int64"
            ]
          },
          "metadata": {},
          "execution_count": 22
        }
      ]
    },
    {
      "cell_type": "code",
      "metadata": {
        "id": "sKH2MLA7lxjh"
      },
      "source": [
        "# Save iot data in csv file.\n",
        "iot_data.to_csv('iot_data_201005_clean.csv')"
      ],
      "execution_count": null,
      "outputs": []
    },
    {
      "cell_type": "markdown",
      "metadata": {
        "id": "tqGuXzIPfYbZ"
      },
      "source": [
        "## EDA"
      ]
    },
    {
      "cell_type": "code",
      "metadata": {
        "id": "2QB6w7uvuN6R",
        "colab": {
          "base_uri": "https://localhost:8080/",
          "height": 330
        },
        "outputId": "e2745ba5-d80c-4c25-8a4f-865592bd3ba7"
      },
      "source": [
        "# Plot boxplot\n",
        "# iot_data[['temperature','humidity','luminosity']].plot.box(title='Boxplot of temperature, humidity, and luminosity')\n",
        "# iot_data.loc[:,'temperature':'luminosity'].plot.box(title='Boxplot of temperature, humidity, and luminosity')\n",
        "iot_data.iloc[:,1:].plot.box(title='Boxplot of all signals')\n",
        "plt.xticks(rotation=60)\n",
        "plt.show()\n"
      ],
      "execution_count": null,
      "outputs": [
        {
          "output_type": "display_data",
          "data": {
            "image/png": "[encoded data removed]",
            "text/plain": [
              "<Figure size 432x288 with 1 Axes>"
            ]
          },
          "metadata": {
            "needs_background": "light"
          }
        }
      ]
    },
    {
      "cell_type": "markdown",
      "metadata": {
        "id": "feFqm_ocxRjV"
      },
      "source": [
        "### Plot time series of sensor data"
      ]
    },
    {
      "cell_type": "code",
      "metadata": {
        "id": "AM_CyVjawlzM",
        "colab": {
          "base_uri": "https://localhost:8080/",
          "height": 350
        },
        "outputId": "12e7b561-1e34-408e-a319-cb4a9baf20cd"
      },
      "source": [
        "iot_data.plot(x='date', y='temperature', figsize=(10,5), title='temperature')\n",
        "plt.show()"
      ],
      "execution_count": null,
      "outputs": [
        {
          "output_type": "display_data",
          "data": {
            "image/png": "[encoded data removed]",
            "text/plain": [
              "<Figure size 720x360 with 1 Axes>"
            ]
          },
          "metadata": {
            "needs_background": "light"
          }
        }
      ]
    },
    {
      "cell_type": "markdown",
      "metadata": {
        "id": "RzdQY6Nbf7ET"
      },
      "source": [
        "### Set style of graph\n",
        "- plt.style.use('fivethirtyeight')\n",
        "- plt.style.use('ggplot')"
      ]
    },
    {
      "cell_type": "code",
      "metadata": {
        "id": "e0GNB13ngjo2",
        "colab": {
          "base_uri": "https://localhost:8080/"
        },
        "outputId": "36d8a509-45ce-4b46-efce-ba7500370406"
      },
      "source": [
        "plt.style.available"
      ],
      "execution_count": null,
      "outputs": [
        {
          "output_type": "execute_result",
          "data": {
            "text/plain": [
              "['Solarize_Light2',\n",
              " '_classic_test_patch',\n",
              " 'bmh',\n",
              " 'classic',\n",
              " 'dark_background',\n",
              " 'fast',\n",
              " 'fivethirtyeight',\n",
              " 'ggplot',\n",
              " 'grayscale',\n",
              " 'seaborn',\n",
              " 'seaborn-bright',\n",
              " 'seaborn-colorblind',\n",
              " 'seaborn-dark',\n",
              " 'seaborn-dark-palette',\n",
              " 'seaborn-darkgrid',\n",
              " 'seaborn-deep',\n",
              " 'seaborn-muted',\n",
              " 'seaborn-notebook',\n",
              " 'seaborn-paper',\n",
              " 'seaborn-pastel',\n",
              " 'seaborn-poster',\n",
              " 'seaborn-talk',\n",
              " 'seaborn-ticks',\n",
              " 'seaborn-white',\n",
              " 'seaborn-whitegrid',\n",
              " 'tableau-colorblind10']"
            ]
          },
          "metadata": {},
          "execution_count": 28
        }
      ]
    },
    {
      "cell_type": "code",
      "metadata": {
        "id": "iUAvX6E_gMkU",
        "colab": {
          "base_uri": "https://localhost:8080/",
          "height": 350
        },
        "outputId": "43990698-207e-4e60-ecf7-8a2d3045e2f2"
      },
      "source": [
        "iot_data.plot(x='date', y='temperature', figsize=(10,5), title='temperature')\n",
        "plt.style.use('seaborn-pastel') # 'seaborn-pastel', 'fivethirtyeight'\n",
        "plt.show()"
      ],
      "execution_count": null,
      "outputs": [
        {
          "output_type": "display_data",
          "data": {
            "image/png": "[encoded data removed]",
            "text/plain": [
              "<Figure size 720x360 with 1 Axes>"
            ]
          },
          "metadata": {
            "needs_background": "light"
          }
        }
      ]
    },
    {
      "cell_type": "code",
      "metadata": {
        "id": "yEIaJZVVgT8u",
        "colab": {
          "base_uri": "https://localhost:8080/",
          "height": 350
        },
        "outputId": "7d4101fc-9406-4b5b-d436-918541fd825f"
      },
      "source": [
        "iot_data.plot(x='date', y='temperature', figsize=(10,5), title='temperature')\n",
        "plt.style.use('ggplot')\n",
        "plt.show()"
      ],
      "execution_count": null,
      "outputs": [
        {
          "output_type": "display_data",
          "data": {
            "image/png": "[encoded data removed]",
            "text/plain": [
              "<Figure size 720x360 with 1 Axes>"
            ]
          },
          "metadata": {
            "needs_background": "light"
          }
        }
      ]
    },
    {
      "cell_type": "code",
      "metadata": {
        "id": "b3s_-fushN1y"
      },
      "source": [
        "# restore default style\n",
        "plt.style.use('default')"
      ],
      "execution_count": null,
      "outputs": []
    },
    {
      "cell_type": "code",
      "metadata": {
        "id": "SAy74_iEwlzQ",
        "colab": {
          "base_uri": "https://localhost:8080/",
          "height": 360
        },
        "outputId": "6b5726c7-7dc8-4659-c448-90175ab9e9ba"
      },
      "source": [
        "iot_data.plot(x='date', y='humidity', figsize=(10,5), title='humidity')\n",
        "plt.show()"
      ],
      "execution_count": null,
      "outputs": [
        {
          "output_type": "display_data",
          "data": {
            "image/png": "[encoded data removed]",
            "text/plain": [
              "<Figure size 1000x500 with 1 Axes>"
            ]
          },
          "metadata": {}
        }
      ]
    },
    {
      "cell_type": "code",
      "metadata": {
        "id": "d7kyWhVDwlzW",
        "colab": {
          "base_uri": "https://localhost:8080/",
          "height": 360
        },
        "outputId": "16cf98a8-a71d-4b21-9139-4fd0feeda066"
      },
      "source": [
        "iot_data.plot(x='date', y='luminosity', figsize=(10,5), title='luminosity')\n",
        "plt.show()"
      ],
      "execution_count": null,
      "outputs": [
        {
          "output_type": "display_data",
          "data": {
            "image/png": "[encoded data removed]",
            "text/plain": [
              "<Figure size 1000x500 with 1 Axes>"
            ]
          },
          "metadata": {}
        }
      ]
    },
    {
      "cell_type": "code",
      "metadata": {
        "id": "MbaBO6uRKCjj",
        "colab": {
          "base_uri": "https://localhost:8080/",
          "height": 360
        },
        "outputId": "9e4fb770-07a4-4cf8-f279-1639f67911f9"
      },
      "source": [
        "iot_data.plot(x='date', y='pressure', figsize=(10,5), title='pressure')\n",
        "# plt.xticks(rotation=90)\n",
        "plt.show()"
      ],
      "execution_count": null,
      "outputs": [
        {
          "output_type": "display_data",
          "data": {
            "image/png": "[encoded data removed]",
            "text/plain": [
              "<Figure size 1000x500 with 1 Axes>"
            ]
          },
          "metadata": {}
        }
      ]
    },
    {
      "cell_type": "markdown",
      "metadata": {
        "id": "4W2OVUXZ0eKc"
      },
      "source": [
        "#### 다중그래프 (multiple graphs)"
      ]
    },
    {
      "cell_type": "code",
      "metadata": {
        "id": "7XiF7ghFwlzc",
        "colab": {
          "base_uri": "https://localhost:8080/",
          "height": 378
        },
        "outputId": "c31c86d2-3b78-4eaf-dede-84ef0a13a50e"
      },
      "source": [
        "# Plot of ['temperature','humidity']\n",
        "iot_data.plot(x='date', y=['temperature','humidity'], figsize=(10,5), title='temperature and humidity')"
      ],
      "execution_count": null,
      "outputs": [
        {
          "output_type": "execute_result",
          "data": {
            "text/plain": [
              "<matplotlib.axes._subplots.AxesSubplot at 0x7f5f195a3ad0>"
            ]
          },
          "metadata": {},
          "execution_count": 35
        },
        {
          "output_type": "display_data",
          "data": {
            "image/png": "[encoded data removed]",
            "text/plain": [
              "<Figure size 1000x500 with 1 Axes>"
            ]
          },
          "metadata": {}
        }
      ]
    },
    {
      "cell_type": "code",
      "metadata": {
        "id": "3tH-ca5Jwlzi",
        "colab": {
          "base_uri": "https://localhost:8080/",
          "height": 417
        },
        "outputId": "44a269bc-6278-4aca-aa18-506f814703c8"
      },
      "source": [
        "# Plot of ['temperature','humidity','luminosity','pressure']\n",
        "iot_data.plot(x='date', y=['temperature','humidity','luminosity','pressure'], figsize=(10,6), \n",
        "             title='temperature, humidity, luminosity and pressure')\n",
        "plt.show()"
      ],
      "execution_count": null,
      "outputs": [
        {
          "output_type": "display_data",
          "data": {
            "image/png": "[encoded data removed]",
            "text/plain": [
              "<Figure size 1000x600 with 1 Axes>"
            ]
          },
          "metadata": {}
        }
      ]
    },
    {
      "cell_type": "markdown",
      "metadata": {
        "id": "6yaOaE05xthv"
      },
      "source": [
        "#### Plot the mean of sensor data"
      ]
    },
    {
      "cell_type": "code",
      "metadata": {
        "id": "455qOpbbwlzp",
        "colab": {
          "base_uri": "https://localhost:8080/"
        },
        "outputId": "731a6403-5209-4eed-d521-464c21dd6dd7"
      },
      "source": [
        "iot_data[['temperature','humidity','luminosity']].mean()  "
      ],
      "execution_count": null,
      "outputs": [
        {
          "output_type": "execute_result",
          "data": {
            "text/plain": [
              "temperature    31.151488\n",
              "humidity       49.233919\n",
              "luminosity     87.690763\n",
              "dtype: float64"
            ]
          },
          "metadata": {},
          "execution_count": 37
        }
      ]
    },
    {
      "cell_type": "code",
      "metadata": {
        "id": "26ZUc5ULwlzw",
        "colab": {
          "base_uri": "https://localhost:8080/",
          "height": 542
        },
        "outputId": "342aeadb-d4d8-45c8-eb08-03911bc5e2c5"
      },
      "source": [
        "iot_data[['temperature','humidity','luminosity']].mean().plot.bar(figsize=(8,5), \n",
        "                                                                  title=\"Mean of temperature, humidity, and luminosity\")"
      ],
      "execution_count": null,
      "outputs": [
        {
          "output_type": "execute_result",
          "data": {
            "text/plain": [
              "<matplotlib.axes._subplots.AxesSubplot at 0x7f5f195a3b90>"
            ]
          },
          "metadata": {},
          "execution_count": 38
        },
        {
          "output_type": "display_data",
          "data": {
            "image/png": "[encoded data removed]",
            "text/plain": [
              "<Figure size 800x500 with 1 Axes>"
            ]
          },
          "metadata": {}
        }
      ]
    },
    {
      "cell_type": "code",
      "metadata": {
        "id": "0aQZ0HN_ihK4",
        "colab": {
          "base_uri": "https://localhost:8080/",
          "height": 405
        },
        "outputId": "6e44d057-ff7c-4c81-fc7f-cb9cab175810"
      },
      "source": [
        "plt.style.use('seaborn-pastel')   # fivethirtyeight, ggplot\n",
        "iot_data[['temperature','humidity','luminosity']].mean().plot.bar(figsize=(6,3), \n",
        "                                                                  title=\"Mean of temperature, humidity, and luminosity\")"
      ],
      "execution_count": null,
      "outputs": [
        {
          "output_type": "execute_result",
          "data": {
            "text/plain": [
              "<matplotlib.axes._subplots.AxesSubplot at 0x7f5f19f48990>"
            ]
          },
          "metadata": {},
          "execution_count": 39
        },
        {
          "output_type": "display_data",
          "data": {
            "image/png": "[encoded data removed]",
            "text/plain": [
              "<Figure size 600x300 with 1 Axes>"
            ]
          },
          "metadata": {}
        }
      ]
    },
    {
      "cell_type": "markdown",
      "metadata": {
        "id": "DwAOwL1kdEUn"
      },
      "source": [
        "# Advanced graphics using pandas"
      ]
    },
    {
      "cell_type": "markdown",
      "metadata": {
        "id": "LxgcWZ2wx6TQ"
      },
      "source": [
        "### Plot the change of sensor data over various time spans.\n",
        "\n",
        "> time span: 60 sec, 1 hour, 1 day, 1 week"
      ]
    },
    {
      "cell_type": "markdown",
      "metadata": {
        "id": "ndt4b_ZTwlz1"
      },
      "source": [
        "#### Set date as index of timestamp"
      ]
    },
    {
      "cell_type": "code",
      "metadata": {
        "id": "xopxI05ggHJb",
        "colab": {
          "base_uri": "https://localhost:8080/",
          "height": 307
        },
        "outputId": "d731978e-1034-4bb9-d7c2-c8d348b3c154"
      },
      "source": [
        "iot_data.head()"
      ],
      "execution_count": null,
      "outputs": [
        {
          "output_type": "execute_result",
          "data": {
            "text/html": [
              "<div>\n",
              "<style scoped>\n",
              "    .dataframe tbody tr th:only-of-type {\n",
              "        vertical-align: middle;\n",
              "    }\n",
              "\n",
              "    .dataframe tbody tr th {\n",
              "        vertical-align: top;\n",
              "    }\n",
              "\n",
              "    .dataframe thead th {\n",
              "        text-align: right;\n",
              "    }\n",
              "</style>\n",
              "<table border=\"1\" class=\"dataframe\">\n",
              "  <thead>\n",
              "    <tr style=\"text-align: right;\">\n",
              "      <th></th>\n",
              "      <th>date</th>\n",
              "      <th>temperature</th>\n",
              "      <th>humidity</th>\n",
              "      <th>luminosity</th>\n",
              "      <th>pressure</th>\n",
              "      <th>r_ratio</th>\n",
              "      <th>g_ratio</th>\n",
              "      <th>b_ratio</th>\n",
              "    </tr>\n",
              "  </thead>\n",
              "  <tbody>\n",
              "    <tr>\n",
              "      <th>0</th>\n",
              "      <td>2020-09-05 10:27:27.873</td>\n",
              "      <td>29.7</td>\n",
              "      <td>50.6</td>\n",
              "      <td>47</td>\n",
              "      <td>1008.8</td>\n",
              "      <td>31.9</td>\n",
              "      <td>36.2</td>\n",
              "      <td>31.9</td>\n",
              "    </tr>\n",
              "    <tr>\n",
              "      <th>1</th>\n",
              "      <td>2020-09-05 10:27:32.902</td>\n",
              "      <td>29.7</td>\n",
              "      <td>51.5</td>\n",
              "      <td>47</td>\n",
              "      <td>1008.8</td>\n",
              "      <td>33.3</td>\n",
              "      <td>35.4</td>\n",
              "      <td>31.3</td>\n",
              "    </tr>\n",
              "    <tr>\n",
              "      <th>2</th>\n",
              "      <td>2020-09-05 10:27:37.933</td>\n",
              "      <td>29.7</td>\n",
              "      <td>52.1</td>\n",
              "      <td>47</td>\n",
              "      <td>1008.8</td>\n",
              "      <td>33.3</td>\n",
              "      <td>35.4</td>\n",
              "      <td>31.3</td>\n",
              "    </tr>\n",
              "    <tr>\n",
              "      <th>3</th>\n",
              "      <td>2020-09-05 10:27:42.964</td>\n",
              "      <td>29.7</td>\n",
              "      <td>52.5</td>\n",
              "      <td>47</td>\n",
              "      <td>1008.8</td>\n",
              "      <td>31.9</td>\n",
              "      <td>36.2</td>\n",
              "      <td>31.9</td>\n",
              "    </tr>\n",
              "    <tr>\n",
              "      <th>4</th>\n",
              "      <td>2020-09-05 10:27:47.996</td>\n",
              "      <td>29.7</td>\n",
              "      <td>52.2</td>\n",
              "      <td>47</td>\n",
              "      <td>1008.8</td>\n",
              "      <td>31.9</td>\n",
              "      <td>36.2</td>\n",
              "      <td>31.9</td>\n",
              "    </tr>\n",
              "  </tbody>\n",
              "</table>\n",
              "</div>"
            ],
            "text/plain": [
              "                      date  temperature  humidity  ...  r_ratio  g_ratio  b_ratio\n",
              "0  2020-09-05 10:27:27.873         29.7      50.6  ...     31.9     36.2     31.9\n",
              "1  2020-09-05 10:27:32.902         29.7      51.5  ...     33.3     35.4     31.3\n",
              "2  2020-09-05 10:27:37.933         29.7      52.1  ...     33.3     35.4     31.3\n",
              "3  2020-09-05 10:27:42.964         29.7      52.5  ...     31.9     36.2     31.9\n",
              "4  2020-09-05 10:27:47.996         29.7      52.2  ...     31.9     36.2     31.9\n",
              "\n",
              "[5 rows x 8 columns]"
            ]
          },
          "metadata": {},
          "execution_count": 40
        }
      ]
    },
    {
      "cell_type": "code",
      "metadata": {
        "id": "V6MpkrDhwlz2"
      },
      "source": [
        "iot_data.set_index('date',inplace=True)"
      ],
      "execution_count": null,
      "outputs": []
    },
    {
      "cell_type": "code",
      "metadata": {
        "id": "g1MtmghfiQk7"
      },
      "source": [
        "# Convert date index to Datetime index\n",
        "iot_data.index = pd.to_datetime(iot_data.index)"
      ],
      "execution_count": null,
      "outputs": []
    },
    {
      "cell_type": "code",
      "metadata": {
        "id": "gY7QvLKbwlz5",
        "colab": {
          "base_uri": "https://localhost:8080/"
        },
        "outputId": "b23d6d18-4645-4f8f-dbb8-1d18e35da666"
      },
      "source": [
        "iot_data.info() # Range index -> timestamp(Datetime) index "
      ],
      "execution_count": null,
      "outputs": [
        {
          "output_type": "stream",
          "name": "stdout",
          "text": [
            "<class 'pandas.core.frame.DataFrame'>\n",
            "DatetimeIndex: 511662 entries, 2020-09-05 10:27:27.873000 to 2020-10-05 10:13:41.690000\n",
            "Data columns (total 7 columns):\n",
            " #   Column       Non-Null Count   Dtype  \n",
            "---  ------       --------------   -----  \n",
            " 0   temperature  511662 non-null  float64\n",
            " 1   humidity     511662 non-null  float64\n",
            " 2   luminosity   511662 non-null  int64  \n",
            " 3   pressure     511662 non-null  float64\n",
            " 4   r_ratio      511662 non-null  float64\n",
            " 5   g_ratio      511662 non-null  float64\n",
            " 6   b_ratio      511662 non-null  float64\n",
            "dtypes: float64(6), int64(1)\n",
            "memory usage: 31.2 MB\n"
          ]
        }
      ]
    },
    {
      "cell_type": "code",
      "metadata": {
        "id": "5fjfDVvhwlz-",
        "colab": {
          "base_uri": "https://localhost:8080/",
          "height": 338
        },
        "outputId": "8f69635d-1495-49a6-d22f-d40cf5ea0b3a"
      },
      "source": [
        "iot_data.head()"
      ],
      "execution_count": null,
      "outputs": [
        {
          "output_type": "execute_result",
          "data": {
            "text/html": [
              "<div>\n",
              "<style scoped>\n",
              "    .dataframe tbody tr th:only-of-type {\n",
              "        vertical-align: middle;\n",
              "    }\n",
              "\n",
              "    .dataframe tbody tr th {\n",
              "        vertical-align: top;\n",
              "    }\n",
              "\n",
              "    .dataframe thead th {\n",
              "        text-align: right;\n",
              "    }\n",
              "</style>\n",
              "<table border=\"1\" class=\"dataframe\">\n",
              "  <thead>\n",
              "    <tr style=\"text-align: right;\">\n",
              "      <th></th>\n",
              "      <th>temperature</th>\n",
              "      <th>humidity</th>\n",
              "      <th>luminosity</th>\n",
              "      <th>pressure</th>\n",
              "      <th>r_ratio</th>\n",
              "      <th>g_ratio</th>\n",
              "      <th>b_ratio</th>\n",
              "    </tr>\n",
              "    <tr>\n",
              "      <th>date</th>\n",
              "      <th></th>\n",
              "      <th></th>\n",
              "      <th></th>\n",
              "      <th></th>\n",
              "      <th></th>\n",
              "      <th></th>\n",
              "      <th></th>\n",
              "    </tr>\n",
              "  </thead>\n",
              "  <tbody>\n",
              "    <tr>\n",
              "      <th>2020-09-05 10:27:27.873</th>\n",
              "      <td>29.7</td>\n",
              "      <td>50.6</td>\n",
              "      <td>47</td>\n",
              "      <td>1008.8</td>\n",
              "      <td>31.9</td>\n",
              "      <td>36.2</td>\n",
              "      <td>31.9</td>\n",
              "    </tr>\n",
              "    <tr>\n",
              "      <th>2020-09-05 10:27:32.902</th>\n",
              "      <td>29.7</td>\n",
              "      <td>51.5</td>\n",
              "      <td>47</td>\n",
              "      <td>1008.8</td>\n",
              "      <td>33.3</td>\n",
              "      <td>35.4</td>\n",
              "      <td>31.3</td>\n",
              "    </tr>\n",
              "    <tr>\n",
              "      <th>2020-09-05 10:27:37.933</th>\n",
              "      <td>29.7</td>\n",
              "      <td>52.1</td>\n",
              "      <td>47</td>\n",
              "      <td>1008.8</td>\n",
              "      <td>33.3</td>\n",
              "      <td>35.4</td>\n",
              "      <td>31.3</td>\n",
              "    </tr>\n",
              "    <tr>\n",
              "      <th>2020-09-05 10:27:42.964</th>\n",
              "      <td>29.7</td>\n",
              "      <td>52.5</td>\n",
              "      <td>47</td>\n",
              "      <td>1008.8</td>\n",
              "      <td>31.9</td>\n",
              "      <td>36.2</td>\n",
              "      <td>31.9</td>\n",
              "    </tr>\n",
              "    <tr>\n",
              "      <th>2020-09-05 10:27:47.996</th>\n",
              "      <td>29.7</td>\n",
              "      <td>52.2</td>\n",
              "      <td>47</td>\n",
              "      <td>1008.8</td>\n",
              "      <td>31.9</td>\n",
              "      <td>36.2</td>\n",
              "      <td>31.9</td>\n",
              "    </tr>\n",
              "  </tbody>\n",
              "</table>\n",
              "</div>"
            ],
            "text/plain": [
              "                         temperature  humidity  ...  g_ratio  b_ratio\n",
              "date                                            ...                  \n",
              "2020-09-05 10:27:27.873         29.7      50.6  ...     36.2     31.9\n",
              "2020-09-05 10:27:32.902         29.7      51.5  ...     35.4     31.3\n",
              "2020-09-05 10:27:37.933         29.7      52.1  ...     35.4     31.3\n",
              "2020-09-05 10:27:42.964         29.7      52.5  ...     36.2     31.9\n",
              "2020-09-05 10:27:47.996         29.7      52.2  ...     36.2     31.9\n",
              "\n",
              "[5 rows x 7 columns]"
            ]
          },
          "metadata": {},
          "execution_count": 43
        }
      ]
    },
    {
      "cell_type": "code",
      "metadata": {
        "id": "TDkJgBRJwl0D",
        "colab": {
          "base_uri": "https://localhost:8080/",
          "height": 803
        },
        "outputId": "dabce930-3263-46f4-ae98-926e8363c451"
      },
      "source": [
        "# Estimate the mean of the iot data for every minute\n",
        "iot_data.resample('60S').mean()"
      ],
      "execution_count": null,
      "outputs": [
        {
          "output_type": "execute_result",
          "data": {
            "text/html": [
              "<div>\n",
              "<style scoped>\n",
              "    .dataframe tbody tr th:only-of-type {\n",
              "        vertical-align: middle;\n",
              "    }\n",
              "\n",
              "    .dataframe tbody tr th {\n",
              "        vertical-align: top;\n",
              "    }\n",
              "\n",
              "    .dataframe thead th {\n",
              "        text-align: right;\n",
              "    }\n",
              "</style>\n",
              "<table border=\"1\" class=\"dataframe\">\n",
              "  <thead>\n",
              "    <tr style=\"text-align: right;\">\n",
              "      <th></th>\n",
              "      <th>temperature</th>\n",
              "      <th>humidity</th>\n",
              "      <th>luminosity</th>\n",
              "      <th>pressure</th>\n",
              "      <th>r_ratio</th>\n",
              "      <th>g_ratio</th>\n",
              "      <th>b_ratio</th>\n",
              "    </tr>\n",
              "    <tr>\n",
              "      <th>date</th>\n",
              "      <th></th>\n",
              "      <th></th>\n",
              "      <th></th>\n",
              "      <th></th>\n",
              "      <th></th>\n",
              "      <th></th>\n",
              "      <th></th>\n",
              "    </tr>\n",
              "  </thead>\n",
              "  <tbody>\n",
              "    <tr>\n",
              "      <th>2020-09-05 10:27:00</th>\n",
              "      <td>29.700000</td>\n",
              "      <td>51.871429</td>\n",
              "      <td>47.000000</td>\n",
              "      <td>1008.800000</td>\n",
              "      <td>32.700000</td>\n",
              "      <td>35.742857</td>\n",
              "      <td>31.557143</td>\n",
              "    </tr>\n",
              "    <tr>\n",
              "      <th>2020-09-05 10:28:00</th>\n",
              "      <td>29.750000</td>\n",
              "      <td>51.775000</td>\n",
              "      <td>46.916667</td>\n",
              "      <td>1008.800000</td>\n",
              "      <td>33.083333</td>\n",
              "      <td>35.350000</td>\n",
              "      <td>31.583333</td>\n",
              "    </tr>\n",
              "    <tr>\n",
              "      <th>2020-09-05 10:29:00</th>\n",
              "      <td>29.733333</td>\n",
              "      <td>51.550000</td>\n",
              "      <td>47.000000</td>\n",
              "      <td>1008.808333</td>\n",
              "      <td>33.250000</td>\n",
              "      <td>35.341667</td>\n",
              "      <td>31.416667</td>\n",
              "    </tr>\n",
              "    <tr>\n",
              "      <th>2020-09-05 10:30:00</th>\n",
              "      <td>29.800000</td>\n",
              "      <td>53.491667</td>\n",
              "      <td>47.000000</td>\n",
              "      <td>1008.800000</td>\n",
              "      <td>33.300000</td>\n",
              "      <td>35.400000</td>\n",
              "      <td>31.300000</td>\n",
              "    </tr>\n",
              "    <tr>\n",
              "      <th>2020-09-05 10:31:00</th>\n",
              "      <td>29.875000</td>\n",
              "      <td>54.491667</td>\n",
              "      <td>46.083333</td>\n",
              "      <td>1008.891667</td>\n",
              "      <td>32.016667</td>\n",
              "      <td>36.133333</td>\n",
              "      <td>31.850000</td>\n",
              "    </tr>\n",
              "    <tr>\n",
              "      <th>...</th>\n",
              "      <td>...</td>\n",
              "      <td>...</td>\n",
              "      <td>...</td>\n",
              "      <td>...</td>\n",
              "      <td>...</td>\n",
              "      <td>...</td>\n",
              "      <td>...</td>\n",
              "    </tr>\n",
              "    <tr>\n",
              "      <th>2020-10-05 10:09:00</th>\n",
              "      <td>30.818182</td>\n",
              "      <td>30.627273</td>\n",
              "      <td>406.909091</td>\n",
              "      <td>1009.290909</td>\n",
              "      <td>34.154545</td>\n",
              "      <td>33.927273</td>\n",
              "      <td>31.918182</td>\n",
              "    </tr>\n",
              "    <tr>\n",
              "      <th>2020-10-05 10:10:00</th>\n",
              "      <td>30.825000</td>\n",
              "      <td>30.625000</td>\n",
              "      <td>407.250000</td>\n",
              "      <td>1009.275000</td>\n",
              "      <td>34.150000</td>\n",
              "      <td>33.975000</td>\n",
              "      <td>31.866667</td>\n",
              "    </tr>\n",
              "    <tr>\n",
              "      <th>2020-10-05 10:11:00</th>\n",
              "      <td>30.691667</td>\n",
              "      <td>30.575000</td>\n",
              "      <td>409.333333</td>\n",
              "      <td>1009.233333</td>\n",
              "      <td>34.058333</td>\n",
              "      <td>34.025000</td>\n",
              "      <td>31.916667</td>\n",
              "    </tr>\n",
              "    <tr>\n",
              "      <th>2020-10-05 10:12:00</th>\n",
              "      <td>30.566667</td>\n",
              "      <td>31.091667</td>\n",
              "      <td>412.083333</td>\n",
              "      <td>1009.208333</td>\n",
              "      <td>34.091667</td>\n",
              "      <td>33.991667</td>\n",
              "      <td>31.916667</td>\n",
              "    </tr>\n",
              "    <tr>\n",
              "      <th>2020-10-05 10:13:00</th>\n",
              "      <td>30.422222</td>\n",
              "      <td>31.100000</td>\n",
              "      <td>413.444444</td>\n",
              "      <td>1009.144444</td>\n",
              "      <td>34.111111</td>\n",
              "      <td>33.977778</td>\n",
              "      <td>31.911111</td>\n",
              "    </tr>\n",
              "  </tbody>\n",
              "</table>\n",
              "<p>43187 rows × 7 columns</p>\n",
              "</div>"
            ],
            "text/plain": [
              "                     temperature   humidity  ...    g_ratio    b_ratio\n",
              "date                                         ...                      \n",
              "2020-09-05 10:27:00    29.700000  51.871429  ...  35.742857  31.557143\n",
              "2020-09-05 10:28:00    29.750000  51.775000  ...  35.350000  31.583333\n",
              "2020-09-05 10:29:00    29.733333  51.550000  ...  35.341667  31.416667\n",
              "2020-09-05 10:30:00    29.800000  53.491667  ...  35.400000  31.300000\n",
              "2020-09-05 10:31:00    29.875000  54.491667  ...  36.133333  31.850000\n",
              "...                          ...        ...  ...        ...        ...\n",
              "2020-10-05 10:09:00    30.818182  30.627273  ...  33.927273  31.918182\n",
              "2020-10-05 10:10:00    30.825000  30.625000  ...  33.975000  31.866667\n",
              "2020-10-05 10:11:00    30.691667  30.575000  ...  34.025000  31.916667\n",
              "2020-10-05 10:12:00    30.566667  31.091667  ...  33.991667  31.916667\n",
              "2020-10-05 10:13:00    30.422222  31.100000  ...  33.977778  31.911111\n",
              "\n",
              "[43187 rows x 7 columns]"
            ]
          },
          "metadata": {},
          "execution_count": 45
        }
      ]
    },
    {
      "cell_type": "code",
      "metadata": {
        "id": "pTaucOzzwl0H"
      },
      "source": [
        "#  Plot mean of the iot data per every minute\n",
        "iot_data.resample('60S').mean().plot(figsize=(8,5), \n",
        "                                     title='Minutely change of temperature, humidity, and luminosity')\n",
        "plt.legend(bbox_to_anchor=(1.02, 1.0))"
      ],
      "execution_count": null,
      "outputs": []
    },
    {
      "cell_type": "code",
      "metadata": {
        "id": "12Ydfv9ULNBl"
      },
      "source": [
        "#  Plot mean of the iot data per every minute\n",
        "iot_data[['r_ratio', 'g_ratio', 'b_ratio']].resample('60S').mean().plot(figsize=(10,5), \n",
        "                                     title='Minutely change of R, G, B',\n",
        "                                     color=\"rgb\")"
      ],
      "execution_count": null,
      "outputs": []
    },
    {
      "cell_type": "code",
      "metadata": {
        "id": "cMHVdg3awl0M"
      },
      "source": [
        "# Estimate the mean of iot data for every hour\n",
        "iot_data.resample('H').mean()  # mean per each hour"
      ],
      "execution_count": null,
      "outputs": []
    },
    {
      "cell_type": "code",
      "metadata": {
        "id": "44z_H8_DPqIV"
      },
      "source": [
        "iot_data.resample('H').mean().shape, iot_data.resample('H').mean().info()"
      ],
      "execution_count": null,
      "outputs": []
    },
    {
      "cell_type": "code",
      "metadata": {
        "id": "7zNu8qnxwl0Q"
      },
      "source": [
        "#  Plot mean of the iot data per every hour \n",
        "iot_data.resample('H').mean().plot(figsize=(10,6), \n",
        "                                   title='Hourly change of temperature, humidity, and luminosity') #, \n",
        "                                #    ylim=[0,500])"
      ],
      "execution_count": null,
      "outputs": []
    },
    {
      "cell_type": "code",
      "metadata": {
        "id": "QXDpqM0IMSho"
      },
      "source": [
        "#  Plot mean of the iot data per every minute\n",
        "iot_data[['r_ratio', 'g_ratio', 'b_ratio']].resample('H').mean().plot(figsize=(10,6), \n",
        "                                    color = ['red', 'green', 'blue'],\n",
        "                                    title='Hourly change of R, G, B')"
      ],
      "execution_count": null,
      "outputs": []
    },
    {
      "cell_type": "markdown",
      "metadata": {
        "id": "4wCl6uERks-6"
      },
      "source": [
        "## [도전하기]  하루 24 시간 동안의 R,G,B 변화 그래프를 그려보시오."
      ]
    },
    {
      "cell_type": "code",
      "metadata": {
        "id": "JyLg04APwl0W",
        "colab": {
          "base_uri": "https://localhost:8080/",
          "height": 1000
        },
        "outputId": "67d95ed9-e294-4c82-9b1a-97a1d6d1ecad"
      },
      "source": [
        "# Estimate the mean of iot data for every day\n",
        "iot_data.resample('D').mean()"
      ],
      "execution_count": null,
      "outputs": [
        {
          "output_type": "execute_result",
          "data": {
            "text/html": [
              "<div>\n",
              "<style scoped>\n",
              "    .dataframe tbody tr th:only-of-type {\n",
              "        vertical-align: middle;\n",
              "    }\n",
              "\n",
              "    .dataframe tbody tr th {\n",
              "        vertical-align: top;\n",
              "    }\n",
              "\n",
              "    .dataframe thead th {\n",
              "        text-align: right;\n",
              "    }\n",
              "</style>\n",
              "<table border=\"1\" class=\"dataframe\">\n",
              "  <thead>\n",
              "    <tr style=\"text-align: right;\">\n",
              "      <th></th>\n",
              "      <th>temperature</th>\n",
              "      <th>humidity</th>\n",
              "      <th>luminosity</th>\n",
              "      <th>pressure</th>\n",
              "      <th>r_ratio</th>\n",
              "      <th>g_ratio</th>\n",
              "      <th>b_ratio</th>\n",
              "    </tr>\n",
              "    <tr>\n",
              "      <th>date</th>\n",
              "      <th></th>\n",
              "      <th></th>\n",
              "      <th></th>\n",
              "      <th></th>\n",
              "      <th></th>\n",
              "      <th></th>\n",
              "      <th></th>\n",
              "    </tr>\n",
              "  </thead>\n",
              "  <tbody>\n",
              "    <tr>\n",
              "      <th>2020-09-05</th>\n",
              "      <td>31.052136</td>\n",
              "      <td>52.490464</td>\n",
              "      <td>18.633230</td>\n",
              "      <td>1007.108658</td>\n",
              "      <td>32.213220</td>\n",
              "      <td>34.395232</td>\n",
              "      <td>33.345903</td>\n",
              "    </tr>\n",
              "    <tr>\n",
              "      <th>2020-09-06</th>\n",
              "      <td>31.125901</td>\n",
              "      <td>56.391947</td>\n",
              "      <td>45.633727</td>\n",
              "      <td>998.754859</td>\n",
              "      <td>32.057835</td>\n",
              "      <td>34.238456</td>\n",
              "      <td>33.647487</td>\n",
              "    </tr>\n",
              "    <tr>\n",
              "      <th>2020-09-07</th>\n",
              "      <td>30.225419</td>\n",
              "      <td>58.862701</td>\n",
              "      <td>17.786629</td>\n",
              "      <td>982.064419</td>\n",
              "      <td>32.311495</td>\n",
              "      <td>34.414029</td>\n",
              "      <td>33.218629</td>\n",
              "    </tr>\n",
              "    <tr>\n",
              "      <th>2020-09-08</th>\n",
              "      <td>31.107238</td>\n",
              "      <td>54.912228</td>\n",
              "      <td>78.312584</td>\n",
              "      <td>1004.465155</td>\n",
              "      <td>32.988721</td>\n",
              "      <td>34.087090</td>\n",
              "      <td>32.870780</td>\n",
              "    </tr>\n",
              "    <tr>\n",
              "      <th>2020-09-09</th>\n",
              "      <td>31.629219</td>\n",
              "      <td>53.017505</td>\n",
              "      <td>61.163469</td>\n",
              "      <td>1004.937320</td>\n",
              "      <td>32.856440</td>\n",
              "      <td>33.995519</td>\n",
              "      <td>33.094505</td>\n",
              "    </tr>\n",
              "    <tr>\n",
              "      <th>2020-09-10</th>\n",
              "      <td>31.622943</td>\n",
              "      <td>54.031462</td>\n",
              "      <td>62.532580</td>\n",
              "      <td>1002.413079</td>\n",
              "      <td>32.539498</td>\n",
              "      <td>34.106411</td>\n",
              "      <td>33.304268</td>\n",
              "    </tr>\n",
              "    <tr>\n",
              "      <th>2020-09-11</th>\n",
              "      <td>31.193339</td>\n",
              "      <td>54.651805</td>\n",
              "      <td>26.141551</td>\n",
              "      <td>1006.253831</td>\n",
              "      <td>32.613614</td>\n",
              "      <td>34.135420</td>\n",
              "      <td>33.199051</td>\n",
              "    </tr>\n",
              "    <tr>\n",
              "      <th>2020-09-12</th>\n",
              "      <td>32.170306</td>\n",
              "      <td>52.355965</td>\n",
              "      <td>86.934614</td>\n",
              "      <td>1006.245025</td>\n",
              "      <td>32.062719</td>\n",
              "      <td>34.169328</td>\n",
              "      <td>33.718521</td>\n",
              "    </tr>\n",
              "    <tr>\n",
              "      <th>2020-09-13</th>\n",
              "      <td>32.029314</td>\n",
              "      <td>50.396815</td>\n",
              "      <td>55.445622</td>\n",
              "      <td>1008.553278</td>\n",
              "      <td>32.097333</td>\n",
              "      <td>34.113053</td>\n",
              "      <td>33.732935</td>\n",
              "    </tr>\n",
              "    <tr>\n",
              "      <th>2020-09-14</th>\n",
              "      <td>30.957966</td>\n",
              "      <td>51.870496</td>\n",
              "      <td>56.787761</td>\n",
              "      <td>1007.480948</td>\n",
              "      <td>32.147537</td>\n",
              "      <td>34.193129</td>\n",
              "      <td>33.608449</td>\n",
              "    </tr>\n",
              "    <tr>\n",
              "      <th>2020-09-15</th>\n",
              "      <td>31.138036</td>\n",
              "      <td>52.720579</td>\n",
              "      <td>93.740406</td>\n",
              "      <td>1006.515396</td>\n",
              "      <td>32.887940</td>\n",
              "      <td>34.108461</td>\n",
              "      <td>32.956210</td>\n",
              "    </tr>\n",
              "    <tr>\n",
              "      <th>2020-09-16</th>\n",
              "      <td>30.769689</td>\n",
              "      <td>56.636769</td>\n",
              "      <td>26.798276</td>\n",
              "      <td>1003.623567</td>\n",
              "      <td>32.443612</td>\n",
              "      <td>34.331895</td>\n",
              "      <td>33.175151</td>\n",
              "    </tr>\n",
              "    <tr>\n",
              "      <th>2020-09-17</th>\n",
              "      <td>30.879893</td>\n",
              "      <td>59.809003</td>\n",
              "      <td>21.373668</td>\n",
              "      <td>1003.576748</td>\n",
              "      <td>32.596110</td>\n",
              "      <td>34.276923</td>\n",
              "      <td>33.074972</td>\n",
              "    </tr>\n",
              "    <tr>\n",
              "      <th>2020-09-18</th>\n",
              "      <td>31.258782</td>\n",
              "      <td>55.156115</td>\n",
              "      <td>36.301304</td>\n",
              "      <td>1006.627906</td>\n",
              "      <td>32.350210</td>\n",
              "      <td>34.055154</td>\n",
              "      <td>33.538545</td>\n",
              "    </tr>\n",
              "    <tr>\n",
              "      <th>2020-09-19</th>\n",
              "      <td>31.785355</td>\n",
              "      <td>47.845519</td>\n",
              "      <td>171.079311</td>\n",
              "      <td>1009.339271</td>\n",
              "      <td>32.828807</td>\n",
              "      <td>34.047126</td>\n",
              "      <td>33.072305</td>\n",
              "    </tr>\n",
              "    <tr>\n",
              "      <th>2020-09-20</th>\n",
              "      <td>32.113697</td>\n",
              "      <td>43.272647</td>\n",
              "      <td>178.496622</td>\n",
              "      <td>1009.316830</td>\n",
              "      <td>31.765036</td>\n",
              "      <td>34.224179</td>\n",
              "      <td>33.959847</td>\n",
              "    </tr>\n",
              "    <tr>\n",
              "      <th>2020-09-21</th>\n",
              "      <td>30.704169</td>\n",
              "      <td>43.337606</td>\n",
              "      <td>109.501252</td>\n",
              "      <td>1010.809055</td>\n",
              "      <td>32.646748</td>\n",
              "      <td>34.085809</td>\n",
              "      <td>33.216485</td>\n",
              "    </tr>\n",
              "    <tr>\n",
              "      <th>2020-09-22</th>\n",
              "      <td>29.825198</td>\n",
              "      <td>45.248049</td>\n",
              "      <td>54.426275</td>\n",
              "      <td>1010.554758</td>\n",
              "      <td>32.019980</td>\n",
              "      <td>34.165630</td>\n",
              "      <td>33.760424</td>\n",
              "    </tr>\n",
              "    <tr>\n",
              "      <th>2020-09-23</th>\n",
              "      <td>29.720050</td>\n",
              "      <td>47.607023</td>\n",
              "      <td>51.556429</td>\n",
              "      <td>1009.061845</td>\n",
              "      <td>32.809306</td>\n",
              "      <td>34.073375</td>\n",
              "      <td>33.067633</td>\n",
              "    </tr>\n",
              "    <tr>\n",
              "      <th>2020-09-24</th>\n",
              "      <td>29.786904</td>\n",
              "      <td>48.355482</td>\n",
              "      <td>58.105806</td>\n",
              "      <td>1006.497129</td>\n",
              "      <td>32.889128</td>\n",
              "      <td>34.113003</td>\n",
              "      <td>32.942439</td>\n",
              "    </tr>\n",
              "    <tr>\n",
              "      <th>2020-09-25</th>\n",
              "      <td>30.864215</td>\n",
              "      <td>47.421162</td>\n",
              "      <td>95.088400</td>\n",
              "      <td>1003.800664</td>\n",
              "      <td>32.376858</td>\n",
              "      <td>34.179187</td>\n",
              "      <td>33.392494</td>\n",
              "    </tr>\n",
              "    <tr>\n",
              "      <th>2020-09-26</th>\n",
              "      <td>31.745886</td>\n",
              "      <td>43.632999</td>\n",
              "      <td>133.180108</td>\n",
              "      <td>1007.375636</td>\n",
              "      <td>31.907256</td>\n",
              "      <td>34.113137</td>\n",
              "      <td>33.928044</td>\n",
              "    </tr>\n",
              "    <tr>\n",
              "      <th>2020-09-27</th>\n",
              "      <td>31.971523</td>\n",
              "      <td>42.140741</td>\n",
              "      <td>176.391451</td>\n",
              "      <td>1010.752155</td>\n",
              "      <td>32.338219</td>\n",
              "      <td>34.124161</td>\n",
              "      <td>33.487619</td>\n",
              "    </tr>\n",
              "    <tr>\n",
              "      <th>2020-09-28</th>\n",
              "      <td>31.091062</td>\n",
              "      <td>42.222361</td>\n",
              "      <td>102.615035</td>\n",
              "      <td>1009.882187</td>\n",
              "      <td>32.886939</td>\n",
              "      <td>34.082280</td>\n",
              "      <td>32.978332</td>\n",
              "    </tr>\n",
              "    <tr>\n",
              "      <th>2020-09-29</th>\n",
              "      <td>30.851386</td>\n",
              "      <td>42.384020</td>\n",
              "      <td>126.696890</td>\n",
              "      <td>1004.364093</td>\n",
              "      <td>32.959446</td>\n",
              "      <td>34.019631</td>\n",
              "      <td>32.966306</td>\n",
              "    </tr>\n",
              "    <tr>\n",
              "      <th>2020-09-30</th>\n",
              "      <td>31.389833</td>\n",
              "      <td>42.222623</td>\n",
              "      <td>149.697840</td>\n",
              "      <td>1003.005637</td>\n",
              "      <td>32.543231</td>\n",
              "      <td>34.016258</td>\n",
              "      <td>33.388237</td>\n",
              "    </tr>\n",
              "    <tr>\n",
              "      <th>2020-10-01</th>\n",
              "      <td>31.565974</td>\n",
              "      <td>42.694654</td>\n",
              "      <td>152.926217</td>\n",
              "      <td>1007.031429</td>\n",
              "      <td>32.380812</td>\n",
              "      <td>34.028535</td>\n",
              "      <td>33.539174</td>\n",
              "    </tr>\n",
              "    <tr>\n",
              "      <th>2020-10-02</th>\n",
              "      <td>31.772748</td>\n",
              "      <td>44.433425</td>\n",
              "      <td>184.457928</td>\n",
              "      <td>1008.437524</td>\n",
              "      <td>32.194247</td>\n",
              "      <td>34.033401</td>\n",
              "      <td>33.720253</td>\n",
              "    </tr>\n",
              "    <tr>\n",
              "      <th>2020-10-03</th>\n",
              "      <td>31.086973</td>\n",
              "      <td>49.116859</td>\n",
              "      <td>41.005125</td>\n",
              "      <td>1008.013935</td>\n",
              "      <td>31.939355</td>\n",
              "      <td>34.051887</td>\n",
              "      <td>33.956755</td>\n",
              "    </tr>\n",
              "    <tr>\n",
              "      <th>2020-10-04</th>\n",
              "      <td>31.454405</td>\n",
              "      <td>48.691091</td>\n",
              "      <td>67.415652</td>\n",
              "      <td>1004.419170</td>\n",
              "      <td>32.152524</td>\n",
              "      <td>34.029861</td>\n",
              "      <td>33.758272</td>\n",
              "    </tr>\n",
              "    <tr>\n",
              "      <th>2020-10-05</th>\n",
              "      <td>30.458942</td>\n",
              "      <td>38.077169</td>\n",
              "      <td>217.271485</td>\n",
              "      <td>1007.299003</td>\n",
              "      <td>33.773234</td>\n",
              "      <td>33.684260</td>\n",
              "      <td>32.477210</td>\n",
              "    </tr>\n",
              "  </tbody>\n",
              "</table>\n",
              "</div>"
            ],
            "text/plain": [
              "            temperature   humidity  luminosity  ...    r_ratio    g_ratio    b_ratio\n",
              "date                                            ...                                 \n",
              "2020-09-05    31.052136  52.490464   18.633230  ...  32.213220  34.395232  33.345903\n",
              "2020-09-06    31.125901  56.391947   45.633727  ...  32.057835  34.238456  33.647487\n",
              "2020-09-07    30.225419  58.862701   17.786629  ...  32.311495  34.414029  33.218629\n",
              "2020-09-08    31.107238  54.912228   78.312584  ...  32.988721  34.087090  32.870780\n",
              "2020-09-09    31.629219  53.017505   61.163469  ...  32.856440  33.995519  33.094505\n",
              "2020-09-10    31.622943  54.031462   62.532580  ...  32.539498  34.106411  33.304268\n",
              "2020-09-11    31.193339  54.651805   26.141551  ...  32.613614  34.135420  33.199051\n",
              "2020-09-12    32.170306  52.355965   86.934614  ...  32.062719  34.169328  33.718521\n",
              "2020-09-13    32.029314  50.396815   55.445622  ...  32.097333  34.113053  33.732935\n",
              "2020-09-14    30.957966  51.870496   56.787761  ...  32.147537  34.193129  33.608449\n",
              "2020-09-15    31.138036  52.720579   93.740406  ...  32.887940  34.108461  32.956210\n",
              "2020-09-16    30.769689  56.636769   26.798276  ...  32.443612  34.331895  33.175151\n",
              "2020-09-17    30.879893  59.809003   21.373668  ...  32.596110  34.276923  33.074972\n",
              "2020-09-18    31.258782  55.156115   36.301304  ...  32.350210  34.055154  33.538545\n",
              "2020-09-19    31.785355  47.845519  171.079311  ...  32.828807  34.047126  33.072305\n",
              "2020-09-20    32.113697  43.272647  178.496622  ...  31.765036  34.224179  33.959847\n",
              "2020-09-21    30.704169  43.337606  109.501252  ...  32.646748  34.085809  33.216485\n",
              "2020-09-22    29.825198  45.248049   54.426275  ...  32.019980  34.165630  33.760424\n",
              "2020-09-23    29.720050  47.607023   51.556429  ...  32.809306  34.073375  33.067633\n",
              "2020-09-24    29.786904  48.355482   58.105806  ...  32.889128  34.113003  32.942439\n",
              "2020-09-25    30.864215  47.421162   95.088400  ...  32.376858  34.179187  33.392494\n",
              "2020-09-26    31.745886  43.632999  133.180108  ...  31.907256  34.113137  33.928044\n",
              "2020-09-27    31.971523  42.140741  176.391451  ...  32.338219  34.124161  33.487619\n",
              "2020-09-28    31.091062  42.222361  102.615035  ...  32.886939  34.082280  32.978332\n",
              "2020-09-29    30.851386  42.384020  126.696890  ...  32.959446  34.019631  32.966306\n",
              "2020-09-30    31.389833  42.222623  149.697840  ...  32.543231  34.016258  33.388237\n",
              "2020-10-01    31.565974  42.694654  152.926217  ...  32.380812  34.028535  33.539174\n",
              "2020-10-02    31.772748  44.433425  184.457928  ...  32.194247  34.033401  33.720253\n",
              "2020-10-03    31.086973  49.116859   41.005125  ...  31.939355  34.051887  33.956755\n",
              "2020-10-04    31.454405  48.691091   67.415652  ...  32.152524  34.029861  33.758272\n",
              "2020-10-05    30.458942  38.077169  217.271485  ...  33.773234  33.684260  32.477210\n",
              "\n",
              "[31 rows x 7 columns]"
            ]
          },
          "metadata": {},
          "execution_count": 52
        }
      ]
    },
    {
      "cell_type": "code",
      "metadata": {
        "id": "gVG9n14NRpMr",
        "colab": {
          "base_uri": "https://localhost:8080/"
        },
        "outputId": "6bebf456-ee97-4722-dbc4-511f9dec7d5a"
      },
      "source": [
        "iot_data.resample('D').mean().shape, iot_data.resample('D').mean().info()"
      ],
      "execution_count": null,
      "outputs": [
        {
          "output_type": "stream",
          "name": "stdout",
          "text": [
            "<class 'pandas.core.frame.DataFrame'>\n",
            "DatetimeIndex: 31 entries, 2020-09-05 to 2020-10-05\n",
            "Freq: D\n",
            "Data columns (total 7 columns):\n",
            " #   Column       Non-Null Count  Dtype  \n",
            "---  ------       --------------  -----  \n",
            " 0   temperature  31 non-null     float64\n",
            " 1   humidity     31 non-null     float64\n",
            " 2   luminosity   31 non-null     float64\n",
            " 3   pressure     31 non-null     float64\n",
            " 4   r_ratio      31 non-null     float64\n",
            " 5   g_ratio      31 non-null     float64\n",
            " 6   b_ratio      31 non-null     float64\n",
            "dtypes: float64(7)\n",
            "memory usage: 1.9 KB\n"
          ]
        },
        {
          "output_type": "execute_result",
          "data": {
            "text/plain": [
              "((31, 7), None)"
            ]
          },
          "metadata": {},
          "execution_count": 53
        }
      ]
    },
    {
      "cell_type": "code",
      "metadata": {
        "id": "7pu_nLRlR43f",
        "colab": {
          "base_uri": "https://localhost:8080/",
          "height": 338
        },
        "outputId": "9989e1e0-676e-4bf4-8607-0a3da75bd5be"
      },
      "source": [
        "iot_data.resample('D').mean().head()"
      ],
      "execution_count": null,
      "outputs": [
        {
          "output_type": "execute_result",
          "data": {
            "text/html": [
              "<div>\n",
              "<style scoped>\n",
              "    .dataframe tbody tr th:only-of-type {\n",
              "        vertical-align: middle;\n",
              "    }\n",
              "\n",
              "    .dataframe tbody tr th {\n",
              "        vertical-align: top;\n",
              "    }\n",
              "\n",
              "    .dataframe thead th {\n",
              "        text-align: right;\n",
              "    }\n",
              "</style>\n",
              "<table border=\"1\" class=\"dataframe\">\n",
              "  <thead>\n",
              "    <tr style=\"text-align: right;\">\n",
              "      <th></th>\n",
              "      <th>temperature</th>\n",
              "      <th>humidity</th>\n",
              "      <th>luminosity</th>\n",
              "      <th>pressure</th>\n",
              "      <th>r_ratio</th>\n",
              "      <th>g_ratio</th>\n",
              "      <th>b_ratio</th>\n",
              "    </tr>\n",
              "    <tr>\n",
              "      <th>date</th>\n",
              "      <th></th>\n",
              "      <th></th>\n",
              "      <th></th>\n",
              "      <th></th>\n",
              "      <th></th>\n",
              "      <th></th>\n",
              "      <th></th>\n",
              "    </tr>\n",
              "  </thead>\n",
              "  <tbody>\n",
              "    <tr>\n",
              "      <th>2020-09-05</th>\n",
              "      <td>31.052136</td>\n",
              "      <td>52.490464</td>\n",
              "      <td>18.633230</td>\n",
              "      <td>1007.108658</td>\n",
              "      <td>32.213220</td>\n",
              "      <td>34.395232</td>\n",
              "      <td>33.345903</td>\n",
              "    </tr>\n",
              "    <tr>\n",
              "      <th>2020-09-06</th>\n",
              "      <td>31.125901</td>\n",
              "      <td>56.391947</td>\n",
              "      <td>45.633727</td>\n",
              "      <td>998.754859</td>\n",
              "      <td>32.057835</td>\n",
              "      <td>34.238456</td>\n",
              "      <td>33.647487</td>\n",
              "    </tr>\n",
              "    <tr>\n",
              "      <th>2020-09-07</th>\n",
              "      <td>30.225419</td>\n",
              "      <td>58.862701</td>\n",
              "      <td>17.786629</td>\n",
              "      <td>982.064419</td>\n",
              "      <td>32.311495</td>\n",
              "      <td>34.414029</td>\n",
              "      <td>33.218629</td>\n",
              "    </tr>\n",
              "    <tr>\n",
              "      <th>2020-09-08</th>\n",
              "      <td>31.107238</td>\n",
              "      <td>54.912228</td>\n",
              "      <td>78.312584</td>\n",
              "      <td>1004.465155</td>\n",
              "      <td>32.988721</td>\n",
              "      <td>34.087090</td>\n",
              "      <td>32.870780</td>\n",
              "    </tr>\n",
              "    <tr>\n",
              "      <th>2020-09-09</th>\n",
              "      <td>31.629219</td>\n",
              "      <td>53.017505</td>\n",
              "      <td>61.163469</td>\n",
              "      <td>1004.937320</td>\n",
              "      <td>32.856440</td>\n",
              "      <td>33.995519</td>\n",
              "      <td>33.094505</td>\n",
              "    </tr>\n",
              "  </tbody>\n",
              "</table>\n",
              "</div>"
            ],
            "text/plain": [
              "            temperature   humidity  luminosity  ...    r_ratio    g_ratio    b_ratio\n",
              "date                                            ...                                 \n",
              "2020-09-05    31.052136  52.490464   18.633230  ...  32.213220  34.395232  33.345903\n",
              "2020-09-06    31.125901  56.391947   45.633727  ...  32.057835  34.238456  33.647487\n",
              "2020-09-07    30.225419  58.862701   17.786629  ...  32.311495  34.414029  33.218629\n",
              "2020-09-08    31.107238  54.912228   78.312584  ...  32.988721  34.087090  32.870780\n",
              "2020-09-09    31.629219  53.017505   61.163469  ...  32.856440  33.995519  33.094505\n",
              "\n",
              "[5 rows x 7 columns]"
            ]
          },
          "metadata": {},
          "execution_count": 54
        }
      ]
    },
    {
      "cell_type": "code",
      "metadata": {
        "id": "xdaLijZESQJD",
        "colab": {
          "base_uri": "https://localhost:8080/",
          "height": 338
        },
        "outputId": "731704f7-4403-4aae-cde5-4ca3ed65fa85"
      },
      "source": [
        "iot_data_day=iot_data.resample('D').mean()\n",
        "iot_data_day.head()"
      ],
      "execution_count": null,
      "outputs": [
        {
          "output_type": "execute_result",
          "data": {
            "text/html": [
              "<div>\n",
              "<style scoped>\n",
              "    .dataframe tbody tr th:only-of-type {\n",
              "        vertical-align: middle;\n",
              "    }\n",
              "\n",
              "    .dataframe tbody tr th {\n",
              "        vertical-align: top;\n",
              "    }\n",
              "\n",
              "    .dataframe thead th {\n",
              "        text-align: right;\n",
              "    }\n",
              "</style>\n",
              "<table border=\"1\" class=\"dataframe\">\n",
              "  <thead>\n",
              "    <tr style=\"text-align: right;\">\n",
              "      <th></th>\n",
              "      <th>temperature</th>\n",
              "      <th>humidity</th>\n",
              "      <th>luminosity</th>\n",
              "      <th>pressure</th>\n",
              "      <th>r_ratio</th>\n",
              "      <th>g_ratio</th>\n",
              "      <th>b_ratio</th>\n",
              "    </tr>\n",
              "    <tr>\n",
              "      <th>date</th>\n",
              "      <th></th>\n",
              "      <th></th>\n",
              "      <th></th>\n",
              "      <th></th>\n",
              "      <th></th>\n",
              "      <th></th>\n",
              "      <th></th>\n",
              "    </tr>\n",
              "  </thead>\n",
              "  <tbody>\n",
              "    <tr>\n",
              "      <th>2020-09-05</th>\n",
              "      <td>31.052136</td>\n",
              "      <td>52.490464</td>\n",
              "      <td>18.633230</td>\n",
              "      <td>1007.108658</td>\n",
              "      <td>32.213220</td>\n",
              "      <td>34.395232</td>\n",
              "      <td>33.345903</td>\n",
              "    </tr>\n",
              "    <tr>\n",
              "      <th>2020-09-06</th>\n",
              "      <td>31.125901</td>\n",
              "      <td>56.391947</td>\n",
              "      <td>45.633727</td>\n",
              "      <td>998.754859</td>\n",
              "      <td>32.057835</td>\n",
              "      <td>34.238456</td>\n",
              "      <td>33.647487</td>\n",
              "    </tr>\n",
              "    <tr>\n",
              "      <th>2020-09-07</th>\n",
              "      <td>30.225419</td>\n",
              "      <td>58.862701</td>\n",
              "      <td>17.786629</td>\n",
              "      <td>982.064419</td>\n",
              "      <td>32.311495</td>\n",
              "      <td>34.414029</td>\n",
              "      <td>33.218629</td>\n",
              "    </tr>\n",
              "    <tr>\n",
              "      <th>2020-09-08</th>\n",
              "      <td>31.107238</td>\n",
              "      <td>54.912228</td>\n",
              "      <td>78.312584</td>\n",
              "      <td>1004.465155</td>\n",
              "      <td>32.988721</td>\n",
              "      <td>34.087090</td>\n",
              "      <td>32.870780</td>\n",
              "    </tr>\n",
              "    <tr>\n",
              "      <th>2020-09-09</th>\n",
              "      <td>31.629219</td>\n",
              "      <td>53.017505</td>\n",
              "      <td>61.163469</td>\n",
              "      <td>1004.937320</td>\n",
              "      <td>32.856440</td>\n",
              "      <td>33.995519</td>\n",
              "      <td>33.094505</td>\n",
              "    </tr>\n",
              "  </tbody>\n",
              "</table>\n",
              "</div>"
            ],
            "text/plain": [
              "            temperature   humidity  luminosity  ...    r_ratio    g_ratio    b_ratio\n",
              "date                                            ...                                 \n",
              "2020-09-05    31.052136  52.490464   18.633230  ...  32.213220  34.395232  33.345903\n",
              "2020-09-06    31.125901  56.391947   45.633727  ...  32.057835  34.238456  33.647487\n",
              "2020-09-07    30.225419  58.862701   17.786629  ...  32.311495  34.414029  33.218629\n",
              "2020-09-08    31.107238  54.912228   78.312584  ...  32.988721  34.087090  32.870780\n",
              "2020-09-09    31.629219  53.017505   61.163469  ...  32.856440  33.995519  33.094505\n",
              "\n",
              "[5 rows x 7 columns]"
            ]
          },
          "metadata": {},
          "execution_count": 55
        }
      ]
    },
    {
      "cell_type": "code",
      "metadata": {
        "id": "FRRF6x-rSacH",
        "colab": {
          "base_uri": "https://localhost:8080/"
        },
        "outputId": "666c61b0-a85e-42b7-db14-df1b73d3cfba"
      },
      "source": [
        "iot_data_day.info()"
      ],
      "execution_count": null,
      "outputs": [
        {
          "output_type": "stream",
          "name": "stdout",
          "text": [
            "<class 'pandas.core.frame.DataFrame'>\n",
            "DatetimeIndex: 31 entries, 2020-09-05 to 2020-10-05\n",
            "Freq: D\n",
            "Data columns (total 7 columns):\n",
            " #   Column       Non-Null Count  Dtype  \n",
            "---  ------       --------------  -----  \n",
            " 0   temperature  31 non-null     float64\n",
            " 1   humidity     31 non-null     float64\n",
            " 2   luminosity   31 non-null     float64\n",
            " 3   pressure     31 non-null     float64\n",
            " 4   r_ratio      31 non-null     float64\n",
            " 5   g_ratio      31 non-null     float64\n",
            " 6   b_ratio      31 non-null     float64\n",
            "dtypes: float64(7)\n",
            "memory usage: 1.9 KB\n"
          ]
        }
      ]
    },
    {
      "cell_type": "code",
      "metadata": {
        "id": "xuIjKqS4wl0b"
      },
      "source": [
        "#  Plot mean of the iot data per every day\n",
        "iot_data.resample('D').mean().plot(kind='bar', #marker='o', ms=6, figsize=(12,6), \n",
        "                                   title='Daily change of temperature, humidity, and luminosity')"
      ],
      "execution_count": null,
      "outputs": []
    },
    {
      "cell_type": "code",
      "metadata": {
        "id": "hNwnad-1Mq2J"
      },
      "source": [
        "#  Plot mean of the iot data per every minute\n",
        "iot_data[['r_ratio', 'g_ratio', 'b_ratio']].resample('D').mean().plot(figsize=(10,6), \n",
        "                                    color = ['r','g','b'], #marker='o', ms=6, \n",
        "                                    title='Dayly change of R, G, B')"
      ],
      "execution_count": null,
      "outputs": []
    },
    {
      "cell_type": "markdown",
      "metadata": {
        "id": "YWg8g8NLNEq5"
      },
      "source": [
        "## 위의 그래프를 파이 그래프로 그려보시오."
      ]
    },
    {
      "cell_type": "code",
      "metadata": {
        "id": "Ww1n14LgMyu0",
        "colab": {
          "base_uri": "https://localhost:8080/",
          "height": 234
        },
        "outputId": "09e3e19c-2dd9-4314-d82a-a3b1e4a07b3d"
      },
      "source": [
        "#  Plot mean of the iot data per every day\n",
        "# df.plot.pie(subplots=True, figsize=(6, 3))\n",
        "iot_rgb = iot_data[['r_ratio', 'g_ratio', 'b_ratio']].resample('D').mean()\n",
        "iot_rgb.head()\n"
      ],
      "execution_count": null,
      "outputs": [
        {
          "output_type": "execute_result",
          "data": {
            "text/html": [
              "<div>\n",
              "<style scoped>\n",
              "    .dataframe tbody tr th:only-of-type {\n",
              "        vertical-align: middle;\n",
              "    }\n",
              "\n",
              "    .dataframe tbody tr th {\n",
              "        vertical-align: top;\n",
              "    }\n",
              "\n",
              "    .dataframe thead th {\n",
              "        text-align: right;\n",
              "    }\n",
              "</style>\n",
              "<table border=\"1\" class=\"dataframe\">\n",
              "  <thead>\n",
              "    <tr style=\"text-align: right;\">\n",
              "      <th></th>\n",
              "      <th>r_ratio</th>\n",
              "      <th>g_ratio</th>\n",
              "      <th>b_ratio</th>\n",
              "    </tr>\n",
              "    <tr>\n",
              "      <th>date</th>\n",
              "      <th></th>\n",
              "      <th></th>\n",
              "      <th></th>\n",
              "    </tr>\n",
              "  </thead>\n",
              "  <tbody>\n",
              "    <tr>\n",
              "      <th>2020-09-05</th>\n",
              "      <td>32.213220</td>\n",
              "      <td>34.395232</td>\n",
              "      <td>33.345903</td>\n",
              "    </tr>\n",
              "    <tr>\n",
              "      <th>2020-09-06</th>\n",
              "      <td>32.057835</td>\n",
              "      <td>34.238456</td>\n",
              "      <td>33.647487</td>\n",
              "    </tr>\n",
              "    <tr>\n",
              "      <th>2020-09-07</th>\n",
              "      <td>32.311495</td>\n",
              "      <td>34.414029</td>\n",
              "      <td>33.218629</td>\n",
              "    </tr>\n",
              "    <tr>\n",
              "      <th>2020-09-08</th>\n",
              "      <td>32.988721</td>\n",
              "      <td>34.087090</td>\n",
              "      <td>32.870780</td>\n",
              "    </tr>\n",
              "    <tr>\n",
              "      <th>2020-09-09</th>\n",
              "      <td>32.856440</td>\n",
              "      <td>33.995519</td>\n",
              "      <td>33.094505</td>\n",
              "    </tr>\n",
              "  </tbody>\n",
              "</table>\n",
              "</div>"
            ],
            "text/plain": [
              "              r_ratio    g_ratio    b_ratio\n",
              "date                                       \n",
              "2020-09-05  32.213220  34.395232  33.345903\n",
              "2020-09-06  32.057835  34.238456  33.647487\n",
              "2020-09-07  32.311495  34.414029  33.218629\n",
              "2020-09-08  32.988721  34.087090  32.870780\n",
              "2020-09-09  32.856440  33.995519  33.094505"
            ]
          },
          "metadata": {},
          "execution_count": 59
        }
      ]
    },
    {
      "cell_type": "code",
      "metadata": {
        "id": "iHXiQOJ3hDUE"
      },
      "source": [
        "iot_rgb.iloc[0],iot_rgb.iloc[1]"
      ],
      "execution_count": null,
      "outputs": []
    },
    {
      "cell_type": "code",
      "metadata": {
        "id": "-j_JwzWzUMsE"
      },
      "source": [
        "iot_rgb.index, len(iot_rgb.index)"
      ],
      "execution_count": null,
      "outputs": []
    },
    {
      "cell_type": "code",
      "metadata": {
        "id": "njj5inFhUsNY"
      },
      "source": [
        "# Convert timestamp to date string\n",
        "iot_rgb.index[0].strftime('%Y-%m-%d')"
      ],
      "execution_count": null,
      "outputs": []
    },
    {
      "cell_type": "code",
      "metadata": {
        "id": "Z0qbRkwbg0Ki"
      },
      "source": [
        "iot_rgb.iloc[0].plot.pie(subplots=True, figsize=(5,3), \n",
        "                         colors = ['red', 'green', 'blue'], labeldistance=None, \n",
        "                         autopct='%.2f', \n",
        "                         title='Daily change of R, G, B')\n",
        "plt.ylabel(iot_rgb.index[0].strftime('%Y-%m-%d'))\n",
        "plt.show()"
      ],
      "execution_count": null,
      "outputs": []
    },
    {
      "cell_type": "markdown",
      "metadata": {
        "id": "GAwnIF7LxcBX"
      },
      "source": [
        "## Weekly graph"
      ]
    },
    {
      "cell_type": "code",
      "metadata": {
        "id": "HtVlVQjtyifN"
      },
      "source": [
        "# Estimate the mean of iot data for every week\n",
        "iot_data.resample('W').mean()"
      ],
      "execution_count": null,
      "outputs": []
    },
    {
      "cell_type": "code",
      "metadata": {
        "id": "-2V_u9mAyo3z"
      },
      "source": [
        "#  Plot mean of the iot data per every week\n",
        "iot_data.resample('W').mean().plot(kind='bar', #marker='o', ms=10, \n",
        "                                   figsize=(12,6), \n",
        "                                   title='Weekly change of temperature, humidity, and luminosity, pressure, R, G , B')"
      ],
      "execution_count": null,
      "outputs": []
    },
    {
      "cell_type": "code",
      "metadata": {
        "id": "JfDPpCrpdKHE"
      },
      "source": [
        "#  Plot mean of the iot data per every week\n",
        "iot_data['temperature'].resample('W').mean().plot(kind='bar', #marker='o', ms=10, \n",
        "                                   figsize=(12,6), \n",
        "                                   title='Weekly change of temperature')"
      ],
      "execution_count": null,
      "outputs": []
    },
    {
      "cell_type": "markdown",
      "metadata": {
        "id": "J78vRZd9rNbg"
      },
      "source": [
        "### 다중 파이 그래프\n",
        "- https://medium.com/@kvnamipara/a-better-visualisation-of-pie-charts-by-matplotlib-935b7667d77f"
      ]
    },
    {
      "cell_type": "code",
      "metadata": {
        "id": "FHgZpSWiqdF-"
      },
      "source": [
        "fig, axs = plt.subplots(nrows=1, ncols=iot_rgb.index.size, figsize=(20,5))\n",
        "\n",
        "fig.subplots_adjust(hspace=0.5, wspace=0.05)\n",
        "\n",
        "for row in range(iot_rgb.index.size):\n",
        "    fig.add_subplot(axs[row] )\n",
        "    plt.pie(iot_rgb.iloc[row],\n",
        "            colors = ['red', 'green', 'blue'], labeldistance=None, \n",
        "                         autopct='%.2f')  #, labels=df.columns)\n",
        "    plt.ylabel(iot_rgb.index[row].strftime('%Y-%m-%d'))\n",
        "    # plt.axis('off')"
      ],
      "execution_count": null,
      "outputs": []
    },
    {
      "cell_type": "code",
      "metadata": {
        "id": "6dS0OnwOnoaM"
      },
      "source": [
        "for row in ax:\n",
        "    for col in row:\n",
        "        col.plot(x, y)"
      ],
      "execution_count": null,
      "outputs": []
    },
    {
      "cell_type": "code",
      "metadata": {
        "id": "rBrWEwN2uyb4"
      },
      "source": [
        "fig, axs = plt.subplots(nrows=(iot_rgb.index.size-1)//7+1, ncols=7, figsize=(16,16))\n",
        "# axs.set_axis_off()\n",
        "\n",
        "fig.subplots_adjust(hspace=0.5, wspace=0.05)\n",
        "idx=0\n",
        "for row in axs:\n",
        "    # fig.add_subplot(axs[row] )\n",
        "    # fig.add_subplot(5, 7, row+1)\n",
        "    # ax = axs[row]\n",
        "    for col in row:\n",
        "        col.pie(iot_rgb.iloc[idx],\n",
        "            colors = ['red', 'green', 'blue'], labeldistance=None, \n",
        "                         autopct='%.2f')  #, labels=df.columns)\n",
        "        \n",
        "        col.set_ylabel(iot_rgb.index[idx].strftime('%Y-%m-%d'),fontsize=12)\n",
        "        idx = idx + 1\n",
        "\n",
        "        if idx == iot_rgb.index.size:\n",
        "            idx = iot_rgb.index.size-1\n",
        "        \n",
        "    # plt.axis('off')\n",
        "    # plt.axis('off')\n",
        "    # plt.grid(False)\n",
        "plt.show()"
      ],
      "execution_count": null,
      "outputs": []
    },
    {
      "cell_type": "code",
      "metadata": {
        "id": "hrLimCddnx9U"
      },
      "source": [
        "fig, axs = plt.subplots(nrows=(iot_rgb.index.size-1)//7+1, ncols=7, figsize=(16,16))\n",
        "# axs.set_axis_off()\n",
        "\n",
        "fig.subplots_adjust(hspace=0.5, wspace=0.05)\n",
        "\n",
        "for row in range(iot_rgb.index.size):\n",
        "    # fig.add_subplot(axs[row] )\n",
        "    fig.add_subplot(5, 7, row+1)\n",
        "    ax = axs[row]\n",
        "    plt.pie(iot_rgb.iloc[row],\n",
        "            colors = ['red', 'green', 'blue'], labeldistance=None, \n",
        "                         autopct='%.2f')  #, labels=df.columns)\n",
        "    plt.ylabel(iot_rgb.index[row].strftime('%Y-%m-%d'),fontsize=14)\n",
        "    # plt.axis('off')\n",
        "    # plt.axis('off')\n",
        "    plt.grid(False)\n",
        "plt.show()"
      ],
      "execution_count": null,
      "outputs": []
    },
    {
      "cell_type": "markdown",
      "metadata": {
        "id": "3wvbI6pXnfCs"
      },
      "source": [
        "### animate pie chart\n",
        "- https://towardsdatascience.com/learn-how-to-create-animated-graphs-in-python-fce780421afe\n",
        "- https://pinkwink.kr/1090"
      ]
    },
    {
      "cell_type": "code",
      "metadata": {
        "id": "T0r-hoYw7Svs",
        "colab": {
          "base_uri": "https://localhost:8080/"
        },
        "outputId": "97c728ce-81bb-4bd4-8005-ffc1a7f6a156"
      },
      "source": [
        "iot_rgb.columns"
      ],
      "execution_count": null,
      "outputs": [
        {
          "output_type": "execute_result",
          "data": {
            "text/plain": [
              "Index(['r_ratio', 'g_ratio', 'b_ratio'], dtype='object')"
            ]
          },
          "metadata": {},
          "execution_count": 71
        }
      ]
    },
    {
      "cell_type": "code",
      "metadata": {
        "id": "0A5SzUM95xkI"
      },
      "source": [
        "fig,ax = plt.subplots()\n",
        "explode=[0.01,0.01,0.01] #pop out each slice from the pie\n",
        "def getmepie(i):\n",
        "    iv = min(i, len(iot_rgb.index)-1)\n",
        "    # def absolute_value(val): #turn % back to a number\n",
        "    #     a  = np.round(val/100.*df1.head(i).max().sum(), 0)\n",
        "    #     return int(a)\n",
        "    ax.clear()\n",
        "    plot = iot_rgb.iloc[iv].plot.pie(y=iot_rgb.columns, autopct='%.2f', label='',explode = explode, colors=['r','g','b'], shadow = True)\n",
        "    plot.set_title('Date\\n' + str(iot_rgb.index[iv].strftime('%Y-%m-%d')), fontsize=12)\n",
        "\n",
        "# import matplotlib.animation as ani\n",
        "animator = animation.FuncAnimation(fig, getmepie, interval = 200)\n",
        "# plt.show()\n",
        "rc('animation', html='html5')\n",
        "animator"
      ],
      "execution_count": null,
      "outputs": []
    },
    {
      "cell_type": "markdown",
      "metadata": {
        "id": "CiIDU0dHwl0h"
      },
      "source": [
        "## 와, Great!"
      ]
    },
    {
      "cell_type": "code",
      "metadata": {
        "id": "LgCISM41wl0j"
      },
      "source": [
        ""
      ],
      "execution_count": null,
      "outputs": []
    }
  ]
}