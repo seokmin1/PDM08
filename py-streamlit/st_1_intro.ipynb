{
  "nbformat": 4,
  "nbformat_minor": 0,
  "metadata": {
    "colab": {
      "name": "st_1_intro.ipynb",
      "provenance": [],
      "collapsed_sections": []
    },
    "kernelspec": {
      "name": "python3",
      "display_name": "Python 3"
    }
  },
  "cells": [
    {
      "cell_type": "markdown",
      "metadata": {
        "id": "O5Gq5ZnKOKpX"
      },
      "source": [
        "\n",
        "\n",
        "# streamlit\n",
        "\n",
        "- WebApp generation module => \n",
        "[streamlit-vs-dash-vs-shiny-vs-voila-vs-flask-vs-jupyter](https://towardsdatascience.com/streamlit-vs-dash-vs-shiny-vs-voila-vs-flask-vs-jupyter-24739ab5d569)\n",
        "- !pip install -q streamlit\n",
        "- !pip install pyngrok\n",
        "\n",
        "- Run webapp in Colab\n",
        "    * make streamlit python code\n",
        "    * !streamlit run *.py &>/dev/null&\n",
        "\n",
        "> [How to run streamlit app in colab?](https://mc.ai/how-to-run-and-share-your-deep-learning-web-app-on-colab-2/)"
      ]
    },
    {
      "cell_type": "code",
      "metadata": {
        "id": "R8l0okryNgBJ",
        "colab": {
          "base_uri": "https://localhost:8080/"
        },
        "outputId": "949b0285-e3b5-4acc-ebb1-bf340576fda6"
      },
      "source": [
        "!pip install -q streamlit"
      ],
      "execution_count": 1,
      "outputs": [
        {
          "output_type": "stream",
          "name": "stdout",
          "text": [
            "\u001b[K     |████████████████████████████████| 8.3 MB 5.3 MB/s \n",
            "\u001b[K     |████████████████████████████████| 180 kB 36.1 MB/s \n",
            "\u001b[K     |████████████████████████████████| 4.3 MB 16.8 MB/s \n",
            "\u001b[K     |████████████████████████████████| 76 kB 2.5 MB/s \n",
            "\u001b[K     |████████████████████████████████| 111 kB 33.9 MB/s \n",
            "\u001b[K     |████████████████████████████████| 63 kB 1.1 MB/s \n",
            "\u001b[K     |████████████████████████████████| 124 kB 48.3 MB/s \n",
            "\u001b[K     |████████████████████████████████| 788 kB 47.8 MB/s \n",
            "\u001b[K     |████████████████████████████████| 370 kB 56.8 MB/s \n",
            "\u001b[?25h  Building wheel for blinker (setup.py) ... \u001b[?25l\u001b[?25hdone\n",
            "\u001b[31mERROR: pip's dependency resolver does not currently take into account all the packages that are installed. This behaviour is the source of the following dependency conflicts.\n",
            "jupyter-console 5.2.0 requires prompt-toolkit<2.0.0,>=1.0.0, but you have prompt-toolkit 3.0.20 which is incompatible.\n",
            "google-colab 1.0.0 requires ipykernel~=4.10, but you have ipykernel 6.4.1 which is incompatible.\n",
            "google-colab 1.0.0 requires ipython~=5.5.0, but you have ipython 7.28.0 which is incompatible.\u001b[0m\n"
          ]
        }
      ]
    },
    {
      "cell_type": "code",
      "metadata": {
        "id": "7kz92O-cUf5v",
        "colab": {
          "base_uri": "https://localhost:8080/"
        },
        "outputId": "e3c93168-c690-4331-ae60-03a122cd9867"
      },
      "source": [
        "!pip install pyngrok"
      ],
      "execution_count": 2,
      "outputs": [
        {
          "output_type": "stream",
          "name": "stdout",
          "text": [
            "Collecting pyngrok\n",
            "  Downloading pyngrok-5.1.0.tar.gz (745 kB)\n",
            "\u001b[?25l\r\u001b[K     |▍                               | 10 kB 23.4 MB/s eta 0:00:01\r\u001b[K     |▉                               | 20 kB 28.7 MB/s eta 0:00:01\r\u001b[K     |█▎                              | 30 kB 12.9 MB/s eta 0:00:01\r\u001b[K     |█▊                              | 40 kB 9.5 MB/s eta 0:00:01\r\u001b[K     |██▏                             | 51 kB 5.1 MB/s eta 0:00:01\r\u001b[K     |██▋                             | 61 kB 5.4 MB/s eta 0:00:01\r\u001b[K     |███                             | 71 kB 5.8 MB/s eta 0:00:01\r\u001b[K     |███▌                            | 81 kB 6.5 MB/s eta 0:00:01\r\u001b[K     |████                            | 92 kB 6.7 MB/s eta 0:00:01\r\u001b[K     |████▍                           | 102 kB 5.3 MB/s eta 0:00:01\r\u001b[K     |████▉                           | 112 kB 5.3 MB/s eta 0:00:01\r\u001b[K     |█████▎                          | 122 kB 5.3 MB/s eta 0:00:01\r\u001b[K     |█████▊                          | 133 kB 5.3 MB/s eta 0:00:01\r\u001b[K     |██████▏                         | 143 kB 5.3 MB/s eta 0:00:01\r\u001b[K     |██████▋                         | 153 kB 5.3 MB/s eta 0:00:01\r\u001b[K     |███████                         | 163 kB 5.3 MB/s eta 0:00:01\r\u001b[K     |███████▌                        | 174 kB 5.3 MB/s eta 0:00:01\r\u001b[K     |████████                        | 184 kB 5.3 MB/s eta 0:00:01\r\u001b[K     |████████▍                       | 194 kB 5.3 MB/s eta 0:00:01\r\u001b[K     |████████▉                       | 204 kB 5.3 MB/s eta 0:00:01\r\u001b[K     |█████████▎                      | 215 kB 5.3 MB/s eta 0:00:01\r\u001b[K     |█████████▊                      | 225 kB 5.3 MB/s eta 0:00:01\r\u001b[K     |██████████▏                     | 235 kB 5.3 MB/s eta 0:00:01\r\u001b[K     |██████████▌                     | 245 kB 5.3 MB/s eta 0:00:01\r\u001b[K     |███████████                     | 256 kB 5.3 MB/s eta 0:00:01\r\u001b[K     |███████████▍                    | 266 kB 5.3 MB/s eta 0:00:01\r\u001b[K     |███████████▉                    | 276 kB 5.3 MB/s eta 0:00:01\r\u001b[K     |████████████▎                   | 286 kB 5.3 MB/s eta 0:00:01\r\u001b[K     |████████████▊                   | 296 kB 5.3 MB/s eta 0:00:01\r\u001b[K     |█████████████▏                  | 307 kB 5.3 MB/s eta 0:00:01\r\u001b[K     |█████████████▋                  | 317 kB 5.3 MB/s eta 0:00:01\r\u001b[K     |██████████████                  | 327 kB 5.3 MB/s eta 0:00:01\r\u001b[K     |██████████████▌                 | 337 kB 5.3 MB/s eta 0:00:01\r\u001b[K     |███████████████                 | 348 kB 5.3 MB/s eta 0:00:01\r\u001b[K     |███████████████▍                | 358 kB 5.3 MB/s eta 0:00:01\r\u001b[K     |███████████████▉                | 368 kB 5.3 MB/s eta 0:00:01\r\u001b[K     |████████████████▎               | 378 kB 5.3 MB/s eta 0:00:01\r\u001b[K     |████████████████▊               | 389 kB 5.3 MB/s eta 0:00:01\r\u001b[K     |█████████████████▏              | 399 kB 5.3 MB/s eta 0:00:01\r\u001b[K     |█████████████████▋              | 409 kB 5.3 MB/s eta 0:00:01\r\u001b[K     |██████████████████              | 419 kB 5.3 MB/s eta 0:00:01\r\u001b[K     |██████████████████▌             | 430 kB 5.3 MB/s eta 0:00:01\r\u001b[K     |███████████████████             | 440 kB 5.3 MB/s eta 0:00:01\r\u001b[K     |███████████████████▍            | 450 kB 5.3 MB/s eta 0:00:01\r\u001b[K     |███████████████████▉            | 460 kB 5.3 MB/s eta 0:00:01\r\u001b[K     |████████████████████▎           | 471 kB 5.3 MB/s eta 0:00:01\r\u001b[K     |████████████████████▋           | 481 kB 5.3 MB/s eta 0:00:01\r\u001b[K     |█████████████████████           | 491 kB 5.3 MB/s eta 0:00:01\r\u001b[K     |█████████████████████▌          | 501 kB 5.3 MB/s eta 0:00:01\r\u001b[K     |██████████████████████          | 512 kB 5.3 MB/s eta 0:00:01\r\u001b[K     |██████████████████████▍         | 522 kB 5.3 MB/s eta 0:00:01\r\u001b[K     |██████████████████████▉         | 532 kB 5.3 MB/s eta 0:00:01\r\u001b[K     |███████████████████████▎        | 542 kB 5.3 MB/s eta 0:00:01\r\u001b[K     |███████████████████████▊        | 552 kB 5.3 MB/s eta 0:00:01\r\u001b[K     |████████████████████████▏       | 563 kB 5.3 MB/s eta 0:00:01\r\u001b[K     |████████████████████████▋       | 573 kB 5.3 MB/s eta 0:00:01\r\u001b[K     |█████████████████████████       | 583 kB 5.3 MB/s eta 0:00:01\r\u001b[K     |█████████████████████████▌      | 593 kB 5.3 MB/s eta 0:00:01\r\u001b[K     |██████████████████████████      | 604 kB 5.3 MB/s eta 0:00:01\r\u001b[K     |██████████████████████████▍     | 614 kB 5.3 MB/s eta 0:00:01\r\u001b[K     |██████████████████████████▉     | 624 kB 5.3 MB/s eta 0:00:01\r\u001b[K     |███████████████████████████▎    | 634 kB 5.3 MB/s eta 0:00:01\r\u001b[K     |███████████████████████████▊    | 645 kB 5.3 MB/s eta 0:00:01\r\u001b[K     |████████████████████████████▏   | 655 kB 5.3 MB/s eta 0:00:01\r\u001b[K     |████████████████████████████▋   | 665 kB 5.3 MB/s eta 0:00:01\r\u001b[K     |█████████████████████████████   | 675 kB 5.3 MB/s eta 0:00:01\r\u001b[K     |█████████████████████████████▌  | 686 kB 5.3 MB/s eta 0:00:01\r\u001b[K     |██████████████████████████████  | 696 kB 5.3 MB/s eta 0:00:01\r\u001b[K     |██████████████████████████████▍ | 706 kB 5.3 MB/s eta 0:00:01\r\u001b[K     |██████████████████████████████▊ | 716 kB 5.3 MB/s eta 0:00:01\r\u001b[K     |███████████████████████████████▏| 727 kB 5.3 MB/s eta 0:00:01\r\u001b[K     |███████████████████████████████▋| 737 kB 5.3 MB/s eta 0:00:01\r\u001b[K     |████████████████████████████████| 745 kB 5.3 MB/s \n",
            "\u001b[?25hRequirement already satisfied: PyYAML in /usr/local/lib/python3.7/dist-packages (from pyngrok) (3.13)\n",
            "Building wheels for collected packages: pyngrok\n",
            "  Building wheel for pyngrok (setup.py) ... \u001b[?25l\u001b[?25hdone\n",
            "  Created wheel for pyngrok: filename=pyngrok-5.1.0-py3-none-any.whl size=19006 sha256=c8b56552e5704f96a2b86af5461a7ffc29efd690406fc6c980fd1cede030e6cc\n",
            "  Stored in directory: /root/.cache/pip/wheels/bf/e6/af/ccf6598ecefecd44104069371795cb9b3afbcd16987f6ccfb3\n",
            "Successfully built pyngrok\n",
            "Installing collected packages: pyngrok\n",
            "Successfully installed pyngrok-5.1.0\n"
          ]
        }
      ]
    },
    {
      "cell_type": "markdown",
      "metadata": {
        "id": "9mVHZe30bbHZ"
      },
      "source": [
        "### st-app-01\n",
        "- text\n",
        "    * text\n",
        "    * header\n",
        "    * subheader\n",
        "- markdown\n",
        "    * heading\n",
        "    * list\n",
        "- latex\n",
        "\n",
        "> [streamlit 기초](https://medium.com/@lucaseo0147/kr-%ED%8C%8C%EC%9D%B4%EC%8D%AC-%EC%9B%B9%EC%96%B4%ED%94%8C%EB%A6%AC%EC%BC%80%EC%9D%B4%EC%85%98-%EB%A7%9B%EB%B3%B4%EA%B8%B0-feat-streamlit-846937a7438d)"
      ]
    },
    {
      "cell_type": "markdown",
      "metadata": {
        "id": "pCTDORsrvGlx"
      },
      "source": [
        "### streamlit code: st_01_start.py\n",
        "```\n",
        "import streamlit as st\n",
        "\n",
        "## Title\n",
        "st.title('Streamlit Tutorial: start')\n",
        "## Header/Subheader\n",
        "st.header('This is header')\n",
        "st.subheader('This is subheader')\n",
        "## Text\n",
        "st.text(\"Hello Streamlit! 이 글은 튜토리얼 입니다.\")\n",
        "\n",
        "# ## Markdown\n",
        "# st.header('Markdown')\n",
        "# st.markdown('# header-1')\n",
        "# st.markdown('## header-2')\n",
        "# st.markdown('###### header-6')\n",
        "\n",
        "# # list\n",
        "# st.header('List')\n",
        "# st.markdown('- list1')\n",
        "# st.markdown('- list2')\n",
        "# st.markdown('- list3\\n'\n",
        "#             '   * inner list1\\n'\n",
        "#             '   * inner list2\\n')\n",
        "\n",
        "# ## Latex\n",
        "# st.header('latex')\n",
        "# st.latex(r\"Y = \\alpha + \\beta X_i\")\n",
        "# ## Latex-inline\n",
        "# st.markdown(r\"회귀분석에서 오차는 다음과 같습니다 $e_i = y_i - \\hat{y}_i$\")\n",
        "# ## Mean squared error\n",
        "# st.subheader(\"Mean squared error\")\n",
        "# st.markdown(r\"$MSE = \\frac{1}{N} \\sum_{i=1}^N (y_i - \\hat{y}_i)^2$\")\n",
        "\n",
        "# ## Message\n",
        "# st.info(\"End of first note: **text, markdown, latex**!\")\n",
        "\n",
        "# ## streamlit messages\n",
        "# st.success(\"Successful\")\n",
        "# st.info(\"Information!\")\n",
        "# st.warning(\"This is a warning\")\n",
        "# st.error(\"This is an error!\")\n",
        "# st.exception(\"NameError('Error name is not defined')\")\n",
        "\n",
        "```"
      ]
    },
    {
      "cell_type": "code",
      "metadata": {
        "id": "Znh9TIehO2DC"
      },
      "source": [
        "!streamlit run st_01_start.py &>/dev/null&"
      ],
      "execution_count": 3,
      "outputs": []
    },
    {
      "cell_type": "code",
      "metadata": {
        "id": "qikO_JXpPF70",
        "colab": {
          "base_uri": "https://localhost:8080/"
        },
        "outputId": "ecb58e0b-9c0a-4ae6-e5f2-6cd10bc1d016"
      },
      "source": [
        "from pyngrok import ngrok\n",
        "# Setup a tunnel to the streamlit port 8501\n",
        "public_url = ngrok.connect(port='8501')\n",
        "public_url"
      ],
      "execution_count": 4,
      "outputs": [
        {
          "output_type": "stream",
          "name": "stdout",
          "text": [
            ""
          ]
        },
        {
          "output_type": "execute_result",
          "data": {
            "text/plain": [
              "<NgrokTunnel: \"http://8fc5-34-74-130-221.ngrok.io\" -> \"http://localhost:80\">"
            ]
          },
          "metadata": {},
          "execution_count": 4
        }
      ]
    },
    {
      "cell_type": "markdown",
      "metadata": {
        "id": "_ZJXFvMCwJU2"
      },
      "source": [
        "### streamlit cheat sheet\n",
        "- https://share.streamlit.io/daniellewisdl/streamlit-cheat-sheet/app.py"
      ]
    },
    {
      "cell_type": "code",
      "metadata": {
        "id": "x8FBPDxPwN8S"
      },
      "source": [
        ""
      ],
      "execution_count": null,
      "outputs": []
    }
  ]
}