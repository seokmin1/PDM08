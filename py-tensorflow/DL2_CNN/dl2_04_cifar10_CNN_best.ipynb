{
  "nbformat": 4,
  "nbformat_minor": 0,
  "metadata": {
    "accelerator": "GPU",
    "colab": {
      "name": "dl2-04-cifar10-CNN-best.ipynb",
      "provenance": [],
      "collapsed_sections": [],
      "include_colab_link": true
    },
    "interpreter": {
      "hash": "3834ce636a3ba6c6c2bd8b9b527c48eede78c367f849f6cce666ea7f1d26e2fb"
    },
    "kernelspec": {
      "display_name": "Python 3.8.5 64-bit ('base': conda)",
      "name": "python3"
    },
    "language_info": {
      "codemirror_mode": {
        "name": "ipython",
        "version": 3
      },
      "file_extension": ".py",
      "mimetype": "text/x-python",
      "name": "python",
      "nbconvert_exporter": "python",
      "pygments_lexer": "ipython3",
      "version": "3.8.5"
    }
  },
  "cells": [
    {
      "cell_type": "markdown",
      "metadata": {
        "id": "view-in-github",
        "colab_type": "text"
      },
      "source": [
        "<a href=\"https://colab.research.google.com/github/seokmin1/PDM08/blob/main/py-tensorflow/DL2_CNN/dl2_04_cifar10_CNN_best.ipynb\" target=\"_parent\"><img src=\"https://colab.research.google.com/assets/colab-badge.svg\" alt=\"Open In Colab\"/></a>"
      ]
    },
    {
      "cell_type": "markdown",
      "metadata": {
        "id": "rswfCVLZ-QW0"
      },
      "source": [
        "- Conv2D + FCN\n",
        "    * Conv2D : 2차원 합성곱 필터링 + 풀링(Pooling)\n",
        "    - > 2차원 필터로 영상을 대표하는 특징을 추출\n",
        "    * FCN : 1차원 완전연결신경망\n",
        "    - > Conv2D에서 추출된 대표 특징들을 이용하여 FCN으로 최종 학습 완료\n",
        "\n",
        "***\n",
        "- ## Traget: Find the best model\n",
        "***\n",
        "\n",
        "![cnn_c4f5.png](https://raw.githubusercontent.com/Redwoods/Py/master//pdm2020/my-note/py-tensorflow/images/cnn_c4f5.png)"
      ]
    },
    {
      "cell_type": "markdown",
      "metadata": {
        "id": "ISueys4bNHd1"
      },
      "source": [
        "### CIFAR-10 Dataset (CIFAR: Canadian Institute For Advanced Research)\n",
        "> https://www.cs.toronto.edu/~kriz/cifar.html\n",
        "\n",
        "- (50000, 32, 32, 3), train\n",
        "- (10000, 32, 32, 3), test\n",
        "- color photographs of objects from 10 classes, such as frogs, birds, cats, ships, etc\n",
        "> class names\n",
        "> - ['airplane', 'automobile', 'bird', 'cat', 'deer', 'dog', 'frog', 'horse', 'ship', 'truck']\n",
        "\n",
        "- 참고 문헌  \n",
        "\n",
        "> https://becominghuman.ai/cifar-10-image-classification-fd2ace47c5e8  \n",
        "\n",
        "> https://becominghuman.ai/convolutional-neural-networks-cnns-convnets-for-visual-recognition-cae879a70f1a\n",
        "\n",
        "> https://towardsdatascience.com/cifar-10-image-classification-in-tensorflow-5b501f7dc77c"
      ]
    },
    {
      "cell_type": "markdown",
      "metadata": {
        "id": "1yhvkxS_HhpK"
      },
      "source": [
        "## Search the best model of C2F2\n",
        "- callback\n",
        "    - Early stopping\n",
        "    - model checkpoint"
      ]
    },
    {
      "cell_type": "code",
      "metadata": {
        "colab": {
          "base_uri": "https://localhost:8080/"
        },
        "id": "8GgGzPXPVyfa",
        "outputId": "f0a9f118-82e3-45e7-f7ff-949381773930"
      },
      "source": [
        "import numpy as np\n",
        "import tensorflow as tf\n",
        "from tensorflow import keras\n",
        "import pandas as pd\n",
        "import matplotlib.pyplot as plt\n",
        "# %matplotlib inline\n",
        "\n",
        "tf.random.set_seed(0)\n",
        "\n",
        "print(tf.__version__)"
      ],
      "execution_count": 1,
      "outputs": [
        {
          "output_type": "stream",
          "name": "stdout",
          "text": [
            "2.7.0\n"
          ]
        }
      ]
    },
    {
      "cell_type": "code",
      "metadata": {
        "id": "nMZqMpIvIlwf"
      },
      "source": [
        "# import TF2 submodules\n",
        "from tensorflow.keras import layers, models, callbacks"
      ],
      "execution_count": 2,
      "outputs": []
    },
    {
      "cell_type": "markdown",
      "metadata": {
        "id": "-0IOOUM14Jk1"
      },
      "source": [
        "## **데이터 로딩, 정규화**"
      ]
    },
    {
      "cell_type": "code",
      "metadata": {
        "colab": {
          "base_uri": "https://localhost:8080/"
        },
        "id": "N1ogJ7I64Fz-",
        "outputId": "20db84e7-cc12-4196-b0d2-022059f4e061"
      },
      "source": [
        "from keras.datasets import cifar10\n",
        "\n",
        "(X_train0, y_train0), (X_test0, y_test0) = cifar10.load_data()\n",
        "\n",
        "# Reshape\n",
        "# X_train = X_train0.reshape(60000,28,28,1)\n",
        "# X_test = X_test0.reshape(10000,28,28,1)\n",
        "\n",
        "# Normalization\n",
        "X_train, X_test = X_train0/255.0, X_test0/255.0 # 정규화\n",
        "\n",
        "print(\"X_train={0}\".format(X_train.shape))\n",
        "print(\"y_train={0}\".format(y_train0.shape)) \n",
        "print(\"X_test={0}\".format(X_test.shape))\n",
        "print(\"y_test={0}\".format(y_test0.shape))"
      ],
      "execution_count": 3,
      "outputs": [
        {
          "output_type": "stream",
          "name": "stdout",
          "text": [
            "Downloading data from https://www.cs.toronto.edu/~kriz/cifar-10-python.tar.gz\n",
            "170500096/170498071 [==============================] - 2s 0us/step\n",
            "170508288/170498071 [==============================] - 2s 0us/step\n",
            "X_train=(50000, 32, 32, 3)\n",
            "y_train=(50000, 1)\n",
            "X_test=(10000, 32, 32, 3)\n",
            "y_test=(10000, 1)\n"
          ]
        }
      ]
    },
    {
      "cell_type": "code",
      "metadata": {
        "colab": {
          "base_uri": "https://localhost:8080/"
        },
        "id": "F46-QZqJHiQ6",
        "outputId": "21b6f19b-6693-4fdd-e22c-c79741705556"
      },
      "source": [
        "# One-Hot-Encoding\n",
        "# Use function to_categorical() to do One-Hot-Encoding\n",
        "# tf.keras.utils.to_categorical\n",
        "from tensorflow.keras.utils import to_categorical\n",
        "\n",
        "y_train = to_categorical(y_train0, 10)\n",
        "y_test = to_categorical(y_test0, 10)\n",
        "y_train.shape,y_test.shape"
      ],
      "execution_count": 4,
      "outputs": [
        {
          "output_type": "execute_result",
          "data": {
            "text/plain": [
              "((50000, 10), (10000, 10))"
            ]
          },
          "metadata": {},
          "execution_count": 4
        }
      ]
    },
    {
      "cell_type": "code",
      "metadata": {
        "colab": {
          "base_uri": "https://localhost:8080/"
        },
        "id": "eZ3OfP5PkEkL",
        "outputId": "766b3e82-1807-4798-98bf-06b351794b6a"
      },
      "source": [
        "# y_train0.shape vs. y_train.shape\n",
        "y_train0.shape, y_train.shape"
      ],
      "execution_count": 5,
      "outputs": [
        {
          "output_type": "execute_result",
          "data": {
            "text/plain": [
              "((50000, 1), (50000, 10))"
            ]
          },
          "metadata": {},
          "execution_count": 5
        }
      ]
    },
    {
      "cell_type": "markdown",
      "metadata": {
        "id": "5z7SozStigmF"
      },
      "source": [
        "### Display images in CIFAR-10\n",
        "- one random image\n",
        "- 10 representative images"
      ]
    },
    {
      "cell_type": "code",
      "metadata": {
        "colab": {
          "base_uri": "https://localhost:8080/",
          "height": 231
        },
        "id": "IK7XT3XoirSL",
        "outputId": "143bdb1e-7e06-4408-ed6e-61d648ff04c0"
      },
      "source": [
        "# Code here!\n",
        "# display one random image from the training set:\n",
        "class_names =  ['airplane', 'automobile', 'bird', 'cat', 'deer', 'dog', 'frog', 'horse', 'ship', 'truck']\n",
        "\n",
        "idx = np.random.randint(0, X_train0.shape[0])\n",
        "print(idx)\n",
        "image = X_train0[idx]\n",
        "plt.figure(figsize=(3,3))\n",
        "plt.imshow(image) #, cmap=plt.get_cmap('gray'))\n",
        "plt.title(class_names[y_train0[idx][0]])\n",
        "plt.xticks([])\n",
        "plt.yticks([])\n",
        "plt.show()"
      ],
      "execution_count": 6,
      "outputs": [
        {
          "output_type": "stream",
          "name": "stdout",
          "text": [
            "24247\n"
          ]
        },
        {
          "output_type": "display_data",
          "data": {
            "image/png": "[encoded data removed]",
            "text/plain": [
              "<Figure size 216x216 with 1 Axes>"
            ]
          },
          "metadata": {}
        }
      ]
    },
    {
      "cell_type": "code",
      "metadata": {
        "colab": {
          "base_uri": "https://localhost:8080/",
          "height": 325
        },
        "id": "LzhD5pcukau7",
        "outputId": "15cf4e7f-d206-4354-b901-6139de704da6"
      },
      "source": [
        "fig = plt.figure(figsize=(10,6))\n",
        "num0_9 = np.unique(y_train0, return_index=True)[1]\n",
        "images = X_train[num0_9]\n",
        "for i in range(10):\n",
        "    plt.subplot(2, 5, i+1)\n",
        "    # num0_9 = X_train0[y_train0 == i]\n",
        "    \n",
        "    # print(num0_9.shape)\n",
        "    # plt.imshow(num0_9[0]) \n",
        "    plt.imshow(images[i])\n",
        "    plt.title(class_names[i])\n",
        "    plt.xticks([])\n",
        "    plt.yticks([])"
      ],
      "execution_count": 7,
      "outputs": [
        {
          "output_type": "display_data",
          "data": {
            "image/png": "[encoded data removed]",
            "text/plain": [
              "<Figure size 720x432 with 10 Axes>"
            ]
          },
          "metadata": {}
        }
      ]
    },
    {
      "cell_type": "markdown",
      "metadata": {
        "id": "55DYVfFXi0WR"
      },
      "source": [
        "# Design CNN"
      ]
    },
    {
      "cell_type": "markdown",
      "metadata": {
        "id": "iPcLIcUCcsiG"
      },
      "source": [
        "### import models, layers, callbacks\n",
        "- models: Sequential\n",
        "- layers: Conv2D, MaxPool2D, Flatten\n",
        "- callbacks: ModelCheckpoint, EarlyStopping"
      ]
    },
    {
      "cell_type": "code",
      "metadata": {
        "id": "NzqMC4Xtc3ZE"
      },
      "source": [
        "from keras.models import Sequential\n",
        "from keras.layers import Conv2D, MaxPool2D, Flatten\n",
        "from keras.callbacks import ModelCheckpoint, EarlyStopping"
      ],
      "execution_count": 8,
      "outputs": []
    },
    {
      "cell_type": "markdown",
      "metadata": {
        "id": "7Z6DJJUCei-s"
      },
      "source": [
        "## **CNN2 + FCN2**"
      ]
    },
    {
      "cell_type": "code",
      "metadata": {
        "id": "hTLkuGeYsVrs"
      },
      "source": [
        "# Random number seed\n",
        "np.random.seed(1234)\n",
        "tf.random.set_seed(1234)"
      ],
      "execution_count": 9,
      "outputs": []
    },
    {
      "cell_type": "code",
      "metadata": {
        "id": "pV3NFglM7P65"
      },
      "source": [
        "c2f2 = keras.models.Sequential([ \n",
        "    Conv2D(input_shape=(32,32,3), filters= 64, kernel_size=(3,3), strides=(1,1), padding='same', activation='relu'),\n",
        "    MaxPool2D(pool_size=(2,2), strides=(2,2)), \n",
        "    Conv2D(filters= 32, kernel_size=(3,3), strides=(1,1), padding='same', activation='relu'),\n",
        "    MaxPool2D(pool_size=(2,2), strides=(2,2)),\n",
        "    Flatten(), \n",
        "    keras.layers.Dense(128, activation='relu'),  \n",
        "    keras.layers.Dropout(0.25), \n",
        "    keras.layers.Dense(10, activation='softmax')\n",
        "])\n",
        "\n",
        "c2f2.compile(optimizer='adam',\n",
        "              loss='categorical_crossentropy',\n",
        "              metrics=['accuracy']) "
      ],
      "execution_count": 10,
      "outputs": []
    },
    {
      "cell_type": "code",
      "metadata": {
        "colab": {
          "base_uri": "https://localhost:8080/"
        },
        "id": "OGtCiKy57YkR",
        "outputId": "35979800-78f6-4e4c-b0c7-c146804baa96"
      },
      "source": [
        "c2f2.summary()"
      ],
      "execution_count": 11,
      "outputs": [
        {
          "output_type": "stream",
          "name": "stdout",
          "text": [
            "Model: \"sequential\"\n",
            "_________________________________________________________________\n",
            " Layer (type)                Output Shape              Param #   \n",
            "=================================================================\n",
            " conv2d (Conv2D)             (None, 32, 32, 64)        1792      \n",
            "                                                                 \n",
            " max_pooling2d (MaxPooling2D  (None, 16, 16, 64)       0         \n",
            " )                                                               \n",
            "                                                                 \n",
            " conv2d_1 (Conv2D)           (None, 16, 16, 32)        18464     \n",
            "                                                                 \n",
            " max_pooling2d_1 (MaxPooling  (None, 8, 8, 32)         0         \n",
            " 2D)                                                             \n",
            "                                                                 \n",
            " flatten (Flatten)           (None, 2048)              0         \n",
            "                                                                 \n",
            " dense (Dense)               (None, 128)               262272    \n",
            "                                                                 \n",
            " dropout (Dropout)           (None, 128)               0         \n",
            "                                                                 \n",
            " dense_1 (Dense)             (None, 10)                1290      \n",
            "                                                                 \n",
            "=================================================================\n",
            "Total params: 283,818\n",
            "Trainable params: 283,818\n",
            "Non-trainable params: 0\n",
            "_________________________________________________________________\n"
          ]
        }
      ]
    },
    {
      "cell_type": "code",
      "metadata": {
        "id": "zw_pQPBdJmU8"
      },
      "source": [
        "cp_callback = callbacks.ModelCheckpoint(filepath=\"./cifar10_c2f2_best_weights.{epoch:03d}-{val_accuracy:.4f}.hdf5\", \n",
        "                              monitor='val_accuracy', verbose=0, save_best_only=True)\n",
        "es_callback = callbacks.EarlyStopping(monitor='val_accuracy', \n",
        "                            mode='max', verbose=1, patience=5)    # patience=10, 25, 50"
      ],
      "execution_count": 12,
      "outputs": []
    },
    {
      "cell_type": "code",
      "metadata": {
        "colab": {
          "base_uri": "https://localhost:8080/"
        },
        "id": "94GWWQt-7eRS",
        "outputId": "dc02d16a-3c90-4618-fb2f-7d6210effabb"
      },
      "source": [
        "BATCH_SIZE = 50  # cifar10\n",
        "hist = c2f2.fit(X_train, y_train, epochs = 500 , batch_size = BATCH_SIZE, \n",
        "         callbacks=[cp_callback, es_callback], \n",
        "         validation_data=(X_test,y_test))"
      ],
      "execution_count": 13,
      "outputs": [
        {
          "output_type": "stream",
          "name": "stdout",
          "text": [
            "Epoch 1/500\n",
            "1000/1000 [==============================] - 23s 11ms/step - loss: 1.5145 - accuracy: 0.4534 - val_loss: 1.1824 - val_accuracy: 0.5770\n",
            "Epoch 2/500\n",
            "1000/1000 [==============================] - 11s 11ms/step - loss: 1.1747 - accuracy: 0.5827 - val_loss: 1.0439 - val_accuracy: 0.6315\n",
            "Epoch 3/500\n",
            "1000/1000 [==============================] - 11s 11ms/step - loss: 1.0443 - accuracy: 0.6292 - val_loss: 1.0157 - val_accuracy: 0.6432\n",
            "Epoch 4/500\n",
            "1000/1000 [==============================] - 11s 11ms/step - loss: 0.9573 - accuracy: 0.6609 - val_loss: 0.9426 - val_accuracy: 0.6668\n",
            "Epoch 5/500\n",
            "1000/1000 [==============================] - 12s 12ms/step - loss: 0.8938 - accuracy: 0.6819 - val_loss: 0.9063 - val_accuracy: 0.6809\n",
            "Epoch 6/500\n",
            "1000/1000 [==============================] - 11s 11ms/step - loss: 0.8432 - accuracy: 0.7044 - val_loss: 0.8839 - val_accuracy: 0.6923\n",
            "Epoch 7/500\n",
            "1000/1000 [==============================] - 11s 11ms/step - loss: 0.8017 - accuracy: 0.7170 - val_loss: 0.8787 - val_accuracy: 0.6949\n",
            "Epoch 8/500\n",
            "1000/1000 [==============================] - 11s 11ms/step - loss: 0.7545 - accuracy: 0.7318 - val_loss: 0.8811 - val_accuracy: 0.6993\n",
            "Epoch 9/500\n",
            "1000/1000 [==============================] - 11s 11ms/step - loss: 0.7214 - accuracy: 0.7420 - val_loss: 0.8910 - val_accuracy: 0.6946\n",
            "Epoch 10/500\n",
            "1000/1000 [==============================] - 11s 11ms/step - loss: 0.6900 - accuracy: 0.7538 - val_loss: 0.8611 - val_accuracy: 0.7028\n",
            "Epoch 11/500\n",
            "1000/1000 [==============================] - 11s 11ms/step - loss: 0.6568 - accuracy: 0.7657 - val_loss: 0.8931 - val_accuracy: 0.7047\n",
            "Epoch 12/500\n",
            "1000/1000 [==============================] - 11s 11ms/step - loss: 0.6333 - accuracy: 0.7738 - val_loss: 0.8782 - val_accuracy: 0.7099\n",
            "Epoch 13/500\n",
            "1000/1000 [==============================] - 11s 11ms/step - loss: 0.6016 - accuracy: 0.7840 - val_loss: 0.9016 - val_accuracy: 0.7046\n",
            "Epoch 14/500\n",
            "1000/1000 [==============================] - 11s 11ms/step - loss: 0.5793 - accuracy: 0.7897 - val_loss: 0.9163 - val_accuracy: 0.7000\n",
            "Epoch 15/500\n",
            "1000/1000 [==============================] - 11s 11ms/step - loss: 0.5570 - accuracy: 0.7993 - val_loss: 0.9483 - val_accuracy: 0.6983\n",
            "Epoch 16/500\n",
            "1000/1000 [==============================] - 11s 11ms/step - loss: 0.5419 - accuracy: 0.8041 - val_loss: 0.9464 - val_accuracy: 0.7049\n",
            "Epoch 17/500\n",
            "1000/1000 [==============================] - 11s 11ms/step - loss: 0.5192 - accuracy: 0.8129 - val_loss: 0.9873 - val_accuracy: 0.7044\n",
            "Epoch 00017: early stopping\n"
          ]
        }
      ]
    },
    {
      "cell_type": "code",
      "metadata": {
        "colab": {
          "base_uri": "https://localhost:8080/"
        },
        "id": "0-7is2U49A6Z",
        "outputId": "4ad6de98-4c1c-4893-b627-df1e175adee4"
      },
      "source": [
        "c2f2.evaluate(X_test, y_test, batch_size = BATCH_SIZE)"
      ],
      "execution_count": 14,
      "outputs": [
        {
          "output_type": "stream",
          "name": "stdout",
          "text": [
            "200/200 [==============================] - 1s 5ms/step - loss: 0.9873 - accuracy: 0.7044\n"
          ]
        },
        {
          "output_type": "execute_result",
          "data": {
            "text/plain": [
              "[0.9872768521308899, 0.7044000029563904]"
            ]
          },
          "metadata": {},
          "execution_count": 14
        }
      ]
    },
    {
      "cell_type": "code",
      "metadata": {
        "colab": {
          "base_uri": "https://localhost:8080/",
          "height": 295
        },
        "id": "x9EQ2Z_c2gYL",
        "outputId": "920312c2-dd1f-4a1c-822b-03a5c4a196b8"
      },
      "source": [
        "# More graphs of loss and accuracy\n",
        "history_dict = hist.history\n",
        "loss = history_dict['loss']\n",
        "val_loss = history_dict['val_loss']\n",
        "\n",
        "epochs = range(1, len(loss) + 1)\n",
        "\n",
        "plt.figure(figsize=(14, 4))\n",
        "\n",
        "plt.subplot(1,2,1)\n",
        "plt.plot(epochs, loss, 'go-', label='Training Loss')\n",
        "plt.plot(epochs, val_loss, 'bd', label='Validation Loss')\n",
        "plt.plot(np.argmin(np.array(val_loss))+1,val_loss[np.argmin(np.array(val_loss))], 'r*', ms=12)\n",
        "plt.title('Training and Validation Loss, min: ' + str(np.round(val_loss[np.argmin(np.array(val_loss))],4)))\n",
        "plt.xlabel('Epochs')\n",
        "plt.ylabel('Loss')\n",
        "plt.legend()\n",
        "\n",
        "acc = history_dict['accuracy']\n",
        "val_acc = history_dict['val_accuracy']\n",
        "\n",
        "epochs = range(1, len(loss) + 1)\n",
        "\n",
        "plt.subplot(1,2,2)\n",
        "plt.plot(epochs, acc, 'go-', label='Training Accuracy') #, c='blue')\n",
        "plt.plot(epochs, val_acc, 'bd', label='Validation Accuracy') #, c='red')\n",
        "plt.plot(np.argmax(np.array(val_acc))+1,val_acc[np.argmax(np.array(val_acc))], 'r*', ms=12)\n",
        "plt.title('Training and Validation Accuracy, max: ' + str(np.round(val_acc[np.argmax(np.array(val_acc))],4)))\n",
        "plt.xlabel('Epochs')\n",
        "plt.ylabel('Accuracy')\n",
        "plt.legend()\n",
        "plt.show()"
      ],
      "execution_count": 15,
      "outputs": [
        {
          "output_type": "display_data",
          "data": {
            "image/png": "[encoded data removed]",
            "text/plain": [
              "<Figure size 1008x288 with 2 Axes>"
            ]
          },
          "metadata": {
            "needs_background": "light"
          }
        }
      ]
    },
    {
      "cell_type": "markdown",
      "metadata": {
        "id": "ubm5q_onsVrv"
      },
      "source": [
        "## Best c2f2 model of cifar10\n",
        "cifar10_c2f2_best_weights.020-0.7189.hdf5"
      ]
    },
    {
      "cell_type": "markdown",
      "metadata": {
        "id": "SUJxRQtafihM"
      },
      "source": [
        "## **CNN2 + FCN3**"
      ]
    },
    {
      "cell_type": "code",
      "metadata": {
        "id": "9Pzdv-CDsVrv"
      },
      "source": [
        "# Random number seed\n",
        "np.random.seed(1234)\n",
        "tf.random.set_seed(1234)"
      ],
      "execution_count": 16,
      "outputs": []
    },
    {
      "cell_type": "code",
      "metadata": {
        "id": "Nl5CyAymAB34"
      },
      "source": [
        "c2f3 = keras.models.Sequential([ \n",
        "    Conv2D(input_shape=(32,32,3), filters= 64, kernel_size=(3,3), strides=(1,1), padding='same', activation='relu'),\n",
        "    MaxPool2D(pool_size=(2,2), strides=(2,2)), \n",
        "    Conv2D(filters= 32, kernel_size=(3,3), strides=(1,1), padding='same', activation='relu'),\n",
        "    MaxPool2D(pool_size=(2,2), strides=(2,2)),\n",
        "    Flatten(), \n",
        "    keras.layers.Dense(128, activation='relu'),  \n",
        "    keras.layers.Dropout(0.25), \n",
        "    keras.layers.Dense(64, activation='relu'),  \n",
        "    keras.layers.Dropout(0.25), \n",
        "    keras.layers.Dense(10, activation='softmax')\n",
        "])\n",
        "\n",
        "c2f3.compile(optimizer='adam',\n",
        "              loss='categorical_crossentropy',\n",
        "              metrics=['accuracy']) "
      ],
      "execution_count": 17,
      "outputs": []
    },
    {
      "cell_type": "code",
      "metadata": {
        "colab": {
          "base_uri": "https://localhost:8080/"
        },
        "id": "gYxuGW_2ANL8",
        "outputId": "05e91a11-f736-4509-9341-21d1aaf756bb"
      },
      "source": [
        "c2f3.summary()"
      ],
      "execution_count": 18,
      "outputs": [
        {
          "output_type": "stream",
          "name": "stdout",
          "text": [
            "Model: \"sequential_1\"\n",
            "_________________________________________________________________\n",
            " Layer (type)                Output Shape              Param #   \n",
            "=================================================================\n",
            " conv2d_2 (Conv2D)           (None, 32, 32, 64)        1792      \n",
            "                                                                 \n",
            " max_pooling2d_2 (MaxPooling  (None, 16, 16, 64)       0         \n",
            " 2D)                                                             \n",
            "                                                                 \n",
            " conv2d_3 (Conv2D)           (None, 16, 16, 32)        18464     \n",
            "                                                                 \n",
            " max_pooling2d_3 (MaxPooling  (None, 8, 8, 32)         0         \n",
            " 2D)                                                             \n",
            "                                                                 \n",
            " flatten_1 (Flatten)         (None, 2048)              0         \n",
            "                                                                 \n",
            " dense_2 (Dense)             (None, 128)               262272    \n",
            "                                                                 \n",
            " dropout_1 (Dropout)         (None, 128)               0         \n",
            "                                                                 \n",
            " dense_3 (Dense)             (None, 64)                8256      \n",
            "                                                                 \n",
            " dropout_2 (Dropout)         (None, 64)                0         \n",
            "                                                                 \n",
            " dense_4 (Dense)             (None, 10)                650       \n",
            "                                                                 \n",
            "=================================================================\n",
            "Total params: 291,434\n",
            "Trainable params: 291,434\n",
            "Non-trainable params: 0\n",
            "_________________________________________________________________\n"
          ]
        }
      ]
    },
    {
      "cell_type": "code",
      "metadata": {
        "id": "KMsTuhO2x61z"
      },
      "source": [
        "cp_callback = callbacks.ModelCheckpoint(filepath=\"./cifar10_c2f3_best_weights.{epoch:03d}-{val_accuracy:.4f}.hdf5\", \n",
        "                              monitor='val_accuracy', verbose=0, save_best_only=True)\n",
        "es_callback = callbacks.EarlyStopping(monitor='val_accuracy', \n",
        "                            mode='max', verbose=1, patience=5)    # patience=10, 25, 50"
      ],
      "execution_count": 19,
      "outputs": []
    },
    {
      "cell_type": "code",
      "metadata": {
        "colab": {
          "base_uri": "https://localhost:8080/"
        },
        "id": "lO1of4AOAQlV",
        "outputId": "7d6a354e-b7d7-4f1b-cd8b-b8bea587bca8"
      },
      "source": [
        "hist = c2f3.fit(X_train, y_train, epochs=500, batch_size = BATCH_SIZE, \n",
        "         callbacks=[cp_callback, es_callback], \n",
        "         validation_data=(X_test,y_test))"
      ],
      "execution_count": 20,
      "outputs": [
        {
          "output_type": "stream",
          "name": "stdout",
          "text": [
            "Epoch 1/500\n",
            "1000/1000 [==============================] - 13s 12ms/step - loss: 1.6052 - accuracy: 0.4123 - val_loss: 1.2154 - val_accuracy: 0.5635\n",
            "Epoch 2/500\n",
            "1000/1000 [==============================] - 12s 12ms/step - loss: 1.2559 - accuracy: 0.5528 - val_loss: 1.0837 - val_accuracy: 0.6164\n",
            "Epoch 3/500\n",
            "1000/1000 [==============================] - 12s 12ms/step - loss: 1.1140 - accuracy: 0.6072 - val_loss: 0.9947 - val_accuracy: 0.6486\n",
            "Epoch 4/500\n",
            "1000/1000 [==============================] - 12s 12ms/step - loss: 1.0154 - accuracy: 0.6452 - val_loss: 0.9401 - val_accuracy: 0.6751\n",
            "Epoch 5/500\n",
            "1000/1000 [==============================] - 12s 12ms/step - loss: 0.9493 - accuracy: 0.6698 - val_loss: 0.9109 - val_accuracy: 0.6834\n",
            "Epoch 6/500\n",
            "1000/1000 [==============================] - 12s 12ms/step - loss: 0.8862 - accuracy: 0.6899 - val_loss: 0.8914 - val_accuracy: 0.6908\n",
            "Epoch 7/500\n",
            "1000/1000 [==============================] - 12s 12ms/step - loss: 0.8396 - accuracy: 0.7075 - val_loss: 0.9173 - val_accuracy: 0.6876\n",
            "Epoch 8/500\n",
            "1000/1000 [==============================] - 12s 12ms/step - loss: 0.7931 - accuracy: 0.7225 - val_loss: 0.8515 - val_accuracy: 0.7028\n",
            "Epoch 9/500\n",
            "1000/1000 [==============================] - 11s 11ms/step - loss: 0.7592 - accuracy: 0.7344 - val_loss: 0.8987 - val_accuracy: 0.6929\n",
            "Epoch 10/500\n",
            "1000/1000 [==============================] - 11s 11ms/step - loss: 0.7296 - accuracy: 0.7429 - val_loss: 0.8623 - val_accuracy: 0.7003\n",
            "Epoch 11/500\n",
            "1000/1000 [==============================] - 12s 12ms/step - loss: 0.7011 - accuracy: 0.7553 - val_loss: 0.8389 - val_accuracy: 0.7112\n",
            "Epoch 12/500\n",
            "1000/1000 [==============================] - 11s 11ms/step - loss: 0.6706 - accuracy: 0.7662 - val_loss: 0.8708 - val_accuracy: 0.7048\n",
            "Epoch 13/500\n",
            "1000/1000 [==============================] - 12s 12ms/step - loss: 0.6484 - accuracy: 0.7730 - val_loss: 0.8508 - val_accuracy: 0.7140\n",
            "Epoch 14/500\n",
            "1000/1000 [==============================] - 12s 12ms/step - loss: 0.6243 - accuracy: 0.7811 - val_loss: 0.8739 - val_accuracy: 0.7110\n",
            "Epoch 15/500\n",
            "1000/1000 [==============================] - 12s 12ms/step - loss: 0.6058 - accuracy: 0.7845 - val_loss: 0.8750 - val_accuracy: 0.7126\n",
            "Epoch 16/500\n",
            "1000/1000 [==============================] - 12s 12ms/step - loss: 0.5859 - accuracy: 0.7927 - val_loss: 0.9264 - val_accuracy: 0.7040\n",
            "Epoch 17/500\n",
            "1000/1000 [==============================] - 11s 11ms/step - loss: 0.5655 - accuracy: 0.8004 - val_loss: 0.9104 - val_accuracy: 0.7109\n",
            "Epoch 18/500\n",
            "1000/1000 [==============================] - 11s 11ms/step - loss: 0.5501 - accuracy: 0.8047 - val_loss: 0.8800 - val_accuracy: 0.7132\n",
            "Epoch 00018: early stopping\n"
          ]
        }
      ]
    },
    {
      "cell_type": "code",
      "metadata": {
        "colab": {
          "base_uri": "https://localhost:8080/"
        },
        "id": "W-eIxCasDBil",
        "outputId": "b9d924b0-cf0c-4035-e399-28df13cd51aa"
      },
      "source": [
        " c2f3.evaluate(X_test, y_test, batch_size = BATCH_SIZE)"
      ],
      "execution_count": 21,
      "outputs": [
        {
          "output_type": "stream",
          "name": "stdout",
          "text": [
            "200/200 [==============================] - 1s 5ms/step - loss: 0.8800 - accuracy: 0.7132\n"
          ]
        },
        {
          "output_type": "execute_result",
          "data": {
            "text/plain": [
              "[0.8799522519111633, 0.7131999731063843]"
            ]
          },
          "metadata": {},
          "execution_count": 21
        }
      ]
    },
    {
      "cell_type": "code",
      "metadata": {
        "colab": {
          "base_uri": "https://localhost:8080/",
          "height": 295
        },
        "id": "Xuw_jhKQsVrx",
        "outputId": "a7906a9d-0b5d-430e-b813-d0ebbc6237c7"
      },
      "source": [
        "# More graphs of loss and accuracy\n",
        "history_dict = hist.history\n",
        "loss = history_dict['loss']\n",
        "val_loss = history_dict['val_loss']\n",
        "\n",
        "epochs = range(1, len(loss) + 1)\n",
        "\n",
        "plt.figure(figsize=(14, 4))\n",
        "\n",
        "plt.subplot(1,2,1)\n",
        "plt.plot(epochs, loss, 'go-', label='Training Loss')\n",
        "plt.plot(epochs, val_loss, 'bd', label='Validation Loss')\n",
        "plt.plot(np.argmin(np.array(val_loss))+1,val_loss[np.argmin(np.array(val_loss))], 'r*', ms=12)\n",
        "plt.title('Training and Validation Loss, min: ' + str(np.round(val_loss[np.argmin(np.array(val_loss))],4)))\n",
        "plt.xlabel('Epochs')\n",
        "plt.ylabel('Loss')\n",
        "plt.legend()\n",
        "\n",
        "acc = history_dict['accuracy']\n",
        "val_acc = history_dict['val_accuracy']\n",
        "\n",
        "epochs = range(1, len(loss) + 1)\n",
        "\n",
        "plt.subplot(1,2,2)\n",
        "plt.plot(epochs, acc, 'go-', label='Training Accuracy') #, c='blue')\n",
        "plt.plot(epochs, val_acc, 'bd', label='Validation Accuracy') #, c='red')\n",
        "plt.plot(np.argmax(np.array(val_acc))+1,val_acc[np.argmax(np.array(val_acc))], 'r*', ms=12)\n",
        "plt.title('Training and Validation Accuracy, max: ' + str(np.round(val_acc[np.argmax(np.array(val_acc))],4)))\n",
        "plt.xlabel('Epochs')\n",
        "plt.ylabel('Accuracy')\n",
        "plt.legend()\n",
        "plt.show()"
      ],
      "execution_count": 22,
      "outputs": [
        {
          "output_type": "display_data",
          "data": {
            "image/png": "[encoded data removed]",
            "text/plain": [
              "<Figure size 1008x288 with 2 Axes>"
            ]
          },
          "metadata": {
            "needs_background": "light"
          }
        }
      ]
    },
    {
      "cell_type": "markdown",
      "metadata": {
        "id": "J316fZ9GsVrx"
      },
      "source": [
        "## Best c2f3 model of cifar10\n",
        "cifar10_c2f3_best_weights.015-0.7173.hdf5"
      ]
    },
    {
      "cell_type": "markdown",
      "metadata": {
        "id": "5XYSVtC-DVsz"
      },
      "source": [
        "# **[DIY] Hidden layer에 따른 정확도**"
      ]
    },
    {
      "cell_type": "code",
      "metadata": {
        "colab": {
          "base_uri": "https://localhost:8080/"
        },
        "id": "OiCc_UO2rGmp",
        "outputId": "d7571d1c-1e51-4011-d798-1b36d775fa62"
      },
      "source": [
        "score1=c2f2.evaluate(X_test, y_test, batch_size = BATCH_SIZE)\n",
        "score2=c2f3.evaluate(X_test, y_test, batch_size = BATCH_SIZE)\n",
        "losses = [score1[0],score2[0]]\n",
        "accuracies= [score1[1],score2[1]]\n",
        "losses,accuracies"
      ],
      "execution_count": 23,
      "outputs": [
        {
          "output_type": "stream",
          "name": "stdout",
          "text": [
            "200/200 [==============================] - 1s 5ms/step - loss: 0.9873 - accuracy: 0.7044\n",
            "200/200 [==============================] - 1s 5ms/step - loss: 0.8800 - accuracy: 0.7132\n"
          ]
        },
        {
          "output_type": "execute_result",
          "data": {
            "text/plain": [
              "([0.9872768521308899, 0.8799522519111633],\n",
              " [0.7044000029563904, 0.7131999731063843])"
            ]
          },
          "metadata": {},
          "execution_count": 23
        }
      ]
    },
    {
      "cell_type": "code",
      "metadata": {
        "colab": {
          "base_uri": "https://localhost:8080/",
          "height": 269
        },
        "id": "vZv6a2aVRw9j",
        "outputId": "ba8616cd-8f4c-4eaa-9990-d870766b0d36"
      },
      "source": [
        "x = np.arange(2)\n",
        "cnns = ['C2F2','C2F3']\n",
        "\n",
        "plt.bar(x, accuracies)\n",
        "plt.xticks(x, cnns)\n",
        "plt.ylim((.5,1.0))\n",
        "plt.show()"
      ],
      "execution_count": 24,
      "outputs": [
        {
          "output_type": "display_data",
          "data": {
            "image/png": "[encoded data removed]",
            "text/plain": [
              "<Figure size 432x288 with 1 Axes>"
            ]
          },
          "metadata": {
            "needs_background": "light"
          }
        }
      ]
    },
    {
      "cell_type": "markdown",
      "metadata": {
        "id": "63oPbpPejqOj"
      },
      "source": [
        "## Complex model\n",
        "- C4F5 model\n",
        "\n",
        "![cnn_c4f5.png](https://raw.githubusercontent.com/Redwoods/Py/master//pdm2020/my-note/py-tensorflow/images/cnn_c4f5.png)"
      ]
    },
    {
      "cell_type": "code",
      "metadata": {
        "id": "J9eYJwpoiXd7"
      },
      "source": [
        "# Random number seed\n",
        "np.random.seed(1234)\n",
        "tf.random.set_seed(1234)"
      ],
      "execution_count": 25,
      "outputs": []
    },
    {
      "cell_type": "code",
      "metadata": {
        "id": "kSN8pq8DkQ6B"
      },
      "source": [
        "c4f5 = keras.models.Sequential([ \n",
        "    Conv2D(input_shape=(32,32,3), filters= 64, kernel_size=(3,3),strides=(1,1), padding='same',activation='relu'),\n",
        "    MaxPool2D(pool_size=(2,2), strides=(2,2)), \n",
        "    Conv2D(filters= 128, kernel_size=(3,3), strides=(1,1), padding='same',activation='relu'),\n",
        "    MaxPool2D(pool_size=(2,2), strides=(2,2)),\n",
        "    Conv2D(filters= 256, kernel_size=(3,3), strides=(1,1), padding='same',activation='relu'),\n",
        "    MaxPool2D(pool_size=(2,2), strides=(2,2)),\n",
        "    Conv2D(filters= 512, kernel_size=(3,3), strides=(1,1), padding='same',activation='relu'),\n",
        "    MaxPool2D(pool_size=(2,2), strides=(2,2)),\n",
        "    Flatten(), \n",
        "    keras.layers.Dense(128, activation='relu'),  \n",
        "    keras.layers.Dropout(0.25), \n",
        "    keras.layers.Dense(256, activation='relu'),  \n",
        "    keras.layers.Dropout(0.25), \n",
        "    keras.layers.Dense(512, activation='relu'),  \n",
        "    keras.layers.Dropout(0.25), \n",
        "    keras.layers.Dense(1024, activation='relu'),  \n",
        "    keras.layers.Dropout(0.25), \n",
        "    keras.layers.Dense(10, activation='softmax')\n",
        "])\n",
        "\n",
        "c4f5.compile(optimizer='adam',\n",
        "              loss='categorical_crossentropy',\n",
        "              metrics=['accuracy']) "
      ],
      "execution_count": 26,
      "outputs": []
    },
    {
      "cell_type": "code",
      "metadata": {
        "colab": {
          "base_uri": "https://localhost:8080/"
        },
        "id": "k7qWzpLRkQ6C",
        "outputId": "e9e89632-d5fc-4e24-becb-fe1e20e84903"
      },
      "source": [
        "c4f5.summary()"
      ],
      "execution_count": 27,
      "outputs": [
        {
          "output_type": "stream",
          "name": "stdout",
          "text": [
            "Model: \"sequential_2\"\n",
            "_________________________________________________________________\n",
            " Layer (type)                Output Shape              Param #   \n",
            "=================================================================\n",
            " conv2d_4 (Conv2D)           (None, 32, 32, 64)        1792      \n",
            "                                                                 \n",
            " max_pooling2d_4 (MaxPooling  (None, 16, 16, 64)       0         \n",
            " 2D)                                                             \n",
            "                                                                 \n",
            " conv2d_5 (Conv2D)           (None, 16, 16, 128)       73856     \n",
            "                                                                 \n",
            " max_pooling2d_5 (MaxPooling  (None, 8, 8, 128)        0         \n",
            " 2D)                                                             \n",
            "                                                                 \n",
            " conv2d_6 (Conv2D)           (None, 8, 8, 256)         295168    \n",
            "                                                                 \n",
            " max_pooling2d_6 (MaxPooling  (None, 4, 4, 256)        0         \n",
            " 2D)                                                             \n",
            "                                                                 \n",
            " conv2d_7 (Conv2D)           (None, 4, 4, 512)         1180160   \n",
            "                                                                 \n",
            " max_pooling2d_7 (MaxPooling  (None, 2, 2, 512)        0         \n",
            " 2D)                                                             \n",
            "                                                                 \n",
            " flatten_2 (Flatten)         (None, 2048)              0         \n",
            "                                                                 \n",
            " dense_5 (Dense)             (None, 128)               262272    \n",
            "                                                                 \n",
            " dropout_3 (Dropout)         (None, 128)               0         \n",
            "                                                                 \n",
            " dense_6 (Dense)             (None, 256)               33024     \n",
            "                                                                 \n",
            " dropout_4 (Dropout)         (None, 256)               0         \n",
            "                                                                 \n",
            " dense_7 (Dense)             (None, 512)               131584    \n",
            "                                                                 \n",
            " dropout_5 (Dropout)         (None, 512)               0         \n",
            "                                                                 \n",
            " dense_8 (Dense)             (None, 1024)              525312    \n",
            "                                                                 \n",
            " dropout_6 (Dropout)         (None, 1024)              0         \n",
            "                                                                 \n",
            " dense_9 (Dense)             (None, 10)                10250     \n",
            "                                                                 \n",
            "=================================================================\n",
            "Total params: 2,513,418\n",
            "Trainable params: 2,513,418\n",
            "Non-trainable params: 0\n",
            "_________________________________________________________________\n"
          ]
        }
      ]
    },
    {
      "cell_type": "code",
      "metadata": {
        "id": "-pKJWy-2kQ6C"
      },
      "source": [
        "cp_callback = callbacks.ModelCheckpoint(filepath=\"./cifar10_c4f5_best_weights.{epoch:03d}-{val_accuracy:.4f}.hdf5\", \n",
        "                              monitor='val_accuracy', verbose=0, save_best_only=True)\n",
        "es_callback = callbacks.EarlyStopping(monitor='val_accuracy', \n",
        "                            mode='max', verbose=1, patience=5)    # patience=10, 25, 50"
      ],
      "execution_count": 28,
      "outputs": []
    },
    {
      "cell_type": "code",
      "metadata": {
        "colab": {
          "base_uri": "https://localhost:8080/"
        },
        "id": "wKdgr9EskQ6C",
        "outputId": "444a9933-95af-4d85-96e7-9ac2de93c8bd"
      },
      "source": [
        "hist = c4f5.fit(X_train, y_train, epochs=500, batch_size = BATCH_SIZE, \n",
        "         callbacks=[cp_callback, es_callback], \n",
        "         validation_data=(X_test,y_test))"
      ],
      "execution_count": 29,
      "outputs": [
        {
          "output_type": "stream",
          "name": "stdout",
          "text": [
            "Epoch 1/500\n",
            "1000/1000 [==============================] - 23s 22ms/step - loss: 1.6864 - accuracy: 0.3538 - val_loss: 1.2717 - val_accuracy: 0.5377\n",
            "Epoch 2/500\n",
            "1000/1000 [==============================] - 22s 22ms/step - loss: 1.2350 - accuracy: 0.5579 - val_loss: 1.0562 - val_accuracy: 0.6270\n",
            "Epoch 3/500\n",
            "1000/1000 [==============================] - 22s 22ms/step - loss: 1.0264 - accuracy: 0.6440 - val_loss: 0.9656 - val_accuracy: 0.6636\n",
            "Epoch 4/500\n",
            "1000/1000 [==============================] - 21s 21ms/step - loss: 0.8883 - accuracy: 0.6977 - val_loss: 0.8928 - val_accuracy: 0.6945\n",
            "Epoch 5/500\n",
            "1000/1000 [==============================] - 22s 22ms/step - loss: 0.7897 - accuracy: 0.7325 - val_loss: 0.8639 - val_accuracy: 0.7103\n",
            "Epoch 6/500\n",
            "1000/1000 [==============================] - 22s 22ms/step - loss: 0.7079 - accuracy: 0.7627 - val_loss: 0.8386 - val_accuracy: 0.7178\n",
            "Epoch 7/500\n",
            "1000/1000 [==============================] - 22s 22ms/step - loss: 0.6383 - accuracy: 0.7856 - val_loss: 0.8067 - val_accuracy: 0.7321\n",
            "Epoch 8/500\n",
            "1000/1000 [==============================] - 22s 22ms/step - loss: 0.5773 - accuracy: 0.8099 - val_loss: 0.8436 - val_accuracy: 0.7250\n",
            "Epoch 9/500\n",
            "1000/1000 [==============================] - 21s 21ms/step - loss: 0.5278 - accuracy: 0.8236 - val_loss: 0.9440 - val_accuracy: 0.7077\n",
            "Epoch 10/500\n",
            "1000/1000 [==============================] - 21s 21ms/step - loss: 0.4863 - accuracy: 0.8409 - val_loss: 0.8709 - val_accuracy: 0.7307\n",
            "Epoch 11/500\n",
            "1000/1000 [==============================] - 21s 21ms/step - loss: 0.4479 - accuracy: 0.8545 - val_loss: 0.8356 - val_accuracy: 0.7407\n",
            "Epoch 12/500\n",
            "1000/1000 [==============================] - 21s 21ms/step - loss: 0.4142 - accuracy: 0.8665 - val_loss: 0.8864 - val_accuracy: 0.7348\n",
            "Epoch 13/500\n",
            "1000/1000 [==============================] - 21s 21ms/step - loss: 0.3877 - accuracy: 0.8750 - val_loss: 0.9168 - val_accuracy: 0.7307\n",
            "Epoch 14/500\n",
            "1000/1000 [==============================] - 21s 21ms/step - loss: 0.3579 - accuracy: 0.8852 - val_loss: 0.8673 - val_accuracy: 0.7407\n",
            "Epoch 15/500\n",
            "1000/1000 [==============================] - 22s 22ms/step - loss: 0.3295 - accuracy: 0.8948 - val_loss: 0.9743 - val_accuracy: 0.7337\n",
            "Epoch 16/500\n",
            "1000/1000 [==============================] - 22s 22ms/step - loss: 0.3163 - accuracy: 0.9019 - val_loss: 0.9360 - val_accuracy: 0.7448\n",
            "Epoch 17/500\n",
            "1000/1000 [==============================] - 21s 22ms/step - loss: 0.2918 - accuracy: 0.9081 - val_loss: 0.9201 - val_accuracy: 0.7424\n",
            "Epoch 18/500\n",
            "1000/1000 [==============================] - 22s 22ms/step - loss: 0.2777 - accuracy: 0.9152 - val_loss: 1.0250 - val_accuracy: 0.7186\n",
            "Epoch 19/500\n",
            "1000/1000 [==============================] - 22s 22ms/step - loss: 0.2689 - accuracy: 0.9174 - val_loss: 0.9998 - val_accuracy: 0.7352\n",
            "Epoch 20/500\n",
            "1000/1000 [==============================] - 22s 22ms/step - loss: 0.2554 - accuracy: 0.9206 - val_loss: 0.9473 - val_accuracy: 0.7354\n",
            "Epoch 21/500\n",
            "1000/1000 [==============================] - 22s 22ms/step - loss: 0.2500 - accuracy: 0.9239 - val_loss: 1.0089 - val_accuracy: 0.7419\n",
            "Epoch 00021: early stopping\n"
          ]
        }
      ]
    },
    {
      "cell_type": "code",
      "metadata": {
        "colab": {
          "base_uri": "https://localhost:8080/"
        },
        "id": "jfwYHBexkQ6D",
        "outputId": "b01a166a-a103-4106-b089-cc8042f34259"
      },
      "source": [
        " c4f5.evaluate(X_test, y_test, batch_size = BATCH_SIZE)"
      ],
      "execution_count": 30,
      "outputs": [
        {
          "output_type": "stream",
          "name": "stdout",
          "text": [
            "200/200 [==============================] - 2s 9ms/step - loss: 1.0089 - accuracy: 0.7419\n"
          ]
        },
        {
          "output_type": "execute_result",
          "data": {
            "text/plain": [
              "[1.0089285373687744, 0.7419000267982483]"
            ]
          },
          "metadata": {},
          "execution_count": 30
        }
      ]
    },
    {
      "cell_type": "markdown",
      "metadata": {
        "id": "3Ub3qGnjs4EI"
      },
      "source": [
        "## Graph of loss and accuracy\n",
        "- model: C4f5"
      ]
    },
    {
      "cell_type": "code",
      "metadata": {
        "colab": {
          "base_uri": "https://localhost:8080/",
          "height": 295
        },
        "id": "N_zYFwbwsVr0",
        "outputId": "5f405247-dfda-4f62-c9e0-c32822ee6a86"
      },
      "source": [
        "# More graphs of loss and accuracy\n",
        "history_dict = hist.history\n",
        "loss = history_dict['loss']\n",
        "val_loss = history_dict['val_loss']\n",
        "\n",
        "epochs = range(1, len(loss) + 1)\n",
        "\n",
        "plt.figure(figsize=(14, 4))\n",
        "\n",
        "plt.subplot(1,2,1)\n",
        "plt.plot(epochs, loss, 'go-', label='Training Loss')\n",
        "plt.plot(epochs, val_loss, 'bd', label='Validation Loss')\n",
        "plt.plot(np.argmin(np.array(val_loss))+1,val_loss[np.argmin(np.array(val_loss))], 'r*', ms=12)\n",
        "plt.title('Training and Validation Loss, min: ' + str(np.round(val_loss[np.argmin(np.array(val_loss))],4)))\n",
        "plt.xlabel('Epochs')\n",
        "plt.ylabel('Loss')\n",
        "plt.legend()\n",
        "\n",
        "acc = history_dict['accuracy']\n",
        "val_acc = history_dict['val_accuracy']\n",
        "\n",
        "epochs = range(1, len(loss) + 1)\n",
        "\n",
        "plt.subplot(1,2,2)\n",
        "plt.plot(epochs, acc, 'go-', label='Training Accuracy') #, c='blue')\n",
        "plt.plot(epochs, val_acc, 'bd', label='Validation Accuracy') #, c='red')\n",
        "plt.plot(np.argmax(np.array(val_acc))+1,val_acc[np.argmax(np.array(val_acc))], 'r*', ms=12)\n",
        "plt.title('Training and Validation Accuracy, max: ' + str(np.round(val_acc[np.argmax(np.array(val_acc))],4)))\n",
        "plt.xlabel('Epochs')\n",
        "plt.ylabel('Accuracy')\n",
        "plt.legend()\n",
        "plt.show()"
      ],
      "execution_count": 31,
      "outputs": [
        {
          "output_type": "display_data",
          "data": {
            "image/png": "[encoded data removed]",
            "text/plain": [
              "<Figure size 1008x288 with 2 Axes>"
            ]
          },
          "metadata": {
            "needs_background": "light"
          }
        }
      ]
    },
    {
      "cell_type": "markdown",
      "metadata": {
        "id": "97G08isfsVr0"
      },
      "source": [
        "## Best c4f5 model of cifar10\n",
        "cifar10_c4f5_best_weights.013-0.7507.hdf5"
      ]
    },
    {
      "cell_type": "markdown",
      "metadata": {
        "id": "gBPKMI4y3fsa"
      },
      "source": [
        "## 모형의 저장\n",
        "\n",
        "- 트레이닝이 끝난 모형은 save 메서드로 가중치와 함께 hdf5 형식으로 저장\n",
        "- load 명령으로 불러 사용"
      ]
    },
    {
      "cell_type": "markdown",
      "metadata": {
        "id": "qKFFDx_2jhUH"
      },
      "source": [
        ""
      ]
    },
    {
      "cell_type": "markdown",
      "metadata": {
        "id": "r7-KSSrCsVr0"
      },
      "source": [
        "## Best model\n",
        "cifar10_c4f5_best_weights.016-0.7448.hdf5"
      ]
    },
    {
      "cell_type": "code",
      "metadata": {
        "colab": {
          "base_uri": "https://localhost:8080/"
        },
        "id": "b7-ysIVy3fse",
        "outputId": "1ec751bf-2401-449d-c8cb-b3a3260fee95"
      },
      "source": [
        "from keras.models import load_model\n",
        "\n",
        "model_best = load_model('cifar10_c4f5_best_weights.016-0.7448.hdf5')\n",
        "model_best.evaluate(X_test, y_test, batch_size=BATCH_SIZE)"
      ],
      "execution_count": 33,
      "outputs": [
        {
          "output_type": "stream",
          "name": "stdout",
          "text": [
            "200/200 [==============================] - 2s 9ms/step - loss: 0.9360 - accuracy: 0.7448\n"
          ]
        },
        {
          "output_type": "execute_result",
          "data": {
            "text/plain": [
              "[0.9359775185585022, 0.7447999715805054]"
            ]
          },
          "metadata": {},
          "execution_count": 33
        }
      ]
    },
    {
      "cell_type": "markdown",
      "metadata": {
        "id": "KF3UzDJotZrh"
      },
      "source": [
        "## Confusion matrix"
      ]
    },
    {
      "cell_type": "code",
      "metadata": {
        "id": "RV1IaOyeu6Em"
      },
      "source": [
        "from sklearn.metrics import confusion_matrix\n",
        "import seaborn as sns"
      ],
      "execution_count": 34,
      "outputs": []
    },
    {
      "cell_type": "code",
      "metadata": {
        "id": "Bxs1eC-cuO0Y"
      },
      "source": [
        "predictions = model_best.predict(X_test)"
      ],
      "execution_count": 35,
      "outputs": []
    },
    {
      "cell_type": "code",
      "metadata": {
        "colab": {
          "base_uri": "https://localhost:8080/"
        },
        "id": "nZch1JFSufoR",
        "outputId": "740350ee-19b5-4fca-8bab-376f0b79cad0"
      },
      "source": [
        "predictions0 = np.argmax(predictions, axis=1)\n",
        "predictions0.shape"
      ],
      "execution_count": 36,
      "outputs": [
        {
          "output_type": "execute_result",
          "data": {
            "text/plain": [
              "(10000,)"
            ]
          },
          "metadata": {},
          "execution_count": 36
        }
      ]
    },
    {
      "cell_type": "code",
      "metadata": {
        "id": "hiPMQeYXt12l"
      },
      "source": [
        "cm = confusion_matrix(y_test0, predictions0)"
      ],
      "execution_count": 37,
      "outputs": []
    },
    {
      "cell_type": "code",
      "metadata": {
        "id": "YITaGwYjvatc"
      },
      "source": [
        "class_names = ['airplane', 'automobile', 'bird', 'cat', 'deer', 'dog', 'frog', 'horse', 'ship', 'truck']"
      ],
      "execution_count": 38,
      "outputs": []
    },
    {
      "cell_type": "code",
      "metadata": {
        "colab": {
          "base_uri": "https://localhost:8080/",
          "height": 551
        },
        "id": "2qGHMNU3u8ut",
        "outputId": "626d2c97-6831-4f9a-d4e1-6a4515e9518c"
      },
      "source": [
        "plt.figure(figsize=(9,9))\n",
        "sns.heatmap(cm, cbar=False, xticklabels=class_names, yticklabels=class_names, fmt='d', annot=True, cmap=plt.cm.coolwarm)\n",
        "plt.xlabel('Predicted')\n",
        "plt.ylabel('Actual')\n",
        "plt.show()"
      ],
      "execution_count": 39,
      "outputs": [
        {
          "output_type": "display_data",
          "data": {
            "image/png": "[encoded data removed]",
            "text/plain": [
              "<Figure size 648x648 with 1 Axes>"
            ]
          },
          "metadata": {
            "needs_background": "light"
          }
        }
      ]
    },
    {
      "cell_type": "markdown",
      "metadata": {
        "id": "m6ckhbERsVr2"
      },
      "source": [
        "---"
      ]
    },
    {
      "cell_type": "markdown",
      "metadata": {
        "id": "SQ3M6vRVXG78"
      },
      "source": [
        "## cifar10 모델 학습\n",
        "> https://gruuuuu.github.io/machine-learning/cifar10-cnn/#"
      ]
    },
    {
      "cell_type": "markdown",
      "metadata": {
        "id": "0n2PfCMBh2ju"
      },
      "source": [
        "# State of current scores of cifar-10\n",
        "\n",
        "> https://paperswithcode.com/sota/image-classification-on-cifar-10"
      ]
    },
    {
      "cell_type": "markdown",
      "metadata": {
        "id": "7abyx_2n0_7d"
      },
      "source": [
        "## Transfer learning on cifar-10\n",
        "\n",
        "- https://medium.com/@andrew.dabydeen/transfer-learning-using-resnet50-and-cifar-10-6242ed4b4245\n",
        "\n",
        "- https://medium.com/swlh/comparative-analysis-of-cifar-10-image-classification-transfer-learning-vs-user-defined-cnns-e673685d925e\n",
        "\n",
        "- https://medium.com/swlh/hands-on-the-cifar-10-dataset-with-transfer-learning-2e768fd6c318\n",
        "\n",
        "- https://medium.com/analytics-vidhya/the-transfer-learning-experience-with-vgg16-and-cifar-10-dataset-9b25b306a23f"
      ]
    },
    {
      "cell_type": "markdown",
      "metadata": {
        "id": "xmWCauBEsVr3"
      },
      "source": [
        "---"
      ]
    }
  ]
}