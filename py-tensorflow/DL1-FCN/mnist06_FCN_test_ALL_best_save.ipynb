{
  "nbformat": 4,
  "nbformat_minor": 0,
  "metadata": {
    "colab": {
      "name": "mnist06_FCN_test_ALL_best_save.ipynb",
      "provenance": [],
      "collapsed_sections": [],
      "include_colab_link": true
    },
    "kernelspec": {
      "name": "python3",
      "display_name": "Python 3"
    },
    "accelerator": "GPU"
  },
  "cells": [
    {
      "cell_type": "markdown",
      "metadata": {
        "id": "view-in-github",
        "colab_type": "text"
      },
      "source": [
        "<a href=\"https://colab.research.google.com/github/seokmin1/PDM08/blob/main/py-tensorflow/DL1-FCN/mnist06_FCN_test_ALL_best_save.ipynb\" target=\"_parent\"><img src=\"https://colab.research.google.com/assets/colab-badge.svg\" alt=\"Open In Colab\"/></a>"
      ]
    },
    {
      "cell_type": "markdown",
      "metadata": {
        "id": "eKScslg0Bk1E"
      },
      "source": [
        "## DNN (Deep Neural Networks) 구현 방법\n",
        "> - **Sequential model**\n",
        "> - Functional model\n",
        "> - Subclassing model"
      ]
    },
    {
      "cell_type": "markdown",
      "metadata": {
        "id": "rswfCVLZ-QW0"
      },
      "source": [
        "# **Test of mnist FCN model**\n",
        "## Sequential model\n",
        "- FCN3\n",
        "\n",
        "***\n",
        "\n",
        "![mnist_NN_2_layers](https://raw.githubusercontent.com/Redwoods/Py/master/pdm2020/my-note/py-tensorflow/images/mnist_NN_2_layers.png)"
      ]
    },
    {
      "cell_type": "code",
      "metadata": {
        "id": "8GgGzPXPVyfa",
        "colab": {
          "base_uri": "https://localhost:8080/"
        },
        "outputId": "8a1f03b5-574c-4f39-d171-1f5f60492800"
      },
      "source": [
        "import numpy as np\n",
        "import tensorflow as tf\n",
        "from tensorflow import keras\n",
        "import pandas as pd\n",
        "import matplotlib.pyplot as plt\n",
        "# %matplotlib inline\n",
        "\n",
        "print(tf.__version__)"
      ],
      "execution_count": 1,
      "outputs": [
        {
          "output_type": "stream",
          "name": "stdout",
          "text": [
            "2.7.0\n"
          ]
        }
      ]
    },
    {
      "cell_type": "markdown",
      "metadata": {
        "id": "-0IOOUM14Jk1"
      },
      "source": [
        "## **데이터 로딩, 정규화**"
      ]
    },
    {
      "cell_type": "code",
      "metadata": {
        "id": "N1ogJ7I64Fz-",
        "colab": {
          "base_uri": "https://localhost:8080/"
        },
        "outputId": "623baf0d-057a-477e-ba4d-e0dcd83bba8a"
      },
      "source": [
        "from keras.datasets import mnist\n",
        "\n",
        "(X_train, y_train), (X_test, y_test) = mnist.load_data()\n",
        "X_train, X_test = X_train/255.0, X_test/255.0 # 정규화\n",
        "\n",
        "print(\"X_train={0}\".format(X_train.shape))\n",
        "print(\"y_train={0}\".format(y_train.shape)) \n",
        "print(\"X_test={0}\".format(X_test.shape))\n",
        "print(\"y_test={0}\".format(y_test.shape))"
      ],
      "execution_count": 2,
      "outputs": [
        {
          "output_type": "stream",
          "name": "stdout",
          "text": [
            "Downloading data from https://storage.googleapis.com/tensorflow/tf-keras-datasets/mnist.npz\n",
            "11493376/11490434 [==============================] - 0s 0us/step\n",
            "11501568/11490434 [==============================] - 0s 0us/step\n",
            "X_train=(60000, 28, 28)\n",
            "y_train=(60000,)\n",
            "X_test=(10000, 28, 28)\n",
            "y_test=(10000,)\n"
          ]
        }
      ]
    },
    {
      "cell_type": "code",
      "metadata": {
        "id": "F46-QZqJHiQ6"
      },
      "source": [
        "# One-Hot-Encoding\n",
        "# Use function to_categorical() to do One-Hot-Encoding\n",
        "# tf.keras.utils.to_categorical\n",
        "from tensorflow.keras.utils import to_categorical\n",
        "\n",
        "y_train = to_categorical(y_train, 10)\n",
        "y_test = to_categorical(y_test, 10)"
      ],
      "execution_count": 3,
      "outputs": []
    },
    {
      "cell_type": "markdown",
      "metadata": {
        "id": "zYsilPV-d68h"
      },
      "source": [
        "## **FCN3**"
      ]
    },
    {
      "cell_type": "markdown",
      "metadata": {
        "id": "8cihsjLOK9-P"
      },
      "source": [
        "### Control of training process\n",
        "- EarlyStopping\n",
        "    - patience\n",
        "- ModelCheckpoint\n",
        "    > Save best model during training"
      ]
    },
    {
      "cell_type": "code",
      "metadata": {
        "id": "GheJZ2V_Krq6"
      },
      "source": [
        "from tensorflow.keras import callbacks\n",
        "# from callbacks import ModelCheckpoint, EarlyStopping"
      ],
      "execution_count": 4,
      "outputs": []
    },
    {
      "cell_type": "code",
      "metadata": {
        "id": "RX59mbX4LmHY"
      },
      "source": [
        "mc_callback = callbacks.ModelCheckpoint(filepath=\"./mnist_fcn3_best_weights.{epoch:03d}-{val_accuracy:.3f}.hdf5\", \n",
        "                              monitor='val_accuracy', verbose=0, save_best_only=True)\n",
        "es_callback = callbacks.EarlyStopping(monitor='val_accuracy', \n",
        "                            mode='max', verbose=1, patience=20) "
      ],
      "execution_count": 5,
      "outputs": []
    },
    {
      "cell_type": "code",
      "metadata": {
        "id": "ru3C9Fdb5MJ9"
      },
      "source": [
        "# set random number seed\n",
        "np.random.seed(1234)\n",
        "tf.random.set_seed(1234)\n",
        "\n",
        "fcn3 = tf.keras.models.Sequential([ \n",
        "    tf.keras.layers.Flatten(input_shape=(28, 28)),\n",
        "    tf.keras.layers.Dense(256, activation='relu'),  \n",
        "    tf.keras.layers.Dropout(0.25),\n",
        "    tf.keras.layers.Dense(128, activation='relu'),  \n",
        "    tf.keras.layers.Dropout(0.25), \n",
        "    tf.keras.layers.Dense(10, activation='softmax')\n",
        "])\n",
        "\n",
        "fcn3.compile(optimizer='adam',\n",
        "              loss='categorical_crossentropy',\n",
        "              metrics=['accuracy']) \n"
      ],
      "execution_count": 6,
      "outputs": []
    },
    {
      "cell_type": "code",
      "metadata": {
        "id": "WUKcSnnc5XcD",
        "colab": {
          "base_uri": "https://localhost:8080/"
        },
        "outputId": "08137ef0-00ad-49d6-ff2b-d9004168e4a1"
      },
      "source": [
        "fcn3.summary()"
      ],
      "execution_count": 7,
      "outputs": [
        {
          "output_type": "stream",
          "name": "stdout",
          "text": [
            "Model: \"sequential\"\n",
            "_________________________________________________________________\n",
            " Layer (type)                Output Shape              Param #   \n",
            "=================================================================\n",
            " flatten (Flatten)           (None, 784)               0         \n",
            "                                                                 \n",
            " dense (Dense)               (None, 256)               200960    \n",
            "                                                                 \n",
            " dropout (Dropout)           (None, 256)               0         \n",
            "                                                                 \n",
            " dense_1 (Dense)             (None, 128)               32896     \n",
            "                                                                 \n",
            " dropout_1 (Dropout)         (None, 128)               0         \n",
            "                                                                 \n",
            " dense_2 (Dense)             (None, 10)                1290      \n",
            "                                                                 \n",
            "=================================================================\n",
            "Total params: 235,146\n",
            "Trainable params: 235,146\n",
            "Non-trainable params: 0\n",
            "_________________________________________________________________\n"
          ]
        }
      ]
    },
    {
      "cell_type": "code",
      "metadata": {
        "id": "WHnUbwan5Zq7",
        "colab": {
          "base_uri": "https://localhost:8080/"
        },
        "outputId": "976e61e7-eec0-487e-b1e2-9cee32ae9019"
      },
      "source": [
        "# Training with callbacks\n",
        "hist = fcn3.fit(X_train,y_train, \n",
        "                epochs= 100 , \n",
        "                batch_size =100,\n",
        "                validation_data=(X_test,y_test),\n",
        "                callbacks=[mc_callback, es_callback])"
      ],
      "execution_count": 8,
      "outputs": [
        {
          "output_type": "stream",
          "name": "stdout",
          "text": [
            "Epoch 1/100\n",
            "600/600 [==============================] - 6s 5ms/step - loss: 0.3509 - accuracy: 0.8952 - val_loss: 0.1296 - val_accuracy: 0.9587\n",
            "Epoch 2/100\n",
            "600/600 [==============================] - 3s 4ms/step - loss: 0.1499 - accuracy: 0.9555 - val_loss: 0.0951 - val_accuracy: 0.9692\n",
            "Epoch 3/100\n",
            "600/600 [==============================] - 3s 4ms/step - loss: 0.1107 - accuracy: 0.9670 - val_loss: 0.0794 - val_accuracy: 0.9753\n",
            "Epoch 4/100\n",
            "600/600 [==============================] - 3s 4ms/step - loss: 0.0881 - accuracy: 0.9735 - val_loss: 0.0741 - val_accuracy: 0.9751\n",
            "Epoch 5/100\n",
            "600/600 [==============================] - 3s 4ms/step - loss: 0.0750 - accuracy: 0.9765 - val_loss: 0.0724 - val_accuracy: 0.9770\n",
            "Epoch 6/100\n",
            "600/600 [==============================] - 3s 4ms/step - loss: 0.0655 - accuracy: 0.9794 - val_loss: 0.0608 - val_accuracy: 0.9800\n",
            "Epoch 7/100\n",
            "600/600 [==============================] - 3s 4ms/step - loss: 0.0601 - accuracy: 0.9809 - val_loss: 0.0658 - val_accuracy: 0.9786\n",
            "Epoch 8/100\n",
            "600/600 [==============================] - 3s 4ms/step - loss: 0.0536 - accuracy: 0.9822 - val_loss: 0.0602 - val_accuracy: 0.9827\n",
            "Epoch 9/100\n",
            "600/600 [==============================] - 2s 4ms/step - loss: 0.0483 - accuracy: 0.9846 - val_loss: 0.0593 - val_accuracy: 0.9820\n",
            "Epoch 10/100\n",
            "600/600 [==============================] - 2s 4ms/step - loss: 0.0439 - accuracy: 0.9857 - val_loss: 0.0666 - val_accuracy: 0.9802\n",
            "Epoch 11/100\n",
            "600/600 [==============================] - 2s 4ms/step - loss: 0.0393 - accuracy: 0.9870 - val_loss: 0.0680 - val_accuracy: 0.9810\n",
            "Epoch 12/100\n",
            "600/600 [==============================] - 3s 4ms/step - loss: 0.0383 - accuracy: 0.9873 - val_loss: 0.0703 - val_accuracy: 0.9806\n",
            "Epoch 13/100\n",
            "600/600 [==============================] - 3s 4ms/step - loss: 0.0374 - accuracy: 0.9874 - val_loss: 0.0641 - val_accuracy: 0.9832\n",
            "Epoch 14/100\n",
            "600/600 [==============================] - 3s 4ms/step - loss: 0.0339 - accuracy: 0.9888 - val_loss: 0.0686 - val_accuracy: 0.9812\n",
            "Epoch 15/100\n",
            "600/600 [==============================] - 3s 4ms/step - loss: 0.0315 - accuracy: 0.9893 - val_loss: 0.0743 - val_accuracy: 0.9804\n",
            "Epoch 16/100\n",
            "600/600 [==============================] - 3s 4ms/step - loss: 0.0330 - accuracy: 0.9893 - val_loss: 0.0698 - val_accuracy: 0.9829\n",
            "Epoch 17/100\n",
            "600/600 [==============================] - 2s 4ms/step - loss: 0.0293 - accuracy: 0.9901 - val_loss: 0.0659 - val_accuracy: 0.9831\n",
            "Epoch 18/100\n",
            "600/600 [==============================] - 3s 4ms/step - loss: 0.0277 - accuracy: 0.9910 - val_loss: 0.0690 - val_accuracy: 0.9825\n",
            "Epoch 19/100\n",
            "600/600 [==============================] - 3s 4ms/step - loss: 0.0283 - accuracy: 0.9905 - val_loss: 0.0649 - val_accuracy: 0.9837\n",
            "Epoch 20/100\n",
            "600/600 [==============================] - 3s 4ms/step - loss: 0.0255 - accuracy: 0.9914 - val_loss: 0.0679 - val_accuracy: 0.9841\n",
            "Epoch 21/100\n",
            "600/600 [==============================] - 3s 4ms/step - loss: 0.0250 - accuracy: 0.9914 - val_loss: 0.0684 - val_accuracy: 0.9832\n",
            "Epoch 22/100\n",
            "600/600 [==============================] - 3s 4ms/step - loss: 0.0264 - accuracy: 0.9911 - val_loss: 0.0743 - val_accuracy: 0.9818\n",
            "Epoch 23/100\n",
            "600/600 [==============================] - 2s 4ms/step - loss: 0.0247 - accuracy: 0.9919 - val_loss: 0.0756 - val_accuracy: 0.9829\n",
            "Epoch 24/100\n",
            "600/600 [==============================] - 3s 4ms/step - loss: 0.0195 - accuracy: 0.9932 - val_loss: 0.0710 - val_accuracy: 0.9847\n",
            "Epoch 25/100\n",
            "600/600 [==============================] - 3s 4ms/step - loss: 0.0220 - accuracy: 0.9927 - val_loss: 0.0835 - val_accuracy: 0.9811\n",
            "Epoch 26/100\n",
            "600/600 [==============================] - 3s 4ms/step - loss: 0.0205 - accuracy: 0.9932 - val_loss: 0.0842 - val_accuracy: 0.9812\n",
            "Epoch 27/100\n",
            "600/600 [==============================] - 3s 4ms/step - loss: 0.0221 - accuracy: 0.9930 - val_loss: 0.0735 - val_accuracy: 0.9833\n",
            "Epoch 28/100\n",
            "600/600 [==============================] - 3s 4ms/step - loss: 0.0191 - accuracy: 0.9938 - val_loss: 0.0735 - val_accuracy: 0.9833\n",
            "Epoch 29/100\n",
            "600/600 [==============================] - 2s 4ms/step - loss: 0.0214 - accuracy: 0.9930 - val_loss: 0.0798 - val_accuracy: 0.9836\n",
            "Epoch 30/100\n",
            "600/600 [==============================] - 3s 4ms/step - loss: 0.0201 - accuracy: 0.9934 - val_loss: 0.0778 - val_accuracy: 0.9824\n",
            "Epoch 31/100\n",
            "600/600 [==============================] - 3s 4ms/step - loss: 0.0196 - accuracy: 0.9936 - val_loss: 0.0770 - val_accuracy: 0.9825\n",
            "Epoch 32/100\n",
            "600/600 [==============================] - 3s 4ms/step - loss: 0.0177 - accuracy: 0.9940 - val_loss: 0.0755 - val_accuracy: 0.9831\n",
            "Epoch 33/100\n",
            "600/600 [==============================] - 2s 4ms/step - loss: 0.0216 - accuracy: 0.9932 - val_loss: 0.0708 - val_accuracy: 0.9845\n",
            "Epoch 34/100\n",
            "600/600 [==============================] - 3s 4ms/step - loss: 0.0183 - accuracy: 0.9937 - val_loss: 0.0801 - val_accuracy: 0.9837\n",
            "Epoch 35/100\n",
            "600/600 [==============================] - 3s 4ms/step - loss: 0.0174 - accuracy: 0.9943 - val_loss: 0.0768 - val_accuracy: 0.9837\n",
            "Epoch 36/100\n",
            "600/600 [==============================] - 3s 4ms/step - loss: 0.0182 - accuracy: 0.9939 - val_loss: 0.0778 - val_accuracy: 0.9835\n",
            "Epoch 37/100\n",
            "600/600 [==============================] - 3s 4ms/step - loss: 0.0157 - accuracy: 0.9945 - val_loss: 0.0770 - val_accuracy: 0.9827\n",
            "Epoch 38/100\n",
            "600/600 [==============================] - 3s 4ms/step - loss: 0.0195 - accuracy: 0.9936 - val_loss: 0.0839 - val_accuracy: 0.9830\n",
            "Epoch 39/100\n",
            "600/600 [==============================] - 3s 4ms/step - loss: 0.0161 - accuracy: 0.9946 - val_loss: 0.0767 - val_accuracy: 0.9836\n",
            "Epoch 40/100\n",
            "600/600 [==============================] - 3s 4ms/step - loss: 0.0168 - accuracy: 0.9940 - val_loss: 0.0754 - val_accuracy: 0.9854\n",
            "Epoch 41/100\n",
            "600/600 [==============================] - 3s 4ms/step - loss: 0.0158 - accuracy: 0.9945 - val_loss: 0.0783 - val_accuracy: 0.9843\n",
            "Epoch 42/100\n",
            "600/600 [==============================] - 3s 4ms/step - loss: 0.0160 - accuracy: 0.9949 - val_loss: 0.0896 - val_accuracy: 0.9812\n",
            "Epoch 43/100\n",
            "600/600 [==============================] - 3s 4ms/step - loss: 0.0165 - accuracy: 0.9950 - val_loss: 0.0806 - val_accuracy: 0.9815\n",
            "Epoch 44/100\n",
            "600/600 [==============================] - 2s 4ms/step - loss: 0.0157 - accuracy: 0.9946 - val_loss: 0.0769 - val_accuracy: 0.9834\n",
            "Epoch 45/100\n",
            "600/600 [==============================] - 3s 4ms/step - loss: 0.0150 - accuracy: 0.9951 - val_loss: 0.0830 - val_accuracy: 0.9848\n",
            "Epoch 46/100\n",
            "600/600 [==============================] - 3s 4ms/step - loss: 0.0164 - accuracy: 0.9949 - val_loss: 0.0870 - val_accuracy: 0.9827\n",
            "Epoch 47/100\n",
            "600/600 [==============================] - 3s 4ms/step - loss: 0.0137 - accuracy: 0.9955 - val_loss: 0.0792 - val_accuracy: 0.9830\n",
            "Epoch 48/100\n",
            "600/600 [==============================] - 3s 4ms/step - loss: 0.0147 - accuracy: 0.9952 - val_loss: 0.0904 - val_accuracy: 0.9824\n",
            "Epoch 49/100\n",
            "600/600 [==============================] - 3s 4ms/step - loss: 0.0152 - accuracy: 0.9953 - val_loss: 0.0786 - val_accuracy: 0.9855\n",
            "Epoch 50/100\n",
            "600/600 [==============================] - 3s 4ms/step - loss: 0.0158 - accuracy: 0.9950 - val_loss: 0.0792 - val_accuracy: 0.9839\n",
            "Epoch 51/100\n",
            "600/600 [==============================] - 3s 4ms/step - loss: 0.0139 - accuracy: 0.9955 - val_loss: 0.0906 - val_accuracy: 0.9831\n",
            "Epoch 52/100\n",
            "600/600 [==============================] - 3s 4ms/step - loss: 0.0132 - accuracy: 0.9954 - val_loss: 0.0805 - val_accuracy: 0.9840\n",
            "Epoch 53/100\n",
            "600/600 [==============================] - 3s 4ms/step - loss: 0.0145 - accuracy: 0.9954 - val_loss: 0.0908 - val_accuracy: 0.9833\n",
            "Epoch 54/100\n",
            "600/600 [==============================] - 3s 4ms/step - loss: 0.0153 - accuracy: 0.9948 - val_loss: 0.0827 - val_accuracy: 0.9846\n",
            "Epoch 55/100\n",
            "600/600 [==============================] - 3s 4ms/step - loss: 0.0155 - accuracy: 0.9949 - val_loss: 0.0927 - val_accuracy: 0.9847\n",
            "Epoch 56/100\n",
            "600/600 [==============================] - 3s 4ms/step - loss: 0.0152 - accuracy: 0.9952 - val_loss: 0.0866 - val_accuracy: 0.9833\n",
            "Epoch 57/100\n",
            "600/600 [==============================] - 3s 4ms/step - loss: 0.0135 - accuracy: 0.9955 - val_loss: 0.0978 - val_accuracy: 0.9813\n",
            "Epoch 58/100\n",
            "600/600 [==============================] - 3s 4ms/step - loss: 0.0115 - accuracy: 0.9962 - val_loss: 0.0887 - val_accuracy: 0.9832\n",
            "Epoch 59/100\n",
            "600/600 [==============================] - 3s 4ms/step - loss: 0.0148 - accuracy: 0.9950 - val_loss: 0.0874 - val_accuracy: 0.9834\n",
            "Epoch 60/100\n",
            "600/600 [==============================] - 3s 4ms/step - loss: 0.0130 - accuracy: 0.9959 - val_loss: 0.0854 - val_accuracy: 0.9842\n",
            "Epoch 61/100\n",
            "600/600 [==============================] - 3s 4ms/step - loss: 0.0140 - accuracy: 0.9954 - val_loss: 0.0910 - val_accuracy: 0.9838\n",
            "Epoch 62/100\n",
            "600/600 [==============================] - 3s 4ms/step - loss: 0.0126 - accuracy: 0.9963 - val_loss: 0.0930 - val_accuracy: 0.9841\n",
            "Epoch 63/100\n",
            "600/600 [==============================] - 3s 4ms/step - loss: 0.0138 - accuracy: 0.9955 - val_loss: 0.0978 - val_accuracy: 0.9827\n",
            "Epoch 64/100\n",
            "600/600 [==============================] - 3s 4ms/step - loss: 0.0131 - accuracy: 0.9957 - val_loss: 0.0980 - val_accuracy: 0.9829\n",
            "Epoch 65/100\n",
            "600/600 [==============================] - 3s 4ms/step - loss: 0.0145 - accuracy: 0.9953 - val_loss: 0.0974 - val_accuracy: 0.9833\n",
            "Epoch 66/100\n",
            "600/600 [==============================] - 3s 4ms/step - loss: 0.0126 - accuracy: 0.9963 - val_loss: 0.1050 - val_accuracy: 0.9828\n",
            "Epoch 67/100\n",
            "600/600 [==============================] - 3s 4ms/step - loss: 0.0124 - accuracy: 0.9960 - val_loss: 0.0911 - val_accuracy: 0.9844\n",
            "Epoch 68/100\n",
            "600/600 [==============================] - 3s 4ms/step - loss: 0.0152 - accuracy: 0.9952 - val_loss: 0.0886 - val_accuracy: 0.9826\n",
            "Epoch 69/100\n",
            "600/600 [==============================] - 3s 4ms/step - loss: 0.0111 - accuracy: 0.9965 - val_loss: 0.0897 - val_accuracy: 0.9838\n",
            "Epoch 00069: early stopping\n"
          ]
        }
      ]
    },
    {
      "cell_type": "code",
      "metadata": {
        "id": "kTaGJMFG7FbH",
        "colab": {
          "base_uri": "https://localhost:8080/"
        },
        "outputId": "dc843625-0f88-491c-c9c5-737e7006a7cd"
      },
      "source": [
        "fcn3.evaluate(X_test, y_test, batch_size= 100)"
      ],
      "execution_count": 9,
      "outputs": [
        {
          "output_type": "stream",
          "name": "stdout",
          "text": [
            "100/100 [==============================] - 0s 3ms/step - loss: 0.0897 - accuracy: 0.9838\n"
          ]
        },
        {
          "output_type": "execute_result",
          "data": {
            "text/plain": [
              "[0.08966414630413055, 0.9837999939918518]"
            ]
          },
          "metadata": {},
          "execution_count": 9
        }
      ]
    },
    {
      "cell_type": "code",
      "metadata": {
        "id": "cfm87VmlM7Pr",
        "colab": {
          "base_uri": "https://localhost:8080/",
          "height": 295
        },
        "outputId": "b76d2fe8-156f-43a2-80d6-da6c2e40bb44"
      },
      "source": [
        "# 훈련 데이터와 검증 데이터에 대한 loss 시각화.\n",
        "epochs = range(1, len(hist.history['loss']) + 1)\n",
        "\n",
        "loss_list = hist.history['loss'] #[100 * i for i in history.history['loss']]\n",
        "vloss_list = hist.history['val_loss'] #[100 * i for i in history.history['val_loss']]\n",
        "\n",
        "plt.plot(epochs,loss_list)  \n",
        "plt.plot(epochs,vloss_list)\n",
        "\n",
        "plt.plot(np.argmin(np.array(vloss_list))+1,vloss_list[np.argmin(np.array(vloss_list))], 'r*')\n",
        "plt.title('mnist: NN(FCN) model - val_loss, min:' + str(np.round(vloss_list[np.argmin(np.array(vloss_list))],2)))\n",
        "plt.ylabel('val-Loss (%)')\n",
        "plt.xlabel('Epoch')\n",
        "plt.legend(['loss','val_loss','best'], loc='best')\n",
        "plt.show()"
      ],
      "execution_count": 10,
      "outputs": [
        {
          "output_type": "display_data",
          "data": {
            "image/png": "[encoded data removed]",
            "text/plain": [
              "<Figure size 432x288 with 1 Axes>"
            ]
          },
          "metadata": {
            "needs_background": "light"
          }
        }
      ]
    },
    {
      "cell_type": "code",
      "metadata": {
        "id": "lH4NQknvNBsE",
        "colab": {
          "base_uri": "https://localhost:8080/",
          "height": 295
        },
        "outputId": "df2f2365-113e-4b9b-da04-fe53a249eb7c"
      },
      "source": [
        "# 훈련 데이터와 검증 데이터에 대한 accuracy 시각화.\n",
        "epochs = range(1, len(hist.history['accuracy']) + 1)\n",
        "\n",
        "acc_list = [100 * i for i in hist.history['accuracy']]\n",
        "vacc_list = [100 * i for i in hist.history['val_accuracy']]\n",
        "\n",
        "plt.plot(epochs,acc_list)  \n",
        "plt.plot(epochs,vacc_list)\n",
        "\n",
        "plt.plot(np.argmax(np.array(vacc_list))+1,vacc_list[np.argmax(np.array(vacc_list))], 'r*')\n",
        "plt.title('mnist: NN(FCN) model - val_accuracy, max:' + str(np.round(vacc_list[np.argmax(np.array(vacc_list))],2)))\n",
        "plt.ylabel('val-Accuracy (%)')\n",
        "plt.xlabel('Epoch')\n",
        "plt.legend(['accuracy','val_accuracy','best'], loc='best')\n",
        "plt.show()"
      ],
      "execution_count": 11,
      "outputs": [
        {
          "output_type": "display_data",
          "data": {
            "image/png": "[encoded data removed]",
            "text/plain": [
              "<Figure size 432x288 with 1 Axes>"
            ]
          },
          "metadata": {
            "needs_background": "light"
          }
        }
      ]
    },
    {
      "cell_type": "markdown",
      "metadata": {
        "id": "gBPKMI4y3fsa"
      },
      "source": [
        "## 모형의 재사용\n",
        "\n",
        "- 트레이닝 중 hdf5 형식으로 best model이 저장됨.\n",
        "- load 명령으로 불러 사용\n",
        "> best model: mnist_fcn3_best_weights.020-0.986.hdf5 \n",
        "\n",
        ">> mnist_fcn3_best_weights.044-0.985.hdf5\n",
        "mnist_fcn3_best_weights.049-0.985.hdf5\n"
      ]
    },
    {
      "cell_type": "code",
      "metadata": {
        "id": "b7-ysIVy3fse",
        "colab": {
          "base_uri": "https://localhost:8080/"
        },
        "outputId": "89147c72-f5ba-4e8b-b37d-1f75f7a494e6"
      },
      "source": [
        "from keras.models import load_model\n",
        "\n",
        "best_model = load_model('mnist_fcn3_best_weights.049-0.985.hdf5')\n",
        "best_model.evaluate(X_test, y_test, batch_size=100)"
      ],
      "execution_count": 16,
      "outputs": [
        {
          "output_type": "stream",
          "name": "stdout",
          "text": [
            "100/100 [==============================] - 0s 3ms/step - loss: 0.0786 - accuracy: 0.9855\n"
          ]
        },
        {
          "output_type": "execute_result",
          "data": {
            "text/plain": [
              "[0.07858087122440338, 0.9854999780654907]"
            ]
          },
          "metadata": {},
          "execution_count": 16
        }
      ]
    },
    {
      "cell_type": "markdown",
      "metadata": {
        "id": "o6YQKW13EBhB"
      },
      "source": [
        "---"
      ]
    },
    {
      "cell_type": "markdown",
      "metadata": {
        "id": "mHPhgk3FmmPB"
      },
      "source": [
        "## Visualization of the best model\n",
        "---\n",
        "![mnist_fcn_best](https://raw.githubusercontent.com/Redwoods/Py/master/pdm2020/my-note/py-streamlit-21/app/mnist_fcn.png)"
      ]
    },
    {
      "cell_type": "code",
      "metadata": {
        "id": "-uYuq66xmsrG"
      },
      "source": [
        "\n",
        "def plot_pred(i, pred_y, true_y, img):\n",
        "    \n",
        "    plt.grid(False)\n",
        "    plt.title(class_names[np.argmax(true_y)])\n",
        "    plt.xticks([])\n",
        "    plt.yticks([])\n",
        "\n",
        "    plt.imshow(img)\n",
        "\n",
        "    predicted_label = np.argmax(pred_y)\n",
        "    if predicted_label == np.argmax(true_y):   # np.argmax(true_label)\n",
        "        plt.suptitle(\"Test image-%d: Classified correctly\" % i)\n",
        "    else:\n",
        "        plt.suptitle(\"Test image-%d: Wrong classification\" % i)\n",
        "\n",
        "\n",
        "def plot_bar(pred_y, true_y):\n",
        "    \n",
        "    plt.grid(False)\n",
        "    plt.yticks([])\n",
        "    plt.xticks(np.arange(10), class_names, rotation=0)\n",
        "\n",
        "    thisplot = plt.bar(range(10), pred_y, color='grey')\n",
        "    plt.ylim([0, 1])\n",
        "    predicted_label = np.argmax(pred_y)\n",
        "\n",
        "    if predicted_label == np.argmax(true_y):  \n",
        "        color = 'green'\n",
        "    else:\n",
        "        color = 'red'\n",
        "\n",
        "    thisplot[predicted_label].set_color(color)"
      ],
      "execution_count": 17,
      "outputs": []
    },
    {
      "cell_type": "code",
      "metadata": {
        "id": "j-ebekW5qNAe",
        "colab": {
          "base_uri": "https://localhost:8080/"
        },
        "outputId": "05956e25-9d1f-43e5-e190-85cab69fb610"
      },
      "source": [
        "X_test.shape,y_test.shape"
      ],
      "execution_count": 18,
      "outputs": [
        {
          "output_type": "execute_result",
          "data": {
            "text/plain": [
              "((10000, 28, 28), (10000, 10))"
            ]
          },
          "metadata": {},
          "execution_count": 18
        }
      ]
    },
    {
      "cell_type": "code",
      "metadata": {
        "id": "vdavbni-nWyB",
        "colab": {
          "base_uri": "https://localhost:8080/"
        },
        "outputId": "29412cc2-2fbd-4dd5-d6df-a2ffe3c1a8c9"
      },
      "source": [
        "num = np.random.randint(0, len(y_test))\n",
        "y_pred0 = best_model.predict(X_test[num:num+1], verbose=1)"
      ],
      "execution_count": 19,
      "outputs": [
        {
          "output_type": "stream",
          "name": "stdout",
          "text": [
            "1/1 [==============================] - 0s 119ms/step\n"
          ]
        }
      ]
    },
    {
      "cell_type": "code",
      "metadata": {
        "id": "cFLEuELxqXDg",
        "colab": {
          "base_uri": "https://localhost:8080/"
        },
        "outputId": "fb97f3de-28ce-4e6b-d88e-9afe673935e5"
      },
      "source": [
        "y_pred0"
      ],
      "execution_count": 20,
      "outputs": [
        {
          "output_type": "execute_result",
          "data": {
            "text/plain": [
              "array([[1.4086367e-27, 8.7278442e-24, 1.0000000e+00, 1.1039504e-17,\n",
              "        3.4993527e-24, 4.3301332e-24, 8.4532031e-28, 5.5710283e-21,\n",
              "        1.4692142e-22, 1.7134113e-23]], dtype=float32)"
            ]
          },
          "metadata": {},
          "execution_count": 20
        }
      ]
    },
    {
      "cell_type": "code",
      "metadata": {
        "id": "0FXr4jTzrAH3",
        "colab": {
          "base_uri": "https://localhost:8080/"
        },
        "outputId": "a736f416-4fe0-4ded-e5e8-82ec3f090986"
      },
      "source": [
        "y_test0=y_test[num:num+1]\n",
        "y_test0"
      ],
      "execution_count": 21,
      "outputs": [
        {
          "output_type": "execute_result",
          "data": {
            "text/plain": [
              "array([[0., 0., 1., 0., 0., 0., 0., 0., 0., 0.]], dtype=float32)"
            ]
          },
          "metadata": {},
          "execution_count": 21
        }
      ]
    },
    {
      "cell_type": "code",
      "metadata": {
        "id": "QYC5cGWcrumm"
      },
      "source": [
        "X_test0 = X_test[num]"
      ],
      "execution_count": 22,
      "outputs": []
    },
    {
      "cell_type": "code",
      "metadata": {
        "id": "fstDlYF9rTxI"
      },
      "source": [
        "class_names = [\"0\",\"1\",\"2\",\"3\",\"4\",\"5\",\"6\",\"7\",\"8\",\"9\"]"
      ],
      "execution_count": 23,
      "outputs": []
    },
    {
      "cell_type": "code",
      "metadata": {
        "id": "AB2zf02bndrm",
        "colab": {
          "base_uri": "https://localhost:8080/",
          "height": 540
        },
        "outputId": "6f4663d2-9774-4a1d-817f-f2890fab9dd0"
      },
      "source": [
        "plt.figure(figsize=(10,8))\n",
        "plt.subplot(2,1,1)\n",
        "plot_pred(num, y_pred0[0], y_test0[0], X_test0)\n",
        "plt.subplot(2,1,2)\n",
        "plot_bar(y_pred0[0],  y_test0[0])\n",
        "plt.title(\"Green: True, Red: False\")\n",
        "plt.show()"
      ],
      "execution_count": 24,
      "outputs": [
        {
          "output_type": "display_data",
          "data": {
            "image/png": "[encoded data removed]",
            "text/plain": [
              "<Figure size 720x576 with 2 Axes>"
            ]
          },
          "metadata": {
            "needs_background": "light"
          }
        }
      ]
    },
    {
      "cell_type": "markdown",
      "metadata": {
        "id": "qlnZWcmyv56p"
      },
      "source": [
        "---"
      ]
    },
    {
      "cell_type": "code",
      "metadata": {
        "id": "uwcUIZX_v8YL",
        "colab": {
          "base_uri": "https://localhost:8080/",
          "height": 558
        },
        "outputId": "b9869013-f52f-42cd-a65f-dc9323a0bbd6"
      },
      "source": [
        "# Random test\n",
        "num = np.random.randint(0, len(y_test))\n",
        "y_pred0 = best_model.predict(X_test[num:num+1], verbose=1)\n",
        "y_test0=y_test[num:num+1]\n",
        "X_test0 = X_test[num]\n",
        "\n",
        "class_names = [\"0\",\"1\",\"2\",\"3\",\"4\",\"5\",\"6\",\"7\",\"8\",\"9\"]\n",
        "\n",
        "plt.figure(figsize=(10,8))\n",
        "plt.subplot(2,1,1)\n",
        "plot_pred(num, y_pred0[0], y_test0[0], X_test0)\n",
        "plt.subplot(2,1,2)\n",
        "plot_bar(y_pred0[0],  y_test0[0])\n",
        "plt.title(\"Green: True, Red: False\")\n",
        "plt.show()"
      ],
      "execution_count": 44,
      "outputs": [
        {
          "output_type": "stream",
          "name": "stdout",
          "text": [
            "1/1 [==============================] - 0s 21ms/step\n"
          ]
        },
        {
          "output_type": "display_data",
          "data": {
            "image/png": "[encoded data removed]",
            "text/plain": [
              "<Figure size 720x576 with 2 Axes>"
            ]
          },
          "metadata": {
            "needs_background": "light"
          }
        }
      ]
    }
  ]
}