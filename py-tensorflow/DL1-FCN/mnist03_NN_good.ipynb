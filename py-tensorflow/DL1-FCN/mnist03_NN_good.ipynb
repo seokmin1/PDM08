{
  "nbformat": 4,
  "nbformat_minor": 0,
  "metadata": {
    "colab": {
      "name": "mnist03_NN_good.ipynb",
      "provenance": [],
      "collapsed_sections": [],
      "include_colab_link": true
    },
    "kernelspec": {
      "name": "python3",
      "display_name": "Python 3"
    },
    "accelerator": "GPU"
  },
  "cells": [
    {
      "cell_type": "markdown",
      "metadata": {
        "id": "view-in-github",
        "colab_type": "text"
      },
      "source": [
        "<a href=\"https://colab.research.google.com/github/seokmin1/PDM08/blob/main/py-tensorflow/DL1-FCN/mnist03_NN_good.ipynb\" target=\"_parent\"><img src=\"https://colab.research.google.com/assets/colab-badge.svg\" alt=\"Open In Colab\"/></a>"
      ]
    },
    {
      "cell_type": "markdown",
      "metadata": {
        "id": "gq81W1V3PkOY"
      },
      "source": [
        "## Keras example: mnist analysisby simple NN (Neural network)\n",
        "\n",
        "- Keras was designed to easily use the famous deep-learning frameworks; tensorflow, tenano. \n",
        "- Keras provides an easy and convenient way to build deep learning models.\n",
        "\n",
        "    - Keras is an open source python library that enables you to easily build Deep Neural Networks. \n",
        "    - This library is implemented in TensorFlow 2.0.\n",
        "    - Tensorflow and Pytorch are the most used numerical platforms in Python to build Deep Learning algorithms.\n"
      ]
    },
    {
      "cell_type": "code",
      "metadata": {
        "id": "8GgGzPXPVyfa",
        "colab": {
          "base_uri": "https://localhost:8080/"
        },
        "outputId": "f5cdf4c4-26be-4164-a923-c482f9186c55"
      },
      "source": [
        "import numpy as np\n",
        "import tensorflow as tf\n",
        "from tensorflow import keras\n",
        "import pandas as pd\n",
        "import matplotlib.pyplot as plt\n",
        "# %matplotlib inline\n",
        "\n",
        "print(tf.__version__)"
      ],
      "execution_count": 12,
      "outputs": [
        {
          "output_type": "stream",
          "name": "stdout",
          "text": [
            "2.7.0\n"
          ]
        }
      ]
    },
    {
      "cell_type": "code",
      "metadata": {
        "id": "BDbYHPtT3fqH",
        "colab": {
          "base_uri": "https://localhost:8080/"
        },
        "outputId": "4f72103b-83b6-44fb-ae77-76782628b7ff"
      },
      "source": [
        "%%time\n",
        "from keras.datasets import mnist\n",
        "(X_train0, y_train0), (X_test0, y_test0) = mnist.load_data()"
      ],
      "execution_count": 2,
      "outputs": [
        {
          "output_type": "stream",
          "name": "stdout",
          "text": [
            "Downloading data from https://storage.googleapis.com/tensorflow/tf-keras-datasets/mnist.npz\n",
            "11493376/11490434 [==============================] - 0s 0us/step\n",
            "11501568/11490434 [==============================] - 0s 0us/step\n",
            "CPU times: user 378 ms, sys: 91.5 ms, total: 469 ms\n",
            "Wall time: 559 ms\n"
          ]
        }
      ]
    },
    {
      "cell_type": "code",
      "metadata": {
        "id": "Z12GoOpw3fqW",
        "colab": {
          "base_uri": "https://localhost:8080/"
        },
        "outputId": "3b4257c5-730c-4648-dcd4-948cfab3339e"
      },
      "source": [
        "print(X_train0.shape, X_train0.dtype)\n",
        "print(y_train0.shape, y_train0.dtype)\n",
        "print(X_test0.shape, X_test0.dtype)\n",
        "print(y_test0.shape, y_test0.dtype)"
      ],
      "execution_count": 3,
      "outputs": [
        {
          "output_type": "stream",
          "name": "stdout",
          "text": [
            "(60000, 28, 28) uint8\n",
            "(60000,) uint8\n",
            "(10000, 28, 28) uint8\n",
            "(10000,) uint8\n"
          ]
        }
      ]
    },
    {
      "cell_type": "code",
      "metadata": {
        "id": "_NuYHtvPPWNE",
        "colab": {
          "base_uri": "https://localhost:8080/",
          "height": 286
        },
        "outputId": "f8514ed6-1146-4b66-a564-de8d50260894"
      },
      "source": [
        "# display one random image from the training set:\n",
        "class_names = [\"0\",\"1\",\"2\",\"3\",\"4\",\"5\",\"6\",\"7\",\"8\",\"9\"]\n",
        "\n",
        "idx = np.random.randint(0, X_train0.shape[0])\n",
        "print(idx)\n",
        "image = X_train0[idx]\n",
        "plt.imshow(image) #, cmap=plt.get_cmap('gray'))\n",
        "plt.title(class_names[y_train0[idx]])\n",
        "plt.xticks([])\n",
        "plt.yticks([])\n",
        "plt.show()"
      ],
      "execution_count": 4,
      "outputs": [
        {
          "output_type": "stream",
          "name": "stdout",
          "text": [
            "55084\n"
          ]
        },
        {
          "output_type": "display_data",
          "data": {
            "image/png": "[encoded data removed]",
            "text/plain": [
              "<Figure size 432x288 with 1 Axes>"
            ]
          },
          "metadata": {}
        }
      ]
    },
    {
      "cell_type": "markdown",
      "metadata": {
        "id": "b_DqSJl3PWNH"
      },
      "source": [
        "### Show images of numbers"
      ]
    },
    {
      "cell_type": "code",
      "metadata": {
        "id": "C1JAXeMzPWNI",
        "colab": {
          "base_uri": "https://localhost:8080/",
          "height": 501
        },
        "outputId": "c6ca99bb-efa4-417a-e7e9-9b9ce17cd8ff"
      },
      "source": [
        "fig = plt.figure(figsize=(10,6))\n",
        "for i in range(10):\n",
        "    plt.subplot(2, 5, i+1)\n",
        "    num0_9 = X_train0[y_train0 == i]\n",
        "    print(num0_9.shape)\n",
        "    plt.imshow(num0_9[0]) #, cmap='gray') #, interpolation='none')\n",
        "    plt.title(\"Class %d\" % (i))\n",
        "    plt.xticks([])\n",
        "    plt.yticks([])\n"
      ],
      "execution_count": 5,
      "outputs": [
        {
          "output_type": "stream",
          "name": "stdout",
          "text": [
            "(5923, 28, 28)\n",
            "(6742, 28, 28)\n",
            "(5958, 28, 28)\n",
            "(6131, 28, 28)\n",
            "(5842, 28, 28)\n",
            "(5421, 28, 28)\n",
            "(5918, 28, 28)\n",
            "(6265, 28, 28)\n",
            "(5851, 28, 28)\n",
            "(5949, 28, 28)\n"
          ]
        },
        {
          "output_type": "display_data",
          "data": {
            "image/png": "[encoded data removed]",
            "text/plain": [
              "<Figure size 720x432 with 10 Axes>"
            ]
          },
          "metadata": {}
        }
      ]
    },
    {
      "cell_type": "markdown",
      "metadata": {
        "id": "7bxCq_2fPWNO"
      },
      "source": [
        "### 데이터를 float 타입으로 바꾸고 스케일링한다.\n",
        "- 2차원 영상을 1차원 벡터로 변환\n",
        "- (28,28) => (784,)\n",
        "- Scaling: (0 ~ 255)/255.0"
      ]
    },
    {
      "cell_type": "code",
      "metadata": {
        "id": "W-VqQgXvPWNP",
        "colab": {
          "base_uri": "https://localhost:8080/"
        },
        "outputId": "3e5d40ff-66cd-40fe-d4c6-7c938ab6afea"
      },
      "source": [
        "X_train = X_train0.reshape(60000, 784).astype('float32') / 255.0\n",
        "X_test = X_test0.reshape(10000, 784).astype('float32') / 255.0\n",
        "print(X_train.shape, X_train.dtype)\n",
        "print(X_test.shape, X_test.dtype)"
      ],
      "execution_count": 6,
      "outputs": [
        {
          "output_type": "stream",
          "name": "stdout",
          "text": [
            "(60000, 784) float32\n",
            "(10000, 784) float32\n"
          ]
        }
      ]
    },
    {
      "cell_type": "code",
      "metadata": {
        "id": "DQun3xjytOba",
        "colab": {
          "base_uri": "https://localhost:8080/"
        },
        "outputId": "814ff6c4-dbeb-4f37-f1f6-e55c62d9752a"
      },
      "source": [
        "print(X_train0.shape, X_train.shape)"
      ],
      "execution_count": 7,
      "outputs": [
        {
          "output_type": "stream",
          "name": "stdout",
          "text": [
            "(60000, 28, 28) (60000, 784)\n"
          ]
        }
      ]
    },
    {
      "cell_type": "markdown",
      "metadata": {
        "id": "RC7TUw7YPWNS"
      },
      "source": [
        "### y 데이터는 One-Hot-Encoding 을 한다."
      ]
    },
    {
      "cell_type": "code",
      "metadata": {
        "id": "SNVNKtOWPWNT",
        "colab": {
          "base_uri": "https://localhost:8080/"
        },
        "outputId": "e39222b5-216d-4698-81e7-249107d1aeb0"
      },
      "source": [
        "y_train0[:5]"
      ],
      "execution_count": 8,
      "outputs": [
        {
          "output_type": "execute_result",
          "data": {
            "text/plain": [
              "array([5, 0, 4, 1, 9], dtype=uint8)"
            ]
          },
          "metadata": {},
          "execution_count": 8
        }
      ]
    },
    {
      "cell_type": "code",
      "metadata": {
        "id": "jVlBVEPGPWNW",
        "colab": {
          "base_uri": "https://localhost:8080/"
        },
        "outputId": "8aa2c671-cd15-42cf-a0e4-258cc9d45881"
      },
      "source": [
        "# Use function to_categorical() to do One-Hot-Encoding\n",
        "# tf.keras.utils.to_categorical\n",
        "from tensorflow.keras.utils import to_categorical\n",
        "\n",
        "y_train = to_categorical(y_train0, 10)\n",
        "y_test = to_categorical(y_test0, 10)\n",
        "y_train[:5]"
      ],
      "execution_count": 9,
      "outputs": [
        {
          "output_type": "execute_result",
          "data": {
            "text/plain": [
              "array([[0., 0., 0., 0., 0., 1., 0., 0., 0., 0.],\n",
              "       [1., 0., 0., 0., 0., 0., 0., 0., 0., 0.],\n",
              "       [0., 0., 0., 0., 1., 0., 0., 0., 0., 0.],\n",
              "       [0., 1., 0., 0., 0., 0., 0., 0., 0., 0.],\n",
              "       [0., 0., 0., 0., 0., 0., 0., 0., 0., 1.]], dtype=float32)"
            ]
          },
          "metadata": {},
          "execution_count": 9
        }
      ]
    },
    {
      "cell_type": "markdown",
      "metadata": {
        "id": "EWSIzXy8PWNe"
      },
      "source": [
        "> One-Hot-Encoding을 하는 이유\n",
        "- 머신러닝의 목표가 특정 숫자 그림의 숫자를 정확하게 맞추는 것이 아니다.\n",
        "    1. 일단, 0에서 9까지의 숫자로 판단될 10개의 확률을 계산한다.\n",
        "    2. 그리고 특정 숫자로 판단될 확률이 제일 큰 수로 결정한다.\n",
        "- 3개 이상의 클래스를 구분하는 지도학습의 경우 One-Hot-Encoding은 필요한 과정이다."
      ]
    },
    {
      "cell_type": "markdown",
      "metadata": {
        "id": "1ss3oajj6hlB"
      },
      "source": [
        "\n",
        "\n",
        "---\n",
        "\n",
        "\n",
        "\n",
        "---\n",
        "\n"
      ]
    },
    {
      "cell_type": "markdown",
      "metadata": {
        "id": "uxDb3nEL3frI"
      },
      "source": [
        "# 신경망 (Neural network)\n",
        "> 구현 방법\n",
        "> - Sequential model\n",
        "> - Functional model\n",
        "> - Subclassing model\n",
        "\n",
        "## 신경망 구현 순서\n",
        "\n",
        "### Keras 를 사용하면 다음과 같은 순서로 신경망을 구성할 수 있다.\n",
        "\n",
        "1. **모형 객체 생성**, Sequential 모형 클래스 객체 생성\n",
        "2. **신경망 구성**, layer 추가하여 구성\n",
        "    - Dense layer 가 가장 일반적인 신경망\n",
        "    - 입력단부터 순차적으로 추가한다.\n",
        "    - 레이어는 출력 뉴런 갯수를 첫번째 인수로 받는다.\n",
        "    - 최초의 레이어는 input_shape 인수로 입력 크기를 설정해야 한다.\n",
        "    - activation 인수로 activation 함수 설정\n",
        "3. **compile** 메서드로 모형 완성.\n",
        "    - loss 인수로 Loss 함수 설정\n",
        "    - optimizer 인수로 최적화 알고리즘 설정\n",
        "    - metrics 인수로 트레이닝 단계에서 기록할 성능 기준 설정\n",
        "4. **fit** 메서드로 트레이닝\n",
        "    - epochs로 트레이닝 횟수 설정\n",
        "    - batch_size 로 mini batch size 설정\n",
        "    - metrics 인수로 설정한 성능 기준 기록을 출력으로 반환\n",
        "\n"
      ]
    },
    {
      "cell_type": "code",
      "metadata": {
        "id": "jhpH9wM23frJ"
      },
      "source": [
        "from keras.models import Sequential\n",
        "from keras.layers import Dense, Dropout"
      ],
      "execution_count": 10,
      "outputs": []
    },
    {
      "cell_type": "markdown",
      "metadata": {
        "id": "g1a9ee5bZvYa"
      },
      "source": [
        "## Starting model\n",
        "> 784개의 입력을 받는 하나의 hidden layer(16 neurons)와 출력레이어(10 neurons)로 구성된 단순한 신경망."
      ]
    },
    {
      "cell_type": "code",
      "metadata": {
        "id": "GfgcaZSL3frM"
      },
      "source": [
        "# Configure model\n",
        "np.random.seed(0)\n",
        "\n",
        "model = Sequential()\n",
        "model.add(Dense(16, input_dim=784, activation=\"sigmoid\"))  # first layer\n",
        "model.add(Dense(10, activation=\"softmax\")) # output layer"
      ],
      "execution_count": 11,
      "outputs": []
    },
    {
      "cell_type": "markdown",
      "metadata": {
        "id": "QI43K5ncKIsw"
      },
      "source": [
        "![mnist_NN_2_layers](https://raw.githubusercontent.com/Redwoods/Py/master/pdm2020/my-note/py-tensorflow/images/mnist_NN_2_layers.png)\n"
      ]
    },
    {
      "cell_type": "markdown",
      "metadata": {
        "id": "xL5MibkLECtt"
      },
      "source": [
        "### Model 정보 및 출력\n",
        "- summary()\n",
        "- plot_model()"
      ]
    },
    {
      "cell_type": "code",
      "metadata": {
        "id": "OEpkLD2pDn_l",
        "colab": {
          "base_uri": "https://localhost:8080/"
        },
        "outputId": "f456b664-1888-4693-ab59-22fd36e27ff3"
      },
      "source": [
        "# Summary of the model\n",
        "model.summary()"
      ],
      "execution_count": 13,
      "outputs": [
        {
          "output_type": "stream",
          "name": "stdout",
          "text": [
            "Model: \"sequential\"\n",
            "_________________________________________________________________\n",
            " Layer (type)                Output Shape              Param #   \n",
            "=================================================================\n",
            " dense (Dense)               (None, 16)                12560     \n",
            "                                                                 \n",
            " dense_1 (Dense)             (None, 10)                170       \n",
            "                                                                 \n",
            "=================================================================\n",
            "Total params: 12,730\n",
            "Trainable params: 12,730\n",
            "Non-trainable params: 0\n",
            "_________________________________________________________________\n"
          ]
        }
      ]
    },
    {
      "cell_type": "code",
      "metadata": {
        "id": "X3dW6WW0Edzq",
        "colab": {
          "base_uri": "https://localhost:8080/"
        },
        "outputId": "b9bdc1e5-c88e-4326-8a54-66c1d95b52b8"
      },
      "source": [
        "# check parameters\n",
        "28*28*16+16, 16*10+10"
      ],
      "execution_count": 14,
      "outputs": [
        {
          "output_type": "execute_result",
          "data": {
            "text/plain": [
              "(12560, 170)"
            ]
          },
          "metadata": {},
          "execution_count": 14
        }
      ]
    },
    {
      "cell_type": "code",
      "metadata": {
        "id": "xqGrDLam3fro",
        "colab": {
          "base_uri": "https://localhost:8080/",
          "height": 272
        },
        "outputId": "a92430c1-11d8-4cd8-8177-dbd215511139"
      },
      "source": [
        "from tensorflow.keras.utils import plot_model\n",
        "plot_model(model, to_file='model.png')"
      ],
      "execution_count": 15,
      "outputs": [
        {
          "output_type": "execute_result",
          "data": {
            "image/png": "[encoded data removed]",
            "text/plain": [
              "<IPython.core.display.Image object>"
            ]
          },
          "metadata": {},
          "execution_count": 15
        }
      ]
    },
    {
      "cell_type": "markdown",
      "metadata": {
        "id": "GDPqfKFkE5Nf"
      },
      "source": [
        "### 모델의 구조 살펴 보기"
      ]
    },
    {
      "cell_type": "code",
      "metadata": {
        "id": "dQblMjW-MN7r",
        "colab": {
          "base_uri": "https://localhost:8080/"
        },
        "outputId": "d4591bbe-908a-46a4-8a78-5c2542ba79a6"
      },
      "source": [
        "model"
      ],
      "execution_count": 16,
      "outputs": [
        {
          "output_type": "execute_result",
          "data": {
            "text/plain": [
              "<keras.engine.sequential.Sequential at 0x7f7e851bc750>"
            ]
          },
          "metadata": {},
          "execution_count": 16
        }
      ]
    },
    {
      "cell_type": "code",
      "metadata": {
        "id": "jM_MK74BNHYU",
        "colab": {
          "base_uri": "https://localhost:8080/"
        },
        "outputId": "b9e8947d-0059-4f67-dbc8-fa15775fcb0a"
      },
      "source": [
        "model.get_config()"
      ],
      "execution_count": 17,
      "outputs": [
        {
          "output_type": "execute_result",
          "data": {
            "text/plain": [
              "{'layers': [{'class_name': 'InputLayer',\n",
              "   'config': {'batch_input_shape': (None, 784),\n",
              "    'dtype': 'float32',\n",
              "    'name': 'dense_input',\n",
              "    'ragged': False,\n",
              "    'sparse': False}},\n",
              "  {'class_name': 'Dense',\n",
              "   'config': {'activation': 'sigmoid',\n",
              "    'activity_regularizer': None,\n",
              "    'batch_input_shape': (None, 784),\n",
              "    'bias_constraint': None,\n",
              "    'bias_initializer': {'class_name': 'Zeros', 'config': {}},\n",
              "    'bias_regularizer': None,\n",
              "    'dtype': 'float32',\n",
              "    'kernel_constraint': None,\n",
              "    'kernel_initializer': {'class_name': 'GlorotUniform',\n",
              "     'config': {'seed': None}},\n",
              "    'kernel_regularizer': None,\n",
              "    'name': 'dense',\n",
              "    'trainable': True,\n",
              "    'units': 16,\n",
              "    'use_bias': True}},\n",
              "  {'class_name': 'Dense',\n",
              "   'config': {'activation': 'softmax',\n",
              "    'activity_regularizer': None,\n",
              "    'bias_constraint': None,\n",
              "    'bias_initializer': {'class_name': 'Zeros', 'config': {}},\n",
              "    'bias_regularizer': None,\n",
              "    'dtype': 'float32',\n",
              "    'kernel_constraint': None,\n",
              "    'kernel_initializer': {'class_name': 'GlorotUniform',\n",
              "     'config': {'seed': None}},\n",
              "    'kernel_regularizer': None,\n",
              "    'name': 'dense_1',\n",
              "    'trainable': True,\n",
              "    'units': 10,\n",
              "    'use_bias': True}}],\n",
              " 'name': 'sequential'}"
            ]
          },
          "metadata": {},
          "execution_count": 17
        }
      ]
    },
    {
      "cell_type": "code",
      "metadata": {
        "id": "HKb0O8bz3frv"
      },
      "source": [
        "l1 = model.layers[0]\n",
        "l2 = model.layers[1]"
      ],
      "execution_count": 18,
      "outputs": []
    },
    {
      "cell_type": "code",
      "metadata": {
        "id": "WlN4UR333frx",
        "colab": {
          "base_uri": "https://localhost:8080/"
        },
        "outputId": "402cd777-b920-42e1-8402-b1b245449330"
      },
      "source": [
        "l1.name, type(l1), l1.output_shape, l1.activation.__name__, l1.count_params()"
      ],
      "execution_count": 19,
      "outputs": [
        {
          "output_type": "execute_result",
          "data": {
            "text/plain": [
              "('dense', keras.layers.core.dense.Dense, (None, 16), 'sigmoid', 12560)"
            ]
          },
          "metadata": {},
          "execution_count": 19
        }
      ]
    },
    {
      "cell_type": "code",
      "metadata": {
        "id": "2CsdAPqOWhgr",
        "colab": {
          "base_uri": "https://localhost:8080/"
        },
        "outputId": "c4614bbf-b773-4018-95d9-3b3547269ea6"
      },
      "source": [
        "# number of parameters\n",
        "784*16 + 16"
      ],
      "execution_count": 20,
      "outputs": [
        {
          "output_type": "execute_result",
          "data": {
            "text/plain": [
              "12560"
            ]
          },
          "metadata": {},
          "execution_count": 20
        }
      ]
    },
    {
      "cell_type": "code",
      "metadata": {
        "id": "StH9J4ID3fr0",
        "colab": {
          "base_uri": "https://localhost:8080/"
        },
        "outputId": "016f6a0f-a182-4913-aa0b-9af5767c50cb"
      },
      "source": [
        "l2.name, type(l1), l2.output_shape, l2.activation.__name__, l2.count_params()"
      ],
      "execution_count": 21,
      "outputs": [
        {
          "output_type": "execute_result",
          "data": {
            "text/plain": [
              "('dense_1', keras.layers.core.dense.Dense, (None, 10), 'softmax', 170)"
            ]
          },
          "metadata": {},
          "execution_count": 21
        }
      ]
    },
    {
      "cell_type": "code",
      "metadata": {
        "id": "_S7z0r6nWmRP",
        "colab": {
          "base_uri": "https://localhost:8080/"
        },
        "outputId": "ea3757c5-cd7b-463b-a4ca-443ecf939b4b"
      },
      "source": [
        "# number of parameters\n",
        "16*10 + 10  "
      ],
      "execution_count": 22,
      "outputs": [
        {
          "output_type": "execute_result",
          "data": {
            "text/plain": [
              "170"
            ]
          },
          "metadata": {},
          "execution_count": 22
        }
      ]
    },
    {
      "cell_type": "markdown",
      "metadata": {
        "id": "PfrTI1pL3fr3"
      },
      "source": [
        "## fit 메서드로 트레이닝\n",
        "\n",
        "- [optimizers](https://wiserloner.tistory.com/1032)\n",
        "- [GD, SGD](https://seamless.tistory.com/38)"
      ]
    },
    {
      "cell_type": "code",
      "metadata": {
        "id": "WPFBcg5_3fr4"
      },
      "source": [
        "# Select an optimizer\n",
        "# model.compile(optimizer='sgd', loss='categorical_crossentropy', metrics=['accuracy'])\n",
        "# model.compile(optimizer='rmsprop', loss='categorical_crossentropy', metrics=['accuracy'])\n",
        "model.compile(optimizer='adam', loss='categorical_crossentropy', metrics=['accuracy'])"
      ],
      "execution_count": 23,
      "outputs": []
    },
    {
      "cell_type": "code",
      "metadata": {
        "id": "YbTI5EF23fr8",
        "colab": {
          "base_uri": "https://localhost:8080/"
        },
        "outputId": "d020882e-224b-44c5-a1ae-6b824a05fd67"
      },
      "source": [
        "%%time\n",
        "hist = model.fit(X_train, y_train, \n",
        "                 epochs=20, batch_size=100, \n",
        "                 validation_data=(X_test, y_test), \n",
        "                 verbose=1)\n",
        "\n",
        "\n",
        "# batch_size: 100 -> 60,000개의 트레이닝 데이터를 100개씩 600묶음으로 나눈 후, \n",
        "# 각 묶음에 대하어 forward, back propagation을 실시하면서 파라미터를 조정한다.\n",
        "# epochs: 전체 600개의 batch에 대하여 다 계산을 수행하면 epoch 1 종료.\n",
        "# validation_data: 테스트 데이터를 섞어서 검증한다."
      ],
      "execution_count": 24,
      "outputs": [
        {
          "output_type": "stream",
          "name": "stdout",
          "text": [
            "Epoch 1/20\n",
            "600/600 [==============================] - 5s 4ms/step - loss: 1.1962 - accuracy: 0.7733 - val_loss: 0.6590 - val_accuracy: 0.8749\n",
            "Epoch 2/20\n",
            "600/600 [==============================] - 2s 4ms/step - loss: 0.5268 - accuracy: 0.8850 - val_loss: 0.4258 - val_accuracy: 0.8982\n",
            "Epoch 3/20\n",
            "600/600 [==============================] - 2s 4ms/step - loss: 0.3875 - accuracy: 0.9022 - val_loss: 0.3460 - val_accuracy: 0.9099\n",
            "Epoch 4/20\n",
            "600/600 [==============================] - 2s 4ms/step - loss: 0.3287 - accuracy: 0.9124 - val_loss: 0.3061 - val_accuracy: 0.9157\n",
            "Epoch 5/20\n",
            "600/600 [==============================] - 2s 4ms/step - loss: 0.2938 - accuracy: 0.9197 - val_loss: 0.2785 - val_accuracy: 0.9234\n",
            "Epoch 6/20\n",
            "600/600 [==============================] - 2s 4ms/step - loss: 0.2692 - accuracy: 0.9252 - val_loss: 0.2599 - val_accuracy: 0.9271\n",
            "Epoch 7/20\n",
            "600/600 [==============================] - 2s 4ms/step - loss: 0.2508 - accuracy: 0.9299 - val_loss: 0.2454 - val_accuracy: 0.9306\n",
            "Epoch 8/20\n",
            "600/600 [==============================] - 2s 4ms/step - loss: 0.2365 - accuracy: 0.9336 - val_loss: 0.2350 - val_accuracy: 0.9325\n",
            "Epoch 9/20\n",
            "600/600 [==============================] - 2s 4ms/step - loss: 0.2244 - accuracy: 0.9362 - val_loss: 0.2254 - val_accuracy: 0.9344\n",
            "Epoch 10/20\n",
            "600/600 [==============================] - 2s 4ms/step - loss: 0.2146 - accuracy: 0.9389 - val_loss: 0.2173 - val_accuracy: 0.9378\n",
            "Epoch 11/20\n",
            "600/600 [==============================] - 2s 4ms/step - loss: 0.2059 - accuracy: 0.9414 - val_loss: 0.2087 - val_accuracy: 0.9380\n",
            "Epoch 12/20\n",
            "600/600 [==============================] - 2s 4ms/step - loss: 0.1982 - accuracy: 0.9433 - val_loss: 0.2034 - val_accuracy: 0.9393\n",
            "Epoch 13/20\n",
            "600/600 [==============================] - 2s 4ms/step - loss: 0.1913 - accuracy: 0.9452 - val_loss: 0.1984 - val_accuracy: 0.9399\n",
            "Epoch 14/20\n",
            "600/600 [==============================] - 2s 4ms/step - loss: 0.1853 - accuracy: 0.9462 - val_loss: 0.1938 - val_accuracy: 0.9414\n",
            "Epoch 15/20\n",
            "600/600 [==============================] - 2s 4ms/step - loss: 0.1796 - accuracy: 0.9479 - val_loss: 0.1913 - val_accuracy: 0.9417\n",
            "Epoch 16/20\n",
            "600/600 [==============================] - 2s 4ms/step - loss: 0.1745 - accuracy: 0.9490 - val_loss: 0.1881 - val_accuracy: 0.9433\n",
            "Epoch 17/20\n",
            "600/600 [==============================] - 2s 4ms/step - loss: 0.1698 - accuracy: 0.9505 - val_loss: 0.1860 - val_accuracy: 0.9434\n",
            "Epoch 18/20\n",
            "600/600 [==============================] - 2s 4ms/step - loss: 0.1659 - accuracy: 0.9520 - val_loss: 0.1820 - val_accuracy: 0.9460\n",
            "Epoch 19/20\n",
            "600/600 [==============================] - 2s 4ms/step - loss: 0.1620 - accuracy: 0.9525 - val_loss: 0.1803 - val_accuracy: 0.9463\n",
            "Epoch 20/20\n",
            "600/600 [==============================] - 2s 4ms/step - loss: 0.1586 - accuracy: 0.9535 - val_loss: 0.1794 - val_accuracy: 0.9472\n",
            "CPU times: user 49.8 s, sys: 8.04 s, total: 57.8 s\n",
            "Wall time: 49.5 s\n"
          ]
        }
      ]
    },
    {
      "cell_type": "markdown",
      "metadata": {
        "id": "7gvjGBmYYFI3"
      },
      "source": [
        "### Plot of performance and accuracy (모델 성능 및 정확도)"
      ]
    },
    {
      "cell_type": "code",
      "metadata": {
        "id": "FPeQByvA3fr_",
        "colab": {
          "base_uri": "https://localhost:8080/",
          "height": 265
        },
        "outputId": "37c5e46d-1c1e-4431-9c5b-4dfa919810f8"
      },
      "source": [
        "# Plot performance\n",
        "plt.plot(hist.history['loss'])\n",
        "plt.show()"
      ],
      "execution_count": 25,
      "outputs": [
        {
          "output_type": "display_data",
          "data": {
            "image/png": "[encoded data removed]",
            "text/plain": [
              "<Figure size 432x288 with 1 Axes>"
            ]
          },
          "metadata": {
            "needs_background": "light"
          }
        }
      ]
    },
    {
      "cell_type": "code",
      "metadata": {
        "id": "m5ForJ5k3fsD",
        "colab": {
          "base_uri": "https://localhost:8080/",
          "height": 265
        },
        "outputId": "3a808540-a433-4482-983c-d4f2b26a91e4"
      },
      "source": [
        "plt.plot(hist.history['accuracy'], 'b-', label=\"training\")\n",
        "plt.plot(hist.history['val_accuracy'], 'r:', label=\"test\")\n",
        "plt.legend()\n",
        "plt.show()"
      ],
      "execution_count": 26,
      "outputs": [
        {
          "output_type": "display_data",
          "data": {
            "image/png": "[encoded data removed]",
            "text/plain": [
              "<Figure size 432x288 with 1 Axes>"
            ]
          },
          "metadata": {
            "needs_background": "light"
          }
        }
      ]
    },
    {
      "cell_type": "markdown",
      "metadata": {
        "id": "R6pUmTTR3fsI"
      },
      "source": [
        "## 가중치 정보"
      ]
    },
    {
      "cell_type": "markdown",
      "metadata": {
        "id": "b6PeV3Yk3fsJ"
      },
      "source": [
        "> 트레이닝이 끝난 모형의 가중치 정보는 get_weights 메서드로 구할 수 있다. 이 메서드는 w 값과 b 값을 출력한다.\n",
        "- w: weights\n",
        "- b: bias"
      ]
    },
    {
      "cell_type": "code",
      "metadata": {
        "id": "ZWfw5Z_F3fsK",
        "colab": {
          "base_uri": "https://localhost:8080/"
        },
        "outputId": "dde410b9-df98-4489-e23f-76e287925fb0"
      },
      "source": [
        "w1 = l1.get_weights()  # 784*16 + 16 = 12560\n",
        "w1[0].shape, w1[1].shape"
      ],
      "execution_count": 27,
      "outputs": [
        {
          "output_type": "execute_result",
          "data": {
            "text/plain": [
              "((784, 16), (16,))"
            ]
          },
          "metadata": {},
          "execution_count": 27
        }
      ]
    },
    {
      "cell_type": "code",
      "metadata": {
        "id": "S9tVnYoX3fsN",
        "colab": {
          "base_uri": "https://localhost:8080/"
        },
        "outputId": "492cbac1-ae1e-4308-8a36-26323eb77480"
      },
      "source": [
        "w2 = l2.get_weights()  # 16*10 + 10 = 170\n",
        "w2[0].shape, w2[1].shape"
      ],
      "execution_count": 28,
      "outputs": [
        {
          "output_type": "execute_result",
          "data": {
            "text/plain": [
              "((16, 10), (10,))"
            ]
          },
          "metadata": {},
          "execution_count": 28
        }
      ]
    },
    {
      "cell_type": "markdown",
      "metadata": {
        "id": "iaRWl02D3fsR"
      },
      "source": [
        "## 모형의 사용\n",
        "\n",
        "> 트레이닝이 끝난 모형은 predict 메서드로 y 값을 출력하거나 출력된 y값을 각 클래스에 대한 판별함수로 가정하고 predict_classes 메서드로 classification을 할 수 있다."
      ]
    },
    {
      "cell_type": "code",
      "metadata": {
        "id": "3-ShrKKV3fsS",
        "colab": {
          "base_uri": "https://localhost:8080/",
          "height": 143
        },
        "outputId": "57a2150c-7241-4f95-f127-fe4e16bb10e3"
      },
      "source": [
        "plt.figure(figsize=(2, 2))\n",
        "plt.imshow(X_test0[0], cmap='gray')\n",
        "plt.grid(False)\n",
        "plt.xticks([])\n",
        "plt.yticks([])\n",
        "plt.show()"
      ],
      "execution_count": 29,
      "outputs": [
        {
          "output_type": "display_data",
          "data": {
            "image/png": "[encoded data removed]",
            "text/plain": [
              "<Figure size 144x144 with 1 Axes>"
            ]
          },
          "metadata": {}
        }
      ]
    },
    {
      "cell_type": "code",
      "metadata": {
        "id": "sW4jz1rjPzgo",
        "colab": {
          "base_uri": "https://localhost:8080/"
        },
        "outputId": "0f27c781-55c9-470a-b899-875844932e50"
      },
      "source": [
        "X_test[:1, :].shape"
      ],
      "execution_count": 30,
      "outputs": [
        {
          "output_type": "execute_result",
          "data": {
            "text/plain": [
              "(1, 784)"
            ]
          },
          "metadata": {},
          "execution_count": 30
        }
      ]
    },
    {
      "cell_type": "code",
      "metadata": {
        "id": "n1SG0Okg3fsV",
        "colab": {
          "base_uri": "https://localhost:8080/"
        },
        "outputId": "85ab84d5-2737-4393-b093-32f5ee1ae167"
      },
      "source": [
        "model.predict(X_test[:1, :])  # Probabilitic prediction viq one-hot encoding of labels"
      ],
      "execution_count": 31,
      "outputs": [
        {
          "output_type": "execute_result",
          "data": {
            "text/plain": [
              "array([[1.0601316e-05, 9.5788926e-07, 6.7467411e-04, 1.2095111e-03,\n",
              "        1.8307845e-05, 3.2489237e-04, 2.9510485e-07, 9.9699688e-01,\n",
              "        5.0967621e-05, 7.1292318e-04]], dtype=float32)"
            ]
          },
          "metadata": {},
          "execution_count": 31
        }
      ]
    },
    {
      "cell_type": "code",
      "metadata": {
        "id": "J40aL4ts3fsY",
        "colab": {
          "base_uri": "https://localhost:8080/"
        },
        "outputId": "75412236-aca1-4db9-b8be-3761fa5a4768"
      },
      "source": [
        "tf.argmax(model.predict(X_test[:1, :]),axis=1), np.argmax(model.predict(X_test[:1, :]),axis=1)"
      ],
      "execution_count": 32,
      "outputs": [
        {
          "output_type": "execute_result",
          "data": {
            "text/plain": [
              "(<tf.Tensor: shape=(1,), dtype=int64, numpy=array([7])>, array([7]))"
            ]
          },
          "metadata": {},
          "execution_count": 32
        }
      ]
    },
    {
      "cell_type": "markdown",
      "metadata": {
        "id": "IlSTBslCPWN5"
      },
      "source": [
        "### 테스트 데이터에 대한 예측 정확도 계산 "
      ]
    },
    {
      "cell_type": "code",
      "metadata": {
        "id": "IKnsqRtKPWN6",
        "colab": {
          "base_uri": "https://localhost:8080/"
        },
        "outputId": "445fdd24-27fb-44ac-978d-a34ee4dc7eaa"
      },
      "source": [
        "y_pred0 = model.predict(X_test, verbose=1)\n",
        "y_pred0[:5]"
      ],
      "execution_count": 33,
      "outputs": [
        {
          "output_type": "stream",
          "name": "stdout",
          "text": [
            "313/313 [==============================] - 1s 2ms/step\n"
          ]
        },
        {
          "output_type": "execute_result",
          "data": {
            "text/plain": [
              "array([[1.0601306e-05, 9.5788926e-07, 6.7467446e-04, 1.2095106e-03,\n",
              "        1.8307826e-05, 3.2489237e-04, 2.9510511e-07, 9.9699688e-01,\n",
              "        5.0967570e-05, 7.1292283e-04],\n",
              "       [5.2522275e-05, 7.4184249e-04, 9.8884982e-01, 3.3949853e-03,\n",
              "        3.2986637e-07, 2.8691234e-03, 1.1285018e-03, 6.8312538e-06,\n",
              "        2.9556672e-03, 4.5234427e-07],\n",
              "       [2.3125576e-06, 9.9688452e-01, 9.4868493e-04, 3.3292477e-04,\n",
              "        1.3384636e-05, 2.5221307e-04, 5.9419830e-04, 5.1273953e-04,\n",
              "        4.4906820e-04, 9.9302015e-06],\n",
              "       [9.9861228e-01, 3.0148344e-06, 2.3341048e-04, 3.0675784e-04,\n",
              "        9.5755206e-07, 4.3016323e-04, 1.6020876e-04, 1.1219905e-04,\n",
              "        7.7813471e-05, 6.3082007e-05],\n",
              "       [3.0874353e-04, 2.0216610e-05, 1.9944098e-03, 7.9576166e-06,\n",
              "        9.8138487e-01, 6.0730631e-04, 2.1138226e-03, 4.3473723e-03,\n",
              "        1.8330774e-03, 7.3820902e-03]], dtype=float32)"
            ]
          },
          "metadata": {},
          "execution_count": 33
        }
      ]
    },
    {
      "cell_type": "code",
      "metadata": {
        "id": "nZuSLtGuQ5Ds",
        "colab": {
          "base_uri": "https://localhost:8080/"
        },
        "outputId": "6060ea3b-4d6d-4e74-ae5b-2db333cc73bc"
      },
      "source": [
        "np.argmax(y_pred0[:5],axis=1)"
      ],
      "execution_count": 34,
      "outputs": [
        {
          "output_type": "execute_result",
          "data": {
            "text/plain": [
              "array([7, 2, 1, 0, 4])"
            ]
          },
          "metadata": {},
          "execution_count": 34
        }
      ]
    },
    {
      "cell_type": "code",
      "metadata": {
        "id": "DCPrM-b9RDuv"
      },
      "source": [
        "y_pred=np.argmax(y_pred0,axis=1)"
      ],
      "execution_count": 35,
      "outputs": []
    },
    {
      "cell_type": "code",
      "metadata": {
        "id": "TDAde7l2PWN9",
        "colab": {
          "base_uri": "https://localhost:8080/"
        },
        "outputId": "4287e93f-4aff-4da6-bb42-52b6ca4dd9bf"
      },
      "source": [
        "t_count = np.sum(y_pred == y_test0) # True positive\n",
        "f_count = np.sum(y_pred != y_test0) # False positive\n",
        "f_count==10000-t_count"
      ],
      "execution_count": 36,
      "outputs": [
        {
          "output_type": "execute_result",
          "data": {
            "text/plain": [
              "True"
            ]
          },
          "metadata": {},
          "execution_count": 36
        }
      ]
    },
    {
      "cell_type": "code",
      "metadata": {
        "id": "UMIbHVooPWOB",
        "colab": {
          "base_uri": "https://localhost:8080/"
        },
        "outputId": "3f19b6a2-a35b-4c7d-83af-53d47298bf7e"
      },
      "source": [
        "t_count,f_count"
      ],
      "execution_count": 37,
      "outputs": [
        {
          "output_type": "execute_result",
          "data": {
            "text/plain": [
              "(9472, 528)"
            ]
          },
          "metadata": {},
          "execution_count": 37
        }
      ]
    },
    {
      "cell_type": "code",
      "metadata": {
        "id": "qHFIPhUmPWOE",
        "colab": {
          "base_uri": "https://localhost:8080/"
        },
        "outputId": "48085ab5-8a21-4dd4-a106-66fe98eaec87"
      },
      "source": [
        "accuracy = t_count/10000*100\n",
        "accuracy"
      ],
      "execution_count": 38,
      "outputs": [
        {
          "output_type": "execute_result",
          "data": {
            "text/plain": [
              "94.72"
            ]
          },
          "metadata": {},
          "execution_count": 38
        }
      ]
    },
    {
      "cell_type": "markdown",
      "metadata": {
        "id": "ErT2qfh8PWOH"
      },
      "source": [
        "### Accuracy of predicting test numbers is around 95% in NN (neural network).\n",
        "- Good!!"
      ]
    },
    {
      "cell_type": "code",
      "metadata": {
        "id": "jtN7Lee4Vo6q",
        "colab": {
          "base_uri": "https://localhost:8080/"
        },
        "outputId": "1ae21ad0-d534-4a20-810b-bb116c075577"
      },
      "source": [
        "# see which we predicted correctly and which not\n",
        "correct_indices = np.nonzero(y_pred == y_test0)[0]\n",
        "incorrect_indices = np.nonzero(y_pred != y_test0)[0]\n",
        "print()\n",
        "print(len(correct_indices),\" classified correctly\")\n",
        "print(len(incorrect_indices),\" classified incorrectly\")"
      ],
      "execution_count": 39,
      "outputs": [
        {
          "output_type": "stream",
          "name": "stdout",
          "text": [
            "\n",
            "9472  classified correctly\n",
            "528  classified incorrectly\n"
          ]
        }
      ]
    },
    {
      "cell_type": "code",
      "metadata": {
        "id": "j0RPUxR2WKx-",
        "colab": {
          "base_uri": "https://localhost:8080/",
          "height": 811
        },
        "outputId": "72b5b4a0-40c3-447e-b886-54f5eec9ef81"
      },
      "source": [
        "# adapt figure size to accomodate 18 subplots\n",
        "plt.rcParams['figure.figsize'] = (7,14)\n",
        "\n",
        "figure_evaluation = plt.figure()\n",
        "\n",
        "# plot 9 correct predictions\n",
        "for i, correct in enumerate(correct_indices[:9]):\n",
        "    plt.subplot(6,3,i+1)\n",
        "    plt.imshow(X_test[correct].reshape(28,28), cmap='gray', interpolation='none')\n",
        "    plt.title(\n",
        "      \"Predicted: {}, Truth: {}\".format(y_pred[correct],\n",
        "                                        y_test0[correct]))\n",
        "    plt.xticks([])\n",
        "    plt.yticks([])\n",
        "\n",
        "# plot 9 incorrect predictions\n",
        "for i, incorrect in enumerate(incorrect_indices[:9]):\n",
        "    plt.subplot(6,3,i+10)\n",
        "    plt.imshow(X_test[incorrect].reshape(28,28), cmap='gray', interpolation='none')\n",
        "    plt.title(\n",
        "      \"Predicted {}, Truth: {}\".format(y_pred[incorrect], \n",
        "                                       y_test0[incorrect]))\n",
        "    plt.xticks([])\n",
        "    plt.yticks([])\n",
        "\n",
        "# figure_evaluation"
      ],
      "execution_count": 40,
      "outputs": [
        {
          "output_type": "display_data",
          "data": {
            "image/png": "[encoded data removed]",
            "text/plain": [
              "<Figure size 504x1008 with 18 Axes>"
            ]
          },
          "metadata": {}
        }
      ]
    },
    {
      "cell_type": "markdown",
      "metadata": {
        "id": "gBPKMI4y3fsa"
      },
      "source": [
        "## 모형의 저장\n",
        "\n",
        ">  트레이닝이 끝난 모형은 save 메서드로 가중치와 함께 hdf5 형식으로 저장하였다가 나중에 load 명령으로 불러 사용할 수 있다."
      ]
    },
    {
      "cell_type": "code",
      "metadata": {
        "id": "KCfbQl2v3fsa"
      },
      "source": [
        "model.save('model_NN_2layers_good.hdf5')\n",
        "# del model"
      ],
      "execution_count": 41,
      "outputs": []
    },
    {
      "cell_type": "code",
      "metadata": {
        "id": "b7-ysIVy3fse",
        "colab": {
          "base_uri": "https://localhost:8080/"
        },
        "outputId": "4d6b4cad-ee48-466e-b461-c5a7ae8f2928"
      },
      "source": [
        "from keras.models import load_model\n",
        "\n",
        "model2 = load_model('model_NN_2layers_good.hdf5')\n",
        "model2.predict(X_test[:1, :], verbose=0)\n",
        "np.argmax(model2.predict(X_test[:1, :], verbose=0),axis=1)"
      ],
      "execution_count": 42,
      "outputs": [
        {
          "output_type": "execute_result",
          "data": {
            "text/plain": [
              "array([7])"
            ]
          },
          "metadata": {},
          "execution_count": 42
        }
      ]
    },
    {
      "cell_type": "code",
      "metadata": {
        "id": "euLaPown3fsi",
        "colab": {
          "base_uri": "https://localhost:8080/"
        },
        "outputId": "ff2a38a2-a6d0-4ea1-ca8e-7ab7f3445573"
      },
      "source": [
        "# Predict of the first 10 test data\n",
        "np.argmax(model2.predict(X_test[:10, :], verbose=0),axis=1)"
      ],
      "execution_count": 43,
      "outputs": [
        {
          "output_type": "execute_result",
          "data": {
            "text/plain": [
              "array([7, 2, 1, 0, 4, 1, 4, 9, 6, 9])"
            ]
          },
          "metadata": {},
          "execution_count": 43
        }
      ]
    },
    {
      "cell_type": "markdown",
      "metadata": {
        "id": "hRL0bcIk3fst"
      },
      "source": [
        "### 저장된 모형을 이용하여 테스트 데이터에 대한 예측 정확도 계산 "
      ]
    },
    {
      "cell_type": "code",
      "metadata": {
        "id": "KPIoiMZC3fst",
        "colab": {
          "base_uri": "https://localhost:8080/"
        },
        "outputId": "e239eed6-d35d-4297-8d85-db8c3cebdeda"
      },
      "source": [
        "# Wrong prediction\n",
        "np.argmax(model2.predict(X_test[8:9, :], verbose=1),axis=1)"
      ],
      "execution_count": 44,
      "outputs": [
        {
          "output_type": "stream",
          "name": "stdout",
          "text": [
            "1/1 [==============================] - 0s 20ms/step\n"
          ]
        },
        {
          "output_type": "execute_result",
          "data": {
            "text/plain": [
              "array([6])"
            ]
          },
          "metadata": {},
          "execution_count": 44
        }
      ]
    },
    {
      "cell_type": "code",
      "metadata": {
        "id": "1A0mpUeg3fsy",
        "colab": {
          "base_uri": "https://localhost:8080/"
        },
        "outputId": "ee6d81a6-3dd2-4ee4-be53-7f74589f9f5c"
      },
      "source": [
        "y_test0[8]  # Compare the true value and the prediction."
      ],
      "execution_count": 45,
      "outputs": [
        {
          "output_type": "execute_result",
          "data": {
            "text/plain": [
              "5"
            ]
          },
          "metadata": {},
          "execution_count": 45
        }
      ]
    },
    {
      "cell_type": "code",
      "metadata": {
        "id": "M9zDSNI13fs1",
        "colab": {
          "base_uri": "https://localhost:8080/"
        },
        "outputId": "69daae44-7e7f-479d-fa76-d7cbdeda65a6"
      },
      "source": [
        "# 전체 테스트 데이터에 대한 예측\n",
        "x_pred = np.argmax(model2.predict(X_test, verbose=1, batch_size=100), axis=1)"
      ],
      "execution_count": 46,
      "outputs": [
        {
          "output_type": "stream",
          "name": "stdout",
          "text": [
            "100/100 [==============================] - 0s 2ms/step\n"
          ]
        }
      ]
    },
    {
      "cell_type": "code",
      "metadata": {
        "id": "QNEtpmQL3fs3",
        "colab": {
          "base_uri": "https://localhost:8080/"
        },
        "outputId": "c577b923-d6cf-4707-debe-e24f082612fc"
      },
      "source": [
        "t_count = np.sum(x_pred==y_test0) # True positive\n",
        "f_count = np.sum(x_pred!=y_test0) # False positive\n",
        "f_count==10000-t_count"
      ],
      "execution_count": 47,
      "outputs": [
        {
          "output_type": "execute_result",
          "data": {
            "text/plain": [
              "True"
            ]
          },
          "metadata": {},
          "execution_count": 47
        }
      ]
    },
    {
      "cell_type": "code",
      "metadata": {
        "id": "YaKHTNi43fs8",
        "colab": {
          "base_uri": "https://localhost:8080/"
        },
        "outputId": "4419ac30-138c-469f-f1cc-3dc9e937e42c"
      },
      "source": [
        "t_count,f_count"
      ],
      "execution_count": 48,
      "outputs": [
        {
          "output_type": "execute_result",
          "data": {
            "text/plain": [
              "(9472, 528)"
            ]
          },
          "metadata": {},
          "execution_count": 48
        }
      ]
    },
    {
      "cell_type": "code",
      "metadata": {
        "id": "aiDlchVL3fs-",
        "colab": {
          "base_uri": "https://localhost:8080/"
        },
        "outputId": "69bd8b91-b7bc-4b4b-9d67-d33694d0aa7b"
      },
      "source": [
        "accuracy = t_count/10000*100\n",
        "accuracy"
      ],
      "execution_count": 49,
      "outputs": [
        {
          "output_type": "execute_result",
          "data": {
            "text/plain": [
              "94.72"
            ]
          },
          "metadata": {},
          "execution_count": 49
        }
      ]
    },
    {
      "cell_type": "markdown",
      "metadata": {
        "id": "oUuN3t9XTpzO"
      },
      "source": [
        "### 모델 성능 평가\n",
        "- model.evaluate(X_test, y_test, batch_size)"
      ]
    },
    {
      "cell_type": "code",
      "metadata": {
        "id": "Wv3TNre7TO7Q",
        "colab": {
          "base_uri": "https://localhost:8080/"
        },
        "outputId": "0dbc433f-3c9f-4c96-909d-1035ade6d292"
      },
      "source": [
        "model.evaluate(X_test, y_test, batch_size=100)"
      ],
      "execution_count": 50,
      "outputs": [
        {
          "output_type": "stream",
          "name": "stdout",
          "text": [
            "100/100 [==============================] - 0s 3ms/step - loss: 0.1794 - accuracy: 0.9472\n"
          ]
        },
        {
          "output_type": "execute_result",
          "data": {
            "text/plain": [
              "[0.17937350273132324, 0.9472000002861023]"
            ]
          },
          "metadata": {},
          "execution_count": 50
        }
      ]
    },
    {
      "cell_type": "code",
      "metadata": {
        "id": "-t9pu0IET_tZ",
        "colab": {
          "base_uri": "https://localhost:8080/"
        },
        "outputId": "17cb1ff7-5a19-481b-816b-9191fcaca3cd"
      },
      "source": [
        "model2.evaluate(X_test, y_test, batch_size=100)"
      ],
      "execution_count": 51,
      "outputs": [
        {
          "output_type": "stream",
          "name": "stdout",
          "text": [
            "100/100 [==============================] - 0s 3ms/step - loss: 0.1794 - accuracy: 0.9472\n"
          ]
        },
        {
          "output_type": "execute_result",
          "data": {
            "text/plain": [
              "[0.17937350273132324, 0.9472000002861023]"
            ]
          },
          "metadata": {},
          "execution_count": 51
        }
      ]
    },
    {
      "cell_type": "markdown",
      "metadata": {
        "id": "MRK6YRJd3ftC"
      },
      "source": [
        "### Accuracy of predicting test numbers is around 95% in the good neural network model.\n",
        "\n",
        "> How to improve this model to the best model?\n",
        "- Change loss function\n",
        "- Change optimizer\n",
        "- Change activation\n",
        "- Change the number of neurons \n",
        "- Add new layers\n",
        "- Apply Dropout\n",
        "- ..."
      ]
    },
    {
      "cell_type": "markdown",
      "metadata": {
        "id": "6x1DNMB_Yxey"
      },
      "source": [
        "\n",
        "\n",
        "---\n",
        "\n"
      ]
    },
    {
      "cell_type": "code",
      "metadata": {
        "id": "bMO71GJI3ftC"
      },
      "source": [
        ""
      ],
      "execution_count": null,
      "outputs": []
    }
  ]
}